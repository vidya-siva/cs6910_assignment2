{
  "nbformat": 4,
  "nbformat_minor": 0,
  "metadata": {
    "colab": {
      "name": "finalcnn.ipynb",
      "provenance": [],
      "collapsed_sections": []
    },
    "kernelspec": {
      "name": "python3",
      "display_name": "Python 3"
    },
    "language_info": {
      "name": "python"
    },
    "accelerator": "GPU",
    "widgets": {
      "application/vnd.jupyter.widget-state+json": {
        "2a3e3b4330c9495eb940528f13c9fb46": {
          "model_module": "@jupyter-widgets/controls",
          "model_name": "VBoxModel",
          "model_module_version": "1.5.0",
          "state": {
            "_dom_classes": [],
            "_model_module": "@jupyter-widgets/controls",
            "_model_module_version": "1.5.0",
            "_model_name": "VBoxModel",
            "_view_count": null,
            "_view_module": "@jupyter-widgets/controls",
            "_view_module_version": "1.5.0",
            "_view_name": "VBoxView",
            "box_style": "",
            "children": [
              "IPY_MODEL_a178a308d3e14cc6a5ee09f28a63846e",
              "IPY_MODEL_ee6a62ec31d24575b4ad74965db8e39b"
            ],
            "layout": "IPY_MODEL_e3c9486c90274d7a93f666f483422595"
          }
        },
        "a178a308d3e14cc6a5ee09f28a63846e": {
          "model_module": "@jupyter-widgets/controls",
          "model_name": "LabelModel",
          "model_module_version": "1.5.0",
          "state": {
            "_dom_classes": [],
            "_model_module": "@jupyter-widgets/controls",
            "_model_module_version": "1.5.0",
            "_model_name": "LabelModel",
            "_view_count": null,
            "_view_module": "@jupyter-widgets/controls",
            "_view_module_version": "1.5.0",
            "_view_name": "LabelView",
            "description": "",
            "description_tooltip": null,
            "layout": "IPY_MODEL_a3952bcaddbd480e8ad908b42c7acc8a",
            "placeholder": "​",
            "style": "IPY_MODEL_1b0a4e028823419e853cda3801900c03",
            "value": "0.009 MB of 0.009 MB uploaded (0.000 MB deduped)\r"
          }
        },
        "ee6a62ec31d24575b4ad74965db8e39b": {
          "model_module": "@jupyter-widgets/controls",
          "model_name": "FloatProgressModel",
          "model_module_version": "1.5.0",
          "state": {
            "_dom_classes": [],
            "_model_module": "@jupyter-widgets/controls",
            "_model_module_version": "1.5.0",
            "_model_name": "FloatProgressModel",
            "_view_count": null,
            "_view_module": "@jupyter-widgets/controls",
            "_view_module_version": "1.5.0",
            "_view_name": "ProgressView",
            "bar_style": "",
            "description": "",
            "description_tooltip": null,
            "layout": "IPY_MODEL_89f8a4c10cf642b99810028468bad298",
            "max": 1,
            "min": 0,
            "orientation": "horizontal",
            "style": "IPY_MODEL_fd9328edefd046399f34ae2d492c7ab3",
            "value": 1
          }
        },
        "e3c9486c90274d7a93f666f483422595": {
          "model_module": "@jupyter-widgets/base",
          "model_name": "LayoutModel",
          "model_module_version": "1.2.0",
          "state": {
            "_model_module": "@jupyter-widgets/base",
            "_model_module_version": "1.2.0",
            "_model_name": "LayoutModel",
            "_view_count": null,
            "_view_module": "@jupyter-widgets/base",
            "_view_module_version": "1.2.0",
            "_view_name": "LayoutView",
            "align_content": null,
            "align_items": null,
            "align_self": null,
            "border": null,
            "bottom": null,
            "display": null,
            "flex": null,
            "flex_flow": null,
            "grid_area": null,
            "grid_auto_columns": null,
            "grid_auto_flow": null,
            "grid_auto_rows": null,
            "grid_column": null,
            "grid_gap": null,
            "grid_row": null,
            "grid_template_areas": null,
            "grid_template_columns": null,
            "grid_template_rows": null,
            "height": null,
            "justify_content": null,
            "justify_items": null,
            "left": null,
            "margin": null,
            "max_height": null,
            "max_width": null,
            "min_height": null,
            "min_width": null,
            "object_fit": null,
            "object_position": null,
            "order": null,
            "overflow": null,
            "overflow_x": null,
            "overflow_y": null,
            "padding": null,
            "right": null,
            "top": null,
            "visibility": null,
            "width": null
          }
        },
        "a3952bcaddbd480e8ad908b42c7acc8a": {
          "model_module": "@jupyter-widgets/base",
          "model_name": "LayoutModel",
          "model_module_version": "1.2.0",
          "state": {
            "_model_module": "@jupyter-widgets/base",
            "_model_module_version": "1.2.0",
            "_model_name": "LayoutModel",
            "_view_count": null,
            "_view_module": "@jupyter-widgets/base",
            "_view_module_version": "1.2.0",
            "_view_name": "LayoutView",
            "align_content": null,
            "align_items": null,
            "align_self": null,
            "border": null,
            "bottom": null,
            "display": null,
            "flex": null,
            "flex_flow": null,
            "grid_area": null,
            "grid_auto_columns": null,
            "grid_auto_flow": null,
            "grid_auto_rows": null,
            "grid_column": null,
            "grid_gap": null,
            "grid_row": null,
            "grid_template_areas": null,
            "grid_template_columns": null,
            "grid_template_rows": null,
            "height": null,
            "justify_content": null,
            "justify_items": null,
            "left": null,
            "margin": null,
            "max_height": null,
            "max_width": null,
            "min_height": null,
            "min_width": null,
            "object_fit": null,
            "object_position": null,
            "order": null,
            "overflow": null,
            "overflow_x": null,
            "overflow_y": null,
            "padding": null,
            "right": null,
            "top": null,
            "visibility": null,
            "width": null
          }
        },
        "1b0a4e028823419e853cda3801900c03": {
          "model_module": "@jupyter-widgets/controls",
          "model_name": "DescriptionStyleModel",
          "model_module_version": "1.5.0",
          "state": {
            "_model_module": "@jupyter-widgets/controls",
            "_model_module_version": "1.5.0",
            "_model_name": "DescriptionStyleModel",
            "_view_count": null,
            "_view_module": "@jupyter-widgets/base",
            "_view_module_version": "1.2.0",
            "_view_name": "StyleView",
            "description_width": ""
          }
        },
        "89f8a4c10cf642b99810028468bad298": {
          "model_module": "@jupyter-widgets/base",
          "model_name": "LayoutModel",
          "model_module_version": "1.2.0",
          "state": {
            "_model_module": "@jupyter-widgets/base",
            "_model_module_version": "1.2.0",
            "_model_name": "LayoutModel",
            "_view_count": null,
            "_view_module": "@jupyter-widgets/base",
            "_view_module_version": "1.2.0",
            "_view_name": "LayoutView",
            "align_content": null,
            "align_items": null,
            "align_self": null,
            "border": null,
            "bottom": null,
            "display": null,
            "flex": null,
            "flex_flow": null,
            "grid_area": null,
            "grid_auto_columns": null,
            "grid_auto_flow": null,
            "grid_auto_rows": null,
            "grid_column": null,
            "grid_gap": null,
            "grid_row": null,
            "grid_template_areas": null,
            "grid_template_columns": null,
            "grid_template_rows": null,
            "height": null,
            "justify_content": null,
            "justify_items": null,
            "left": null,
            "margin": null,
            "max_height": null,
            "max_width": null,
            "min_height": null,
            "min_width": null,
            "object_fit": null,
            "object_position": null,
            "order": null,
            "overflow": null,
            "overflow_x": null,
            "overflow_y": null,
            "padding": null,
            "right": null,
            "top": null,
            "visibility": null,
            "width": null
          }
        },
        "fd9328edefd046399f34ae2d492c7ab3": {
          "model_module": "@jupyter-widgets/controls",
          "model_name": "ProgressStyleModel",
          "model_module_version": "1.5.0",
          "state": {
            "_model_module": "@jupyter-widgets/controls",
            "_model_module_version": "1.5.0",
            "_model_name": "ProgressStyleModel",
            "_view_count": null,
            "_view_module": "@jupyter-widgets/base",
            "_view_module_version": "1.2.0",
            "_view_name": "StyleView",
            "bar_color": null,
            "description_width": ""
          }
        },
        "aa30b096c5a042aa98d8d14028df69cf": {
          "model_module": "@jupyter-widgets/controls",
          "model_name": "VBoxModel",
          "model_module_version": "1.5.0",
          "state": {
            "_dom_classes": [],
            "_model_module": "@jupyter-widgets/controls",
            "_model_module_version": "1.5.0",
            "_model_name": "VBoxModel",
            "_view_count": null,
            "_view_module": "@jupyter-widgets/controls",
            "_view_module_version": "1.5.0",
            "_view_name": "VBoxView",
            "box_style": "",
            "children": [
              "IPY_MODEL_1ec6228cd7624ebc82a8473fd793ad64",
              "IPY_MODEL_35ebe4f3c2dd473aa4f817a570b89705"
            ],
            "layout": "IPY_MODEL_da40fb821079460bb754d380a1469ea4"
          }
        },
        "1ec6228cd7624ebc82a8473fd793ad64": {
          "model_module": "@jupyter-widgets/controls",
          "model_name": "LabelModel",
          "model_module_version": "1.5.0",
          "state": {
            "_dom_classes": [],
            "_model_module": "@jupyter-widgets/controls",
            "_model_module_version": "1.5.0",
            "_model_name": "LabelModel",
            "_view_count": null,
            "_view_module": "@jupyter-widgets/controls",
            "_view_module_version": "1.5.0",
            "_view_name": "LabelView",
            "description": "",
            "description_tooltip": null,
            "layout": "IPY_MODEL_a13969781a9d4e91add823f1b3ee1af1",
            "placeholder": "​",
            "style": "IPY_MODEL_ce4c9d07fb32453aa8fbf4e470c46312",
            "value": "0.683 MB of 0.683 MB uploaded (0.000 MB deduped)\r"
          }
        },
        "35ebe4f3c2dd473aa4f817a570b89705": {
          "model_module": "@jupyter-widgets/controls",
          "model_name": "FloatProgressModel",
          "model_module_version": "1.5.0",
          "state": {
            "_dom_classes": [],
            "_model_module": "@jupyter-widgets/controls",
            "_model_module_version": "1.5.0",
            "_model_name": "FloatProgressModel",
            "_view_count": null,
            "_view_module": "@jupyter-widgets/controls",
            "_view_module_version": "1.5.0",
            "_view_name": "ProgressView",
            "bar_style": "",
            "description": "",
            "description_tooltip": null,
            "layout": "IPY_MODEL_5b64ae470d2f4e3981934050e0bfcd96",
            "max": 1,
            "min": 0,
            "orientation": "horizontal",
            "style": "IPY_MODEL_f360cebc2da74ef89cca1af92ddbc40b",
            "value": 1
          }
        },
        "da40fb821079460bb754d380a1469ea4": {
          "model_module": "@jupyter-widgets/base",
          "model_name": "LayoutModel",
          "model_module_version": "1.2.0",
          "state": {
            "_model_module": "@jupyter-widgets/base",
            "_model_module_version": "1.2.0",
            "_model_name": "LayoutModel",
            "_view_count": null,
            "_view_module": "@jupyter-widgets/base",
            "_view_module_version": "1.2.0",
            "_view_name": "LayoutView",
            "align_content": null,
            "align_items": null,
            "align_self": null,
            "border": null,
            "bottom": null,
            "display": null,
            "flex": null,
            "flex_flow": null,
            "grid_area": null,
            "grid_auto_columns": null,
            "grid_auto_flow": null,
            "grid_auto_rows": null,
            "grid_column": null,
            "grid_gap": null,
            "grid_row": null,
            "grid_template_areas": null,
            "grid_template_columns": null,
            "grid_template_rows": null,
            "height": null,
            "justify_content": null,
            "justify_items": null,
            "left": null,
            "margin": null,
            "max_height": null,
            "max_width": null,
            "min_height": null,
            "min_width": null,
            "object_fit": null,
            "object_position": null,
            "order": null,
            "overflow": null,
            "overflow_x": null,
            "overflow_y": null,
            "padding": null,
            "right": null,
            "top": null,
            "visibility": null,
            "width": null
          }
        },
        "a13969781a9d4e91add823f1b3ee1af1": {
          "model_module": "@jupyter-widgets/base",
          "model_name": "LayoutModel",
          "model_module_version": "1.2.0",
          "state": {
            "_model_module": "@jupyter-widgets/base",
            "_model_module_version": "1.2.0",
            "_model_name": "LayoutModel",
            "_view_count": null,
            "_view_module": "@jupyter-widgets/base",
            "_view_module_version": "1.2.0",
            "_view_name": "LayoutView",
            "align_content": null,
            "align_items": null,
            "align_self": null,
            "border": null,
            "bottom": null,
            "display": null,
            "flex": null,
            "flex_flow": null,
            "grid_area": null,
            "grid_auto_columns": null,
            "grid_auto_flow": null,
            "grid_auto_rows": null,
            "grid_column": null,
            "grid_gap": null,
            "grid_row": null,
            "grid_template_areas": null,
            "grid_template_columns": null,
            "grid_template_rows": null,
            "height": null,
            "justify_content": null,
            "justify_items": null,
            "left": null,
            "margin": null,
            "max_height": null,
            "max_width": null,
            "min_height": null,
            "min_width": null,
            "object_fit": null,
            "object_position": null,
            "order": null,
            "overflow": null,
            "overflow_x": null,
            "overflow_y": null,
            "padding": null,
            "right": null,
            "top": null,
            "visibility": null,
            "width": null
          }
        },
        "ce4c9d07fb32453aa8fbf4e470c46312": {
          "model_module": "@jupyter-widgets/controls",
          "model_name": "DescriptionStyleModel",
          "model_module_version": "1.5.0",
          "state": {
            "_model_module": "@jupyter-widgets/controls",
            "_model_module_version": "1.5.0",
            "_model_name": "DescriptionStyleModel",
            "_view_count": null,
            "_view_module": "@jupyter-widgets/base",
            "_view_module_version": "1.2.0",
            "_view_name": "StyleView",
            "description_width": ""
          }
        },
        "5b64ae470d2f4e3981934050e0bfcd96": {
          "model_module": "@jupyter-widgets/base",
          "model_name": "LayoutModel",
          "model_module_version": "1.2.0",
          "state": {
            "_model_module": "@jupyter-widgets/base",
            "_model_module_version": "1.2.0",
            "_model_name": "LayoutModel",
            "_view_count": null,
            "_view_module": "@jupyter-widgets/base",
            "_view_module_version": "1.2.0",
            "_view_name": "LayoutView",
            "align_content": null,
            "align_items": null,
            "align_self": null,
            "border": null,
            "bottom": null,
            "display": null,
            "flex": null,
            "flex_flow": null,
            "grid_area": null,
            "grid_auto_columns": null,
            "grid_auto_flow": null,
            "grid_auto_rows": null,
            "grid_column": null,
            "grid_gap": null,
            "grid_row": null,
            "grid_template_areas": null,
            "grid_template_columns": null,
            "grid_template_rows": null,
            "height": null,
            "justify_content": null,
            "justify_items": null,
            "left": null,
            "margin": null,
            "max_height": null,
            "max_width": null,
            "min_height": null,
            "min_width": null,
            "object_fit": null,
            "object_position": null,
            "order": null,
            "overflow": null,
            "overflow_x": null,
            "overflow_y": null,
            "padding": null,
            "right": null,
            "top": null,
            "visibility": null,
            "width": null
          }
        },
        "f360cebc2da74ef89cca1af92ddbc40b": {
          "model_module": "@jupyter-widgets/controls",
          "model_name": "ProgressStyleModel",
          "model_module_version": "1.5.0",
          "state": {
            "_model_module": "@jupyter-widgets/controls",
            "_model_module_version": "1.5.0",
            "_model_name": "ProgressStyleModel",
            "_view_count": null,
            "_view_module": "@jupyter-widgets/base",
            "_view_module_version": "1.2.0",
            "_view_name": "StyleView",
            "bar_color": null,
            "description_width": ""
          }
        },
        "d096c8b514504b029f31859611520031": {
          "model_module": "@jupyter-widgets/controls",
          "model_name": "VBoxModel",
          "model_module_version": "1.5.0",
          "state": {
            "_dom_classes": [],
            "_model_module": "@jupyter-widgets/controls",
            "_model_module_version": "1.5.0",
            "_model_name": "VBoxModel",
            "_view_count": null,
            "_view_module": "@jupyter-widgets/controls",
            "_view_module_version": "1.5.0",
            "_view_name": "VBoxView",
            "box_style": "",
            "children": [
              "IPY_MODEL_c498468a3e114d94845666d49f0ae8be",
              "IPY_MODEL_ba4e41a83fce4b4aadef95ad2bf5e7bb"
            ],
            "layout": "IPY_MODEL_35ad4456a8f441f9b905aec2bd2509c8"
          }
        },
        "c498468a3e114d94845666d49f0ae8be": {
          "model_module": "@jupyter-widgets/controls",
          "model_name": "LabelModel",
          "model_module_version": "1.5.0",
          "state": {
            "_dom_classes": [],
            "_model_module": "@jupyter-widgets/controls",
            "_model_module_version": "1.5.0",
            "_model_name": "LabelModel",
            "_view_count": null,
            "_view_module": "@jupyter-widgets/controls",
            "_view_module_version": "1.5.0",
            "_view_name": "LabelView",
            "description": "",
            "description_tooltip": null,
            "layout": "IPY_MODEL_1d6fa3ae8b1d4e86bbc08ae61b2310ba",
            "placeholder": "​",
            "style": "IPY_MODEL_67c9fd19a8c94bf2b9bc414f793f1ae1",
            "value": "0.009 MB of 0.009 MB uploaded (0.000 MB deduped)\r"
          }
        },
        "ba4e41a83fce4b4aadef95ad2bf5e7bb": {
          "model_module": "@jupyter-widgets/controls",
          "model_name": "FloatProgressModel",
          "model_module_version": "1.5.0",
          "state": {
            "_dom_classes": [],
            "_model_module": "@jupyter-widgets/controls",
            "_model_module_version": "1.5.0",
            "_model_name": "FloatProgressModel",
            "_view_count": null,
            "_view_module": "@jupyter-widgets/controls",
            "_view_module_version": "1.5.0",
            "_view_name": "ProgressView",
            "bar_style": "",
            "description": "",
            "description_tooltip": null,
            "layout": "IPY_MODEL_4857370be02949d386e5d2a59eb867fe",
            "max": 1,
            "min": 0,
            "orientation": "horizontal",
            "style": "IPY_MODEL_7df91843b1034aa981ff53beb1bc0360",
            "value": 1
          }
        },
        "35ad4456a8f441f9b905aec2bd2509c8": {
          "model_module": "@jupyter-widgets/base",
          "model_name": "LayoutModel",
          "model_module_version": "1.2.0",
          "state": {
            "_model_module": "@jupyter-widgets/base",
            "_model_module_version": "1.2.0",
            "_model_name": "LayoutModel",
            "_view_count": null,
            "_view_module": "@jupyter-widgets/base",
            "_view_module_version": "1.2.0",
            "_view_name": "LayoutView",
            "align_content": null,
            "align_items": null,
            "align_self": null,
            "border": null,
            "bottom": null,
            "display": null,
            "flex": null,
            "flex_flow": null,
            "grid_area": null,
            "grid_auto_columns": null,
            "grid_auto_flow": null,
            "grid_auto_rows": null,
            "grid_column": null,
            "grid_gap": null,
            "grid_row": null,
            "grid_template_areas": null,
            "grid_template_columns": null,
            "grid_template_rows": null,
            "height": null,
            "justify_content": null,
            "justify_items": null,
            "left": null,
            "margin": null,
            "max_height": null,
            "max_width": null,
            "min_height": null,
            "min_width": null,
            "object_fit": null,
            "object_position": null,
            "order": null,
            "overflow": null,
            "overflow_x": null,
            "overflow_y": null,
            "padding": null,
            "right": null,
            "top": null,
            "visibility": null,
            "width": null
          }
        },
        "1d6fa3ae8b1d4e86bbc08ae61b2310ba": {
          "model_module": "@jupyter-widgets/base",
          "model_name": "LayoutModel",
          "model_module_version": "1.2.0",
          "state": {
            "_model_module": "@jupyter-widgets/base",
            "_model_module_version": "1.2.0",
            "_model_name": "LayoutModel",
            "_view_count": null,
            "_view_module": "@jupyter-widgets/base",
            "_view_module_version": "1.2.0",
            "_view_name": "LayoutView",
            "align_content": null,
            "align_items": null,
            "align_self": null,
            "border": null,
            "bottom": null,
            "display": null,
            "flex": null,
            "flex_flow": null,
            "grid_area": null,
            "grid_auto_columns": null,
            "grid_auto_flow": null,
            "grid_auto_rows": null,
            "grid_column": null,
            "grid_gap": null,
            "grid_row": null,
            "grid_template_areas": null,
            "grid_template_columns": null,
            "grid_template_rows": null,
            "height": null,
            "justify_content": null,
            "justify_items": null,
            "left": null,
            "margin": null,
            "max_height": null,
            "max_width": null,
            "min_height": null,
            "min_width": null,
            "object_fit": null,
            "object_position": null,
            "order": null,
            "overflow": null,
            "overflow_x": null,
            "overflow_y": null,
            "padding": null,
            "right": null,
            "top": null,
            "visibility": null,
            "width": null
          }
        },
        "67c9fd19a8c94bf2b9bc414f793f1ae1": {
          "model_module": "@jupyter-widgets/controls",
          "model_name": "DescriptionStyleModel",
          "model_module_version": "1.5.0",
          "state": {
            "_model_module": "@jupyter-widgets/controls",
            "_model_module_version": "1.5.0",
            "_model_name": "DescriptionStyleModel",
            "_view_count": null,
            "_view_module": "@jupyter-widgets/base",
            "_view_module_version": "1.2.0",
            "_view_name": "StyleView",
            "description_width": ""
          }
        },
        "4857370be02949d386e5d2a59eb867fe": {
          "model_module": "@jupyter-widgets/base",
          "model_name": "LayoutModel",
          "model_module_version": "1.2.0",
          "state": {
            "_model_module": "@jupyter-widgets/base",
            "_model_module_version": "1.2.0",
            "_model_name": "LayoutModel",
            "_view_count": null,
            "_view_module": "@jupyter-widgets/base",
            "_view_module_version": "1.2.0",
            "_view_name": "LayoutView",
            "align_content": null,
            "align_items": null,
            "align_self": null,
            "border": null,
            "bottom": null,
            "display": null,
            "flex": null,
            "flex_flow": null,
            "grid_area": null,
            "grid_auto_columns": null,
            "grid_auto_flow": null,
            "grid_auto_rows": null,
            "grid_column": null,
            "grid_gap": null,
            "grid_row": null,
            "grid_template_areas": null,
            "grid_template_columns": null,
            "grid_template_rows": null,
            "height": null,
            "justify_content": null,
            "justify_items": null,
            "left": null,
            "margin": null,
            "max_height": null,
            "max_width": null,
            "min_height": null,
            "min_width": null,
            "object_fit": null,
            "object_position": null,
            "order": null,
            "overflow": null,
            "overflow_x": null,
            "overflow_y": null,
            "padding": null,
            "right": null,
            "top": null,
            "visibility": null,
            "width": null
          }
        },
        "7df91843b1034aa981ff53beb1bc0360": {
          "model_module": "@jupyter-widgets/controls",
          "model_name": "ProgressStyleModel",
          "model_module_version": "1.5.0",
          "state": {
            "_model_module": "@jupyter-widgets/controls",
            "_model_module_version": "1.5.0",
            "_model_name": "ProgressStyleModel",
            "_view_count": null,
            "_view_module": "@jupyter-widgets/base",
            "_view_module_version": "1.2.0",
            "_view_name": "StyleView",
            "bar_color": null,
            "description_width": ""
          }
        }
      }
    }
  },
  "cells": [
    {
      "cell_type": "markdown",
      "source": [
        "Mount Your Drive to access the DataSet"
      ],
      "metadata": {
        "id": "lfTKccy1m7Ob"
      }
    },
    {
      "cell_type": "code",
      "execution_count": null,
      "metadata": {
        "id": "XJFq0HppH1Me",
        "colab": {
          "base_uri": "https://localhost:8080/"
        },
        "outputId": "8ac20b7b-d0be-453d-9357-40df3b24d5ad"
      },
      "outputs": [
        {
          "output_type": "stream",
          "name": "stdout",
          "text": [
            "Mounted at /content/drive/\n"
          ]
        }
      ],
      "source": [
        "from google.colab import drive\n",
        "drive.mount('/content/drive/')"
      ]
    },
    {
      "cell_type": "code",
      "source": [
        "!pip install wandb --upgrade"
      ],
      "metadata": {
        "id": "96HOpsUIVR7G",
        "colab": {
          "base_uri": "https://localhost:8080/"
        },
        "outputId": "59270424-42a8-453e-a883-4afa9dfd29d3"
      },
      "execution_count": null,
      "outputs": [
        {
          "output_type": "stream",
          "name": "stdout",
          "text": [
            "Collecting wandb\n",
            "  Downloading wandb-0.12.11-py2.py3-none-any.whl (1.7 MB)\n",
            "\u001b[K     |████████████████████████████████| 1.7 MB 5.1 MB/s \n",
            "\u001b[?25hCollecting sentry-sdk>=1.0.0\n",
            "  Downloading sentry_sdk-1.5.8-py2.py3-none-any.whl (144 kB)\n",
            "\u001b[K     |████████████████████████████████| 144 kB 58.4 MB/s \n",
            "\u001b[?25hRequirement already satisfied: six>=1.13.0 in /usr/local/lib/python3.7/dist-packages (from wandb) (1.15.0)\n",
            "Requirement already satisfied: python-dateutil>=2.6.1 in /usr/local/lib/python3.7/dist-packages (from wandb) (2.8.2)\n",
            "Requirement already satisfied: requests<3,>=2.0.0 in /usr/local/lib/python3.7/dist-packages (from wandb) (2.23.0)\n",
            "Requirement already satisfied: promise<3,>=2.0 in /usr/local/lib/python3.7/dist-packages (from wandb) (2.3)\n",
            "Collecting docker-pycreds>=0.4.0\n",
            "  Downloading docker_pycreds-0.4.0-py2.py3-none-any.whl (9.0 kB)\n",
            "Requirement already satisfied: psutil>=5.0.0 in /usr/local/lib/python3.7/dist-packages (from wandb) (5.4.8)\n",
            "Collecting shortuuid>=0.5.0\n",
            "  Downloading shortuuid-1.0.8-py3-none-any.whl (9.5 kB)\n",
            "Collecting GitPython>=1.0.0\n",
            "  Downloading GitPython-3.1.27-py3-none-any.whl (181 kB)\n",
            "\u001b[K     |████████████████████████████████| 181 kB 66.4 MB/s \n",
            "\u001b[?25hRequirement already satisfied: Click!=8.0.0,>=7.0 in /usr/local/lib/python3.7/dist-packages (from wandb) (7.1.2)\n",
            "Requirement already satisfied: PyYAML in /usr/local/lib/python3.7/dist-packages (from wandb) (3.13)\n",
            "Collecting yaspin>=1.0.0\n",
            "  Downloading yaspin-2.1.0-py3-none-any.whl (18 kB)\n",
            "Requirement already satisfied: protobuf>=3.12.0 in /usr/local/lib/python3.7/dist-packages (from wandb) (3.17.3)\n",
            "Collecting setproctitle\n",
            "  Downloading setproctitle-1.2.2-cp37-cp37m-manylinux1_x86_64.whl (36 kB)\n",
            "Collecting pathtools\n",
            "  Downloading pathtools-0.1.2.tar.gz (11 kB)\n",
            "Requirement already satisfied: typing-extensions>=3.7.4.3 in /usr/local/lib/python3.7/dist-packages (from GitPython>=1.0.0->wandb) (3.10.0.2)\n",
            "Collecting gitdb<5,>=4.0.1\n",
            "  Downloading gitdb-4.0.9-py3-none-any.whl (63 kB)\n",
            "\u001b[K     |████████████████████████████████| 63 kB 1.7 MB/s \n",
            "\u001b[?25hCollecting smmap<6,>=3.0.1\n",
            "  Downloading smmap-5.0.0-py3-none-any.whl (24 kB)\n",
            "Requirement already satisfied: chardet<4,>=3.0.2 in /usr/local/lib/python3.7/dist-packages (from requests<3,>=2.0.0->wandb) (3.0.4)\n",
            "Requirement already satisfied: idna<3,>=2.5 in /usr/local/lib/python3.7/dist-packages (from requests<3,>=2.0.0->wandb) (2.10)\n",
            "Requirement already satisfied: urllib3!=1.25.0,!=1.25.1,<1.26,>=1.21.1 in /usr/local/lib/python3.7/dist-packages (from requests<3,>=2.0.0->wandb) (1.24.3)\n",
            "Requirement already satisfied: certifi>=2017.4.17 in /usr/local/lib/python3.7/dist-packages (from requests<3,>=2.0.0->wandb) (2021.10.8)\n",
            "Requirement already satisfied: termcolor<2.0.0,>=1.1.0 in /usr/local/lib/python3.7/dist-packages (from yaspin>=1.0.0->wandb) (1.1.0)\n",
            "Building wheels for collected packages: pathtools\n",
            "  Building wheel for pathtools (setup.py) ... \u001b[?25l\u001b[?25hdone\n",
            "  Created wheel for pathtools: filename=pathtools-0.1.2-py3-none-any.whl size=8806 sha256=8e5053a7bddb98d3ebca35c1b678b2796a1875e9b44bf6e8f010cba10fc48fd4\n",
            "  Stored in directory: /root/.cache/pip/wheels/3e/31/09/fa59cef12cdcfecc627b3d24273699f390e71828921b2cbba2\n",
            "Successfully built pathtools\n",
            "Installing collected packages: smmap, gitdb, yaspin, shortuuid, setproctitle, sentry-sdk, pathtools, GitPython, docker-pycreds, wandb\n",
            "Successfully installed GitPython-3.1.27 docker-pycreds-0.4.0 gitdb-4.0.9 pathtools-0.1.2 sentry-sdk-1.5.8 setproctitle-1.2.2 shortuuid-1.0.8 smmap-5.0.0 wandb-0.12.11 yaspin-2.1.0\n"
          ]
        }
      ]
    },
    {
      "cell_type": "code",
      "source": [
        "#Importing all the packages\n",
        "from numpy import unique, argmax\n",
        "%tensorflow_version 2.x\n",
        "import tensorflow as tf\n",
        "from tensorflow.keras.datasets.mnist import load_data\n",
        "from tensorflow.keras import Sequential\n",
        "from tensorflow.keras.layers import Conv2D, MaxPool2D, Dense, Flatten, Dropout, Activation, Rescaling,BatchNormalization\n",
        "from tensorflow.keras.utils import plot_model\n",
        "from tensorflow.keras.preprocessing import image_dataset_from_directory\n",
        "from tensorflow.keras.preprocessing.image import ImageDataGenerator\n",
        "from tensorflow.keras.layers.experimental.preprocessing import Rescaling\n",
        "from tensorflow.keras import layers\n",
        "import timeit\n",
        "from matplotlib import pyplot\n",
        "import matplotlib.pyplot as plt\n",
        "import numpy as np\n",
        "import cv2 \n",
        "import os\n",
        "import random\n",
        "import pickle\n",
        "from PIL import Image\n",
        "import pathlib\n",
        "import wandb"
      ],
      "metadata": {
        "id": "qY3UzkXVJ492"
      },
      "execution_count": null,
      "outputs": []
    },
    {
      "cell_type": "code",
      "source": [
        "# We run this to warm up;\n",
        "device_name = tf.test.gpu_device_name()\n",
        "if device_name != '/device:GPU:0':\n",
        "  print(\n",
        "      '\\n\\nThis error states that this notebook is not '\n",
        "      'configured to use a GPU. Change this in the notebook Settings via the Runtime type or  '\n",
        "      'command palette (cmd/ctrl-shift-P) or the Edit menu .\\n\\n')\n",
        "  raise SystemError('GPU device not found')\n",
        "\n",
        "def cpu():\n",
        "  with tf.device('/cpu:0'):\n",
        "    random_image_cpu = tf.random.normal((100, 100, 100, 3))\n",
        "    net_cpu = tf.keras.layers.Conv2D(32, 7)(random_image_cpu)\n",
        "    return tf.math.reduce_sum(net_cpu)\n",
        "\n",
        "def gpu():\n",
        "  with tf.device('/device:GPU:0'):\n",
        "    random_image_gpu = tf.random.normal((100, 100, 100, 3))\n",
        "    net_gpu = tf.keras.layers.Conv2D(32, 7)(random_image_gpu)\n",
        "    return tf.math.reduce_sum(net_gpu)\n",
        "\n",
        "cpu()\n",
        "gpu()\n",
        "\n",
        "# Run the op several times.\n",
        "print('CPU (s):')\n",
        "cpu_time = timeit.timeit('cpu()', number=10, setup=\"from __main__ import cpu\")\n",
        "print(cpu_time)\n",
        "print('GPU (s):')\n",
        "gpu_time = timeit.timeit('gpu()', number=10, setup=\"from __main__ import gpu\")\n",
        "print(gpu_time)\n",
        "print('GPU speedup over CPU: {}x'.format(int(cpu_time/gpu_time)))"
      ],
      "metadata": {
        "colab": {
          "base_uri": "https://localhost:8080/",
          "height": 322
        },
        "id": "crIcAWJSmhmf",
        "outputId": "44710361-d505-4914-fbc5-e1b7def60421"
      },
      "execution_count": null,
      "outputs": [
        {
          "output_type": "stream",
          "name": "stdout",
          "text": [
            "\n",
            "\n",
            "This error states that this notebook is not configured to use a GPU. Change this in the notebook Settings via the Runtime type or  command palette (cmd/ctrl-shift-P) or the Edit menu .\n",
            "\n",
            "\n"
          ]
        },
        {
          "output_type": "error",
          "ename": "SystemError",
          "evalue": "ignored",
          "traceback": [
            "\u001b[0;31m---------------------------------------------------------------------------\u001b[0m",
            "\u001b[0;31mSystemError\u001b[0m                               Traceback (most recent call last)",
            "\u001b[0;32m<ipython-input-5-38cbe3824d73>\u001b[0m in \u001b[0;36m<module>\u001b[0;34m()\u001b[0m\n\u001b[1;32m      6\u001b[0m       \u001b[0;34m'configured to use a GPU. Change this in the notebook Settings via the Runtime type or  '\u001b[0m\u001b[0;34m\u001b[0m\u001b[0;34m\u001b[0m\u001b[0m\n\u001b[1;32m      7\u001b[0m       'command palette (cmd/ctrl-shift-P) or the Edit menu .\\n\\n')\n\u001b[0;32m----> 8\u001b[0;31m   \u001b[0;32mraise\u001b[0m \u001b[0mSystemError\u001b[0m\u001b[0;34m(\u001b[0m\u001b[0;34m'GPU device not found'\u001b[0m\u001b[0;34m)\u001b[0m\u001b[0;34m\u001b[0m\u001b[0;34m\u001b[0m\u001b[0m\n\u001b[0m\u001b[1;32m      9\u001b[0m \u001b[0;34m\u001b[0m\u001b[0m\n\u001b[1;32m     10\u001b[0m \u001b[0;32mdef\u001b[0m \u001b[0mcpu\u001b[0m\u001b[0;34m(\u001b[0m\u001b[0;34m)\u001b[0m\u001b[0;34m:\u001b[0m\u001b[0;34m\u001b[0m\u001b[0;34m\u001b[0m\u001b[0m\n",
            "\u001b[0;31mSystemError\u001b[0m: GPU device not found"
          ]
        }
      ]
    },
    {
      "cell_type": "code",
      "source": [
        "#@markdown Mention the path of the train directory\n",
        "train_dir = \"/content/drive/MyDrive/inaturalist_12K/train\" #@param {type:\"string\"}\n",
        "\n",
        "\n",
        "#@markdown Mention the path of the test directory\n",
        "\n",
        "val_dir = \"/content/drive/MyDrive/inaturalist_12K/val\" #@param {type:\"string\"}"
      ],
      "metadata": {
        "id": "ZVl0zRjdKQTo"
      },
      "execution_count": null,
      "outputs": []
    },
    {
      "cell_type": "code",
      "source": [
        "wandb.login()"
      ],
      "metadata": {
        "id": "X4GRzZGmZKUh",
        "colab": {
          "base_uri": "https://localhost:8080/",
          "height": 103
        },
        "outputId": "09fbac6f-78ae-4887-84da-4c977deb3e1b"
      },
      "execution_count": null,
      "outputs": [
        {
          "output_type": "display_data",
          "data": {
            "text/plain": [
              "<IPython.core.display.Javascript object>"
            ],
            "application/javascript": [
              "\n",
              "        window._wandbApiKey = new Promise((resolve, reject) => {\n",
              "            function loadScript(url) {\n",
              "            return new Promise(function(resolve, reject) {\n",
              "                let newScript = document.createElement(\"script\");\n",
              "                newScript.onerror = reject;\n",
              "                newScript.onload = resolve;\n",
              "                document.body.appendChild(newScript);\n",
              "                newScript.src = url;\n",
              "            });\n",
              "            }\n",
              "            loadScript(\"https://cdn.jsdelivr.net/npm/postmate/build/postmate.min.js\").then(() => {\n",
              "            const iframe = document.createElement('iframe')\n",
              "            iframe.style.cssText = \"width:0;height:0;border:none\"\n",
              "            document.body.appendChild(iframe)\n",
              "            const handshake = new Postmate({\n",
              "                container: iframe,\n",
              "                url: 'https://wandb.ai/authorize'\n",
              "            });\n",
              "            const timeout = setTimeout(() => reject(\"Couldn't auto authenticate\"), 5000)\n",
              "            handshake.then(function(child) {\n",
              "                child.on('authorize', data => {\n",
              "                    clearTimeout(timeout)\n",
              "                    resolve(data)\n",
              "                });\n",
              "            });\n",
              "            })\n",
              "        });\n",
              "    "
            ]
          },
          "metadata": {}
        },
        {
          "output_type": "stream",
          "name": "stderr",
          "text": [
            "\u001b[34m\u001b[1mwandb\u001b[0m: You can find your API key in your browser here: https://wandb.ai/authorize\n"
          ]
        },
        {
          "name": "stdout",
          "output_type": "stream",
          "text": [
            "wandb: Paste an API key from your profile and hit enter, or press ctrl+c to quit: ··········\n"
          ]
        },
        {
          "output_type": "stream",
          "name": "stderr",
          "text": [
            "\u001b[34m\u001b[1mwandb\u001b[0m: Appending key for api.wandb.ai to your netrc file: /root/.netrc\n"
          ]
        },
        {
          "output_type": "execute_result",
          "data": {
            "text/plain": [
              "True"
            ]
          },
          "metadata": {},
          "execution_count": 7
        }
      ]
    },
    {
      "cell_type": "code",
      "source": [
        "imgHeight =  256#@param\n",
        "imgWidth =  256#@param\n",
        "\n",
        "imgSize = (imgHeight, imgWidth) \n",
        "batchSize = 32 #@param\n",
        "\n",
        "train_data = tf.keras.utils.image_dataset_from_directory(\n",
        "                      directory = train_dir,\n",
        "                      labels = 'inferred',  \n",
        "                      label_mode = 'categorical',\n",
        "                      color_mode = 'rgb',\n",
        "                      batch_size = batchSize,\n",
        "                      image_size = imgSize,\n",
        "                      shuffle = True,\n",
        "                      seed = 5,\n",
        "                      validation_split = 0.2,\n",
        "                      subset = 'training')\n",
        "\n",
        "val_data = tf.keras.utils.image_dataset_from_directory(\n",
        "                      directory = train_dir,\n",
        "                      labels = 'inferred',  \n",
        "                      label_mode = 'categorical',\n",
        "                      color_mode = 'rgb',\n",
        "                      batch_size = batchSize,\n",
        "                      image_size = imgSize,\n",
        "                      shuffle = True,\n",
        "                      seed = 5,\n",
        "                      validation_split = 0.2,\n",
        "                      subset = 'validation')\n",
        "\n",
        "\n",
        "# Retaining 10 percent of train and validation data and discarding the rest\n",
        "# len_train, len_val = len(train_data), len(val_data)\n",
        "# train_data = train_data.take(int(0.25*len_train))\n",
        "# val_data = val_data.take(int(0.25*len_val))\n",
        "\n",
        "\n",
        "train_datagen = tf.keras.preprocessing.image.ImageDataGenerator(\n",
        "                rescale=1./255,\n",
        "                validation_split = 0.2,\n",
        "                shear_range=0.2,\n",
        "                zoom_range=0.2,\n",
        "                featurewise_center=False,  # set input mean to 0 over the dataset\n",
        "                samplewise_center=False,  # set each sample mean to 0\n",
        "                featurewise_std_normalization=False,  # divide inputs by std of the dataset\n",
        "                samplewise_std_normalization=False,  # divide each input by its std\n",
        "                zca_whitening=False,  # apply ZCA whitening\n",
        "                rotation_range=15,  # randomly rotate images in the range (degrees, 0 to 180)\n",
        "                width_shift_range=0.1,  # randomly shift images horizontally (fraction of total width)\n",
        "                height_shift_range=0.1,  # randomly shift images vertically (fraction of total height)\n",
        "                horizontal_flip=True,  # randomly flip images\n",
        "                vertical_flip=False\n",
        "                )\n",
        "\n",
        "\n",
        "train_data_aug = train_datagen.flow_from_directory(\n",
        "        train_dir,\n",
        "        subset='training',\n",
        "        target_size=imgSize,\n",
        "        batch_size=batchSize,\n",
        "        class_mode='categorical',\n",
        "        shuffle = True,\n",
        "        seed = 123)\n",
        "\n",
        "val_data_aug = train_datagen.flow_from_directory(\n",
        "        train_dir,\n",
        "        subset='validation',\n",
        "        target_size=imgSize,\n",
        "        batch_size=batchSize,\n",
        "        class_mode='categorical',\n",
        "        shuffle = True,\n",
        "        seed = 123)\n",
        "\n",
        "#Setting it to false to enable testing , Run the next cell to enable it and disable testing. \n",
        "isSweep = False\n"
      ],
      "metadata": {
        "id": "ukTMJ_81KFVT",
        "colab": {
          "base_uri": "https://localhost:8080/"
        },
        "outputId": "254d1e36-ed03-4a84-98ac-e063b6eb97d4"
      },
      "execution_count": null,
      "outputs": [
        {
          "output_type": "stream",
          "name": "stdout",
          "text": [
            "Found 9999 files belonging to 10 classes.\n",
            "Using 8000 files for training.\n",
            "Found 9999 files belonging to 10 classes.\n",
            "Using 1999 files for validation.\n",
            "Found 8000 images belonging to 10 classes.\n",
            "Found 1999 images belonging to 10 classes.\n"
          ]
        }
      ]
    },
    {
      "cell_type": "markdown",
      "source": [
        "Run the below cell to enable Sweep. "
      ],
      "metadata": {
        "id": "eUukVqoowd4s"
      }
    },
    {
      "cell_type": "code",
      "source": [
        "#@markdown Fill the below form \n",
        "isSweep = True #@param {type:\"boolean\"}\n",
        "\n",
        "sweepMethod ='bayes' #@param {type:\"string\"}['grid','bayes','random']\n",
        "\n",
        "if isSweep:\n",
        "  sweepConfig = {'name': sweepMethod + '-test-sweep',\n",
        "                'method': sweepMethod,\n",
        "                'metric' : {'name': 'val_acc', \n",
        "                            'goal': 'maximize'}\n",
        "                }\n",
        "  parameters = {\n",
        "      \n",
        "      'filterOrganisation' : {'values': [2,1,0.5]},\n",
        "      'firstLayerFliterCount' : {'values': [64,32]},\n",
        "      'convLayers' : {'values': [5]},\n",
        "      'activation' : {'values': ['relu']},\n",
        "      'denseSize' : {'values': [32,64,128]},\n",
        "      'optimizer' : {'values': ['adam']},\n",
        "      'num_epochs' : {'values': [10,20]},\n",
        "      'kernelSize' : {'values': [3]},\n",
        "      'dropOut' : {'values': [0.3,0.5]},\n",
        "      'batchNorm' : {'values': [0,1]},\n",
        "      'isDataAug' : {'values': [0,1]},\n",
        "  }\n",
        "\n",
        "  sweepConfig['parameters'] = parameters\n",
        "  sweepID = wandb.sweep(sweepConfig, project=\"cs6910_assignment2\", entity=\"cs6910_assignment\")\n"
      ],
      "metadata": {
        "id": "pquuLqelKjmm",
        "colab": {
          "base_uri": "https://localhost:8080/"
        },
        "outputId": "e0d5063c-7df4-4759-d855-06e41a4c71c0"
      },
      "execution_count": null,
      "outputs": [
        {
          "output_type": "stream",
          "name": "stdout",
          "text": [
            "Create sweep with ID: 0up7ei82\n",
            "Sweep URL: https://wandb.ai/cs6910_assignment/cs6910_assignment2/sweeps/0up7ei82\n"
          ]
        }
      ]
    },
    {
      "cell_type": "code",
      "source": [
        "test = []\n",
        "testname = []\n",
        "def train(config=False):\n",
        "  # with wandb.init(config=config):\n",
        "  # with tf.device('/device:GPU:0'):            \n",
        "  #Hardcoded for testing \n",
        "  filterOrganisation = 0.5 \n",
        "  firstLayerFliterCount = 64 \n",
        "  convLayers = 5 \n",
        "  activation = 'relu'\n",
        "  denseSize = 32 \n",
        "  optimizer = 'adam'\n",
        "  num_epochs = 50\n",
        "  kernelSize = 3\n",
        "  isDataAug = 0\n",
        "  batchNorm=1 \n",
        "  dropOut =0.2\n",
        "\n",
        "  #Dynamic values for sweeping\n",
        "  if isSweep:\n",
        "    config = sweepConfig\n",
        "    if config:\n",
        "      print(\"Running the Model with the dynamic parameters \")\n",
        "      print(config)\n",
        "      wandb.init(config=config)\n",
        "      config = wandb.init().config\n",
        "      wandb.run.name = 'firstLayerFliterCount_{}_filter_org_{}_kernelSize_{}_denseSize_{}_dropOut_{}_isDataAug_{}_num_epochs_{}'\\\n",
        "                        .format(config.firstLayerFliterCount, config.filterOrganisation, config.kernelSize,config.denseSize,config.dropOut,config.isDataAug,config.num_epochs)\n",
        "      filterOrganisation = config.filterOrganisation\n",
        "      firstLayerFliterCount = config.firstLayerFliterCount\n",
        "      convLayers = config.convLayers\n",
        "      activation = config.activation\n",
        "      denseSize = config.denseSize\n",
        "      optimizer = config.optimizer\n",
        "      num_epochs = config.num_epochs\n",
        "      kernelSize = config.kernelSize\n",
        "      isDataAug = config.isDataAug\n",
        "      dropOut = config.dropOut\n",
        "      test.append(config)\n",
        "      testname.append(wandb.run.name)\n",
        "\n",
        "  filterSize = [int(firstLayerFliterCount*(filterOrganisation**layer_num)) for layer_num in range(convLayers)]\n",
        "\n",
        "  model = Sequential()\n",
        "\n",
        "  # Applying some convolution and pooling layers\n",
        "  for layer_num in range(convLayers):\n",
        "      model.add(Conv2D(filterSize[layer_num], (kernelSize, kernelSize), input_shape=(imgHeight,imgWidth,3)))\n",
        "      #Normalisation\n",
        "      if batchNorm:\n",
        "        model.add(BatchNormalization(axis = -1))\n",
        "      model.add(Activation('relu'))\n",
        "      model.add(MaxPool2D(pool_size=(2, 2)))           \n",
        "\n",
        "\n",
        "  #dense layer\n",
        "  model.add(Flatten())\n",
        "  model.add(Dense(denseSize,activation='relu'))\n",
        "\n",
        "  #Normalisation\n",
        "  if batchNorm:\n",
        "    model.add(BatchNormalization(axis = -1))\n",
        "\n",
        "  #Dropout \n",
        "  if dropOut > 0:\n",
        "    model.add(Dropout(rate = dropOut))\n",
        "\n",
        "  #output layer\n",
        "  model.add(Dense(10,activation='softmax'))\n",
        "\n",
        "  # print(model.summary())\n",
        "\n",
        "  model.compile(\n",
        "      optimizer=optimizer,  # Optimizer\n",
        "      # Loss function to minimize\n",
        "      loss=tf.keras.losses.CategoricalCrossentropy(from_logits=True),#'categorical_crossentropy',\n",
        "      # List of metrics to monitor\n",
        "      metrics=['accuracy'],\n",
        "      )\n",
        "  \n",
        "  final_train_data =  train_data_aug if isDataAug else train_data\n",
        "  final_val_data =  val_data_aug if isDataAug else val_data\n",
        "\n",
        "  #Hardcoded steps to 15 in order to speed up the training , but this leads to lesser accuracy. use len(train_data_aug) or train_data_aug.samples for maximum accuracy but it is expensive\n",
        "  esteps =  len(train_data_aug) if isDataAug else len(train_data)\n",
        "  valSteps = len(val_data_aug) if isDataAug else len(val_data)\n",
        "\n",
        "  print(test)\n",
        "  print(testname)\n",
        "  if isSweep:\n",
        "    history = model.fit(\n",
        "                      final_train_data,\n",
        "                      steps_per_epoch = esteps ,\n",
        "                      validation_data = final_val_data, \n",
        "                      validation_steps = valSteps,\n",
        "                      epochs = num_epochs,\n",
        "                      callbacks = [wandb.keras.WandbCallback()]\n",
        "                      )\n",
        "  else:\n",
        "    history = model.fit(\n",
        "                    final_train_data,\n",
        "                    steps_per_epoch = esteps ,\n",
        "                    validation_data = final_val_data, \n",
        "                    validation_steps = valSteps,\n",
        "                    epochs = num_epochs\n",
        "                    )\n",
        "    \n",
        "  #Saving the Model for Future use.   \n",
        "  if not isSweep:\n",
        "    model.save(pathlib.Path('/content/drive/MyDrive/DLAssignment2PartAModel'))\n",
        "\n"
      ],
      "metadata": {
        "id": "DOqHjP4pKvOQ"
      },
      "execution_count": null,
      "outputs": []
    },
    {
      "cell_type": "code",
      "source": [
        "isSweep =True\n",
        "if isSweep:\n",
        "  sweepID = 'kkt4yb37'\n",
        "  wandb.agent(sweepID, function=train)\n",
        "else:\n",
        "  train()"
      ],
      "metadata": {
        "id": "dmuUwk3iNiqi",
        "colab": {
          "base_uri": "https://localhost:8080/",
          "height": 1000,
          "referenced_widgets": [
            "2a3e3b4330c9495eb940528f13c9fb46",
            "a178a308d3e14cc6a5ee09f28a63846e",
            "ee6a62ec31d24575b4ad74965db8e39b",
            "e3c9486c90274d7a93f666f483422595",
            "a3952bcaddbd480e8ad908b42c7acc8a",
            "1b0a4e028823419e853cda3801900c03",
            "89f8a4c10cf642b99810028468bad298",
            "fd9328edefd046399f34ae2d492c7ab3",
            "aa30b096c5a042aa98d8d14028df69cf",
            "1ec6228cd7624ebc82a8473fd793ad64",
            "35ebe4f3c2dd473aa4f817a570b89705",
            "da40fb821079460bb754d380a1469ea4",
            "a13969781a9d4e91add823f1b3ee1af1",
            "ce4c9d07fb32453aa8fbf4e470c46312",
            "5b64ae470d2f4e3981934050e0bfcd96",
            "f360cebc2da74ef89cca1af92ddbc40b",
            "d096c8b514504b029f31859611520031",
            "c498468a3e114d94845666d49f0ae8be",
            "ba4e41a83fce4b4aadef95ad2bf5e7bb",
            "35ad4456a8f441f9b905aec2bd2509c8",
            "1d6fa3ae8b1d4e86bbc08ae61b2310ba",
            "67c9fd19a8c94bf2b9bc414f793f1ae1",
            "4857370be02949d386e5d2a59eb867fe",
            "7df91843b1034aa981ff53beb1bc0360"
          ]
        },
        "outputId": "ee92b5fb-7767-4317-9d80-86c87f284825"
      },
      "execution_count": null,
      "outputs": [
        {
          "output_type": "stream",
          "name": "stderr",
          "text": [
            "\u001b[34m\u001b[1mwandb\u001b[0m: Agent Starting Run: k8zvyx0m with config:\n",
            "\u001b[34m\u001b[1mwandb\u001b[0m: \tactivation: relu\n",
            "\u001b[34m\u001b[1mwandb\u001b[0m: \tbatchNorm: 0\n",
            "\u001b[34m\u001b[1mwandb\u001b[0m: \tconvLayers: 5\n",
            "\u001b[34m\u001b[1mwandb\u001b[0m: \tdenseSize: 128\n",
            "\u001b[34m\u001b[1mwandb\u001b[0m: \tdropOut: 0.5\n",
            "\u001b[34m\u001b[1mwandb\u001b[0m: \tfilterOrganisation: 0.5\n",
            "\u001b[34m\u001b[1mwandb\u001b[0m: \tfirstLayerFliterCount: 64\n",
            "\u001b[34m\u001b[1mwandb\u001b[0m: \tisDataAug: 0\n",
            "\u001b[34m\u001b[1mwandb\u001b[0m: \tkernelSize: 3\n",
            "\u001b[34m\u001b[1mwandb\u001b[0m: \tnum_epochs: 10\n",
            "\u001b[34m\u001b[1mwandb\u001b[0m: \toptimizer: adam\n"
          ]
        },
        {
          "output_type": "stream",
          "name": "stdout",
          "text": [
            "Running the Model with the dynamic parameters \n",
            "{'name': 'bayes-test-sweep', 'method': 'bayes', 'metric': {'name': 'val_acc', 'goal': 'maximize'}, 'parameters': {'filterOrganisation': {'values': [2, 1, 0.5]}, 'firstLayerFliterCount': {'values': [64, 32]}, 'convLayers': {'values': [5]}, 'activation': {'values': ['relu']}, 'denseSize': {'values': [32, 64, 128]}, 'optimizer': {'values': ['adam']}, 'num_epochs': {'values': [10, 20]}, 'kernelSize': {'values': [3]}, 'dropOut': {'values': [0.3, 0.5]}, 'batchNorm': {'values': [0, 1]}, 'isDataAug': {'values': [0, 1]}}}\n"
          ]
        },
        {
          "output_type": "stream",
          "name": "stderr",
          "text": [
            "\u001b[34m\u001b[1mwandb\u001b[0m: Currently logged in as: \u001b[33mcs6910_assignment\u001b[0m (use `wandb login --relogin` to force relogin)\n"
          ]
        },
        {
          "output_type": "display_data",
          "data": {
            "text/plain": [
              "<IPython.core.display.HTML object>"
            ],
            "text/html": [
              "Tracking run with wandb version 0.12.11"
            ]
          },
          "metadata": {}
        },
        {
          "output_type": "display_data",
          "data": {
            "text/plain": [
              "<IPython.core.display.HTML object>"
            ],
            "text/html": [
              "Run data is saved locally in <code>/content/wandb/run-20220404_102231-k8zvyx0m</code>"
            ]
          },
          "metadata": {}
        },
        {
          "output_type": "display_data",
          "data": {
            "text/plain": [
              "<IPython.core.display.HTML object>"
            ],
            "text/html": [
              "Syncing run <strong><a href=\"https://wandb.ai/cs6910_assignment/cs6910_assignment2/runs/k8zvyx0m\" target=\"_blank\">ancient-sweep-13</a></strong> to <a href=\"https://wandb.ai/cs6910_assignment/cs6910_assignment2\" target=\"_blank\">Weights & Biases</a> (<a href=\"https://wandb.me/run\" target=\"_blank\">docs</a>)<br/>Sweep page:  <a href=\"https://wandb.ai/cs6910_assignment/cs6910_assignment2/sweeps/kkt4yb37\" target=\"_blank\">https://wandb.ai/cs6910_assignment/cs6910_assignment2/sweeps/kkt4yb37</a>"
            ]
          },
          "metadata": {}
        },
        {
          "output_type": "display_data",
          "data": {
            "text/plain": [
              "<IPython.core.display.HTML object>"
            ],
            "text/html": [
              "Finishing last run (ID:k8zvyx0m) before initializing another..."
            ]
          },
          "metadata": {}
        },
        {
          "output_type": "stream",
          "name": "stdout",
          "text": [
            "\n"
          ]
        },
        {
          "output_type": "display_data",
          "data": {
            "text/plain": [
              "<IPython.core.display.HTML object>"
            ],
            "text/html": [
              "Waiting for W&B process to finish... <strong style=\"color:green\">(success).</strong>"
            ]
          },
          "metadata": {}
        },
        {
          "output_type": "display_data",
          "data": {
            "text/plain": [
              "VBox(children=(Label(value='0.001 MB of 0.001 MB uploaded (0.000 MB deduped)\\r'), FloatProgress(value=1.0, max…"
            ],
            "application/vnd.jupyter.widget-view+json": {
              "version_major": 2,
              "version_minor": 0,
              "model_id": "2a3e3b4330c9495eb940528f13c9fb46"
            }
          },
          "metadata": {}
        },
        {
          "output_type": "display_data",
          "data": {
            "text/plain": [
              "<IPython.core.display.HTML object>"
            ],
            "text/html": [
              "Synced <strong style=\"color:#cdcd00\">ancient-sweep-13</strong>: <a href=\"https://wandb.ai/cs6910_assignment/cs6910_assignment2/runs/k8zvyx0m\" target=\"_blank\">https://wandb.ai/cs6910_assignment/cs6910_assignment2/runs/k8zvyx0m</a><br/>Synced 4 W&B file(s), 0 media file(s), 0 artifact file(s) and 0 other file(s)"
            ]
          },
          "metadata": {}
        },
        {
          "output_type": "display_data",
          "data": {
            "text/plain": [
              "<IPython.core.display.HTML object>"
            ],
            "text/html": [
              "Find logs at: <code>./wandb/run-20220404_102231-k8zvyx0m/logs</code>"
            ]
          },
          "metadata": {}
        },
        {
          "output_type": "display_data",
          "data": {
            "text/plain": [
              "<IPython.core.display.HTML object>"
            ],
            "text/html": [
              "Successfully finished last run (ID:k8zvyx0m). Initializing new run:<br/>"
            ]
          },
          "metadata": {}
        },
        {
          "output_type": "display_data",
          "data": {
            "text/plain": [
              "<IPython.core.display.HTML object>"
            ],
            "text/html": [
              "Tracking run with wandb version 0.12.11"
            ]
          },
          "metadata": {}
        },
        {
          "output_type": "display_data",
          "data": {
            "text/plain": [
              "<IPython.core.display.HTML object>"
            ],
            "text/html": [
              "Run data is saved locally in <code>/content/wandb/run-20220404_102235-k8zvyx0m</code>"
            ]
          },
          "metadata": {}
        },
        {
          "output_type": "display_data",
          "data": {
            "text/plain": [
              "<IPython.core.display.HTML object>"
            ],
            "text/html": [
              "Syncing run <strong><a href=\"https://wandb.ai/cs6910_assignment/cs6910_assignment2/runs/k8zvyx0m\" target=\"_blank\">ancient-sweep-13</a></strong> to <a href=\"https://wandb.ai/cs6910_assignment/cs6910_assignment2\" target=\"_blank\">Weights & Biases</a> (<a href=\"https://wandb.me/run\" target=\"_blank\">docs</a>)<br/>Sweep page:  <a href=\"https://wandb.ai/cs6910_assignment/cs6910_assignment2/sweeps/kkt4yb37\" target=\"_blank\">https://wandb.ai/cs6910_assignment/cs6910_assignment2/sweeps/kkt4yb37</a>"
            ]
          },
          "metadata": {}
        },
        {
          "output_type": "stream",
          "name": "stdout",
          "text": [
            "[{'activation': 'relu', 'batchNorm': 0, 'convLayers': 5, 'denseSize': 128, 'dropOut': 0.5, 'filterOrganisation': 0.5, 'firstLayerFliterCount': 64, 'isDataAug': 0, 'kernelSize': 3, 'num_epochs': 10, 'optimizer': 'adam'}]\n",
            "['firstLayerFliterCount_64_filter_org_0.5_kernelSize_3_denseSize_128_dropOut_0.5_isDataAug_0_num_epochs_10']\n",
            "Epoch 1/10\n"
          ]
        },
        {
          "output_type": "stream",
          "name": "stderr",
          "text": [
            "/usr/local/lib/python3.7/dist-packages/tensorflow/python/util/dispatch.py:1082: UserWarning: \"`categorical_crossentropy` received `from_logits=True`, but the `output` argument was produced by a sigmoid or softmax activation and thus does not represent logits. Was this intended?\"\n",
            "  return dispatch_target(*args, **kwargs)\n"
          ]
        },
        {
          "output_type": "stream",
          "name": "stdout",
          "text": [
            "250/250 [==============================] - 1749s 7s/step - loss: 2.7703 - accuracy: 0.1493 - val_loss: 2.1956 - val_accuracy: 0.1881 - _timestamp: 1649069512.0000 - _runtime: 1753.0000\n",
            "Epoch 2/10\n",
            "250/250 [==============================] - 1583s 6s/step - loss: 2.3431 - accuracy: 0.1866 - val_loss: 2.1849 - val_accuracy: 0.2231 - _timestamp: 1649071095.0000 - _runtime: 3336.0000\n",
            "Epoch 3/10\n",
            "250/250 [==============================] - 1579s 6s/step - loss: 2.1715 - accuracy: 0.2240 - val_loss: 2.1593 - val_accuracy: 0.2271 - _timestamp: 1649072674.0000 - _runtime: 4915.0000\n",
            "Epoch 4/10\n",
            "250/250 [==============================] - 1598s 6s/step - loss: 2.0733 - accuracy: 0.2570 - val_loss: 2.0428 - val_accuracy: 0.2471 - _timestamp: 1649074272.0000 - _runtime: 6513.0000\n",
            "Epoch 5/10\n",
            "250/250 [==============================] - 1602s 6s/step - loss: 2.0265 - accuracy: 0.2666 - val_loss: 2.0856 - val_accuracy: 0.2596 - _timestamp: 1649075918.0000 - _runtime: 8159.0000\n",
            "Epoch 6/10\n",
            "250/250 [==============================] - 1602s 6s/step - loss: 1.9991 - accuracy: 0.2895 - val_loss: 1.9957 - val_accuracy: 0.2821 - _timestamp: 1649077520.0000 - _runtime: 9761.0000\n",
            "Epoch 7/10\n",
            "250/250 [==============================] - 1637s 7s/step - loss: 1.9683 - accuracy: 0.2984 - val_loss: 1.9818 - val_accuracy: 0.2941 - _timestamp: 1649079197.0000 - _runtime: 11438.0000\n",
            "Epoch 8/10\n",
            "250/250 [==============================] - 1625s 6s/step - loss: 1.9579 - accuracy: 0.3079 - val_loss: 2.0093 - val_accuracy: 0.2961 - _timestamp: 1649080822.0000 - _runtime: 13063.0000\n",
            "Epoch 9/10\n",
            "250/250 [==============================] - 1619s 6s/step - loss: 1.9269 - accuracy: 0.3133 - val_loss: 1.9512 - val_accuracy: 0.2966 - _timestamp: 1649082457.0000 - _runtime: 14698.0000\n",
            "Epoch 10/10\n",
            "250/250 [==============================] - 1627s 7s/step - loss: 1.9168 - accuracy: 0.3131 - val_loss: 2.1119 - val_accuracy: 0.2636 - _timestamp: 1649084108.0000 - _runtime: 16349.0000\n",
            "\n"
          ]
        },
        {
          "output_type": "display_data",
          "data": {
            "text/plain": [
              "<IPython.core.display.HTML object>"
            ],
            "text/html": [
              "Waiting for W&B process to finish... <strong style=\"color:green\">(success).</strong>"
            ]
          },
          "metadata": {}
        },
        {
          "output_type": "display_data",
          "data": {
            "text/plain": [
              "VBox(children=(Label(value='0.670 MB of 0.670 MB uploaded (0.000 MB deduped)\\r'), FloatProgress(value=1.0, max…"
            ],
            "application/vnd.jupyter.widget-view+json": {
              "version_major": 2,
              "version_minor": 0,
              "model_id": "aa30b096c5a042aa98d8d14028df69cf"
            }
          },
          "metadata": {}
        },
        {
          "output_type": "display_data",
          "data": {
            "text/plain": [
              "<IPython.core.display.HTML object>"
            ],
            "text/html": [
              "<style>\n",
              "    table.wandb td:nth-child(1) { padding: 0 10px; text-align: right }\n",
              "    .wandb-row { display: flex; flex-direction: row; flex-wrap: wrap; width: 100% }\n",
              "    .wandb-col { display: flex; flex-direction: column; flex-basis: 100%; flex: 1; padding: 10px; }\n",
              "    </style>\n",
              "<div class=\"wandb-row\"><div class=\"wandb-col\"><h3>Run history:</h3><br/><table class=\"wandb\"><tr><td>accuracy</td><td>▁▃▄▆▆▇▇███</td></tr><tr><td>epoch</td><td>▁▂▃▃▄▅▆▆▇█</td></tr><tr><td>loss</td><td>█▄▃▂▂▂▁▁▁▁</td></tr><tr><td>val_accuracy</td><td>▁▃▄▅▆▇███▆</td></tr><tr><td>val_loss</td><td>██▇▄▅▂▂▃▁▆</td></tr></table><br/></div><div class=\"wandb-col\"><h3>Run summary:</h3><br/><table class=\"wandb\"><tr><td>accuracy</td><td>0.31313</td></tr><tr><td>best_epoch</td><td>8</td></tr><tr><td>best_val_loss</td><td>1.95117</td></tr><tr><td>epoch</td><td>9</td></tr><tr><td>loss</td><td>1.91678</td></tr><tr><td>val_accuracy</td><td>0.26363</td></tr><tr><td>val_loss</td><td>2.11188</td></tr></table><br/></div></div>"
            ]
          },
          "metadata": {}
        },
        {
          "output_type": "display_data",
          "data": {
            "text/plain": [
              "<IPython.core.display.HTML object>"
            ],
            "text/html": [
              "Synced <strong style=\"color:#cdcd00\">ancient-sweep-13</strong>: <a href=\"https://wandb.ai/cs6910_assignment/cs6910_assignment2/runs/k8zvyx0m\" target=\"_blank\">https://wandb.ai/cs6910_assignment/cs6910_assignment2/runs/k8zvyx0m</a><br/>Synced 5 W&B file(s), 1 media file(s), 0 artifact file(s) and 1 other file(s)"
            ]
          },
          "metadata": {}
        },
        {
          "output_type": "display_data",
          "data": {
            "text/plain": [
              "<IPython.core.display.HTML object>"
            ],
            "text/html": [
              "Find logs at: <code>./wandb/run-20220404_102235-k8zvyx0m/logs</code>"
            ]
          },
          "metadata": {}
        },
        {
          "output_type": "stream",
          "name": "stderr",
          "text": [
            "\u001b[34m\u001b[1mwandb\u001b[0m: Agent Starting Run: p18e5z6n with config:\n",
            "\u001b[34m\u001b[1mwandb\u001b[0m: \tactivation: relu\n",
            "\u001b[34m\u001b[1mwandb\u001b[0m: \tbatchNorm: 1\n",
            "\u001b[34m\u001b[1mwandb\u001b[0m: \tconvLayers: 5\n",
            "\u001b[34m\u001b[1mwandb\u001b[0m: \tdenseSize: 64\n",
            "\u001b[34m\u001b[1mwandb\u001b[0m: \tdropOut: 0.5\n",
            "\u001b[34m\u001b[1mwandb\u001b[0m: \tfilterOrganisation: 1\n",
            "\u001b[34m\u001b[1mwandb\u001b[0m: \tfirstLayerFliterCount: 32\n",
            "\u001b[34m\u001b[1mwandb\u001b[0m: \tisDataAug: 1\n",
            "\u001b[34m\u001b[1mwandb\u001b[0m: \tkernelSize: 3\n",
            "\u001b[34m\u001b[1mwandb\u001b[0m: \tnum_epochs: 10\n",
            "\u001b[34m\u001b[1mwandb\u001b[0m: \toptimizer: adam\n"
          ]
        },
        {
          "output_type": "stream",
          "name": "stdout",
          "text": [
            "Running the Model with the dynamic parameters \n",
            "{'name': 'bayes-test-sweep', 'method': 'bayes', 'metric': {'name': 'val_acc', 'goal': 'maximize'}, 'parameters': {'filterOrganisation': {'values': [2, 1, 0.5]}, 'firstLayerFliterCount': {'values': [64, 32]}, 'convLayers': {'values': [5]}, 'activation': {'values': ['relu']}, 'denseSize': {'values': [32, 64, 128]}, 'optimizer': {'values': ['adam']}, 'num_epochs': {'values': [10, 20]}, 'kernelSize': {'values': [3]}, 'dropOut': {'values': [0.3, 0.5]}, 'batchNorm': {'values': [0, 1]}, 'isDataAug': {'values': [0, 1]}}}\n"
          ]
        },
        {
          "output_type": "display_data",
          "data": {
            "text/plain": [
              "<IPython.core.display.HTML object>"
            ],
            "text/html": [
              "Tracking run with wandb version 0.12.11"
            ]
          },
          "metadata": {}
        },
        {
          "output_type": "display_data",
          "data": {
            "text/plain": [
              "<IPython.core.display.HTML object>"
            ],
            "text/html": [
              "Run data is saved locally in <code>/content/wandb/run-20220404_145517-p18e5z6n</code>"
            ]
          },
          "metadata": {}
        },
        {
          "output_type": "display_data",
          "data": {
            "text/plain": [
              "<IPython.core.display.HTML object>"
            ],
            "text/html": [
              "Syncing run <strong><a href=\"https://wandb.ai/cs6910_assignment/cs6910_assignment2/runs/p18e5z6n\" target=\"_blank\">devout-sweep-14</a></strong> to <a href=\"https://wandb.ai/cs6910_assignment/cs6910_assignment2\" target=\"_blank\">Weights & Biases</a> (<a href=\"https://wandb.me/run\" target=\"_blank\">docs</a>)<br/>Sweep page:  <a href=\"https://wandb.ai/cs6910_assignment/cs6910_assignment2/sweeps/kkt4yb37\" target=\"_blank\">https://wandb.ai/cs6910_assignment/cs6910_assignment2/sweeps/kkt4yb37</a>"
            ]
          },
          "metadata": {}
        },
        {
          "output_type": "display_data",
          "data": {
            "text/plain": [
              "<IPython.core.display.HTML object>"
            ],
            "text/html": [
              "Finishing last run (ID:p18e5z6n) before initializing another..."
            ]
          },
          "metadata": {}
        },
        {
          "output_type": "stream",
          "name": "stdout",
          "text": [
            "\n"
          ]
        },
        {
          "output_type": "display_data",
          "data": {
            "text/plain": [
              "<IPython.core.display.HTML object>"
            ],
            "text/html": [
              "Waiting for W&B process to finish... <strong style=\"color:green\">(success).</strong>"
            ]
          },
          "metadata": {}
        },
        {
          "output_type": "display_data",
          "data": {
            "text/plain": [
              "VBox(children=(Label(value='0.000 MB of 0.000 MB uploaded (0.000 MB deduped)\\r'), FloatProgress(value=1.0, max…"
            ],
            "application/vnd.jupyter.widget-view+json": {
              "version_major": 2,
              "version_minor": 0,
              "model_id": "d096c8b514504b029f31859611520031"
            }
          },
          "metadata": {}
        },
        {
          "output_type": "display_data",
          "data": {
            "text/plain": [
              "<IPython.core.display.HTML object>"
            ],
            "text/html": [
              "Synced <strong style=\"color:#cdcd00\">devout-sweep-14</strong>: <a href=\"https://wandb.ai/cs6910_assignment/cs6910_assignment2/runs/p18e5z6n\" target=\"_blank\">https://wandb.ai/cs6910_assignment/cs6910_assignment2/runs/p18e5z6n</a><br/>Synced 4 W&B file(s), 0 media file(s), 0 artifact file(s) and 0 other file(s)"
            ]
          },
          "metadata": {}
        },
        {
          "output_type": "display_data",
          "data": {
            "text/plain": [
              "<IPython.core.display.HTML object>"
            ],
            "text/html": [
              "Find logs at: <code>./wandb/run-20220404_145517-p18e5z6n/logs</code>"
            ]
          },
          "metadata": {}
        },
        {
          "output_type": "display_data",
          "data": {
            "text/plain": [
              "<IPython.core.display.HTML object>"
            ],
            "text/html": [
              "Successfully finished last run (ID:p18e5z6n). Initializing new run:<br/>"
            ]
          },
          "metadata": {}
        },
        {
          "output_type": "display_data",
          "data": {
            "text/plain": [
              "<IPython.core.display.HTML object>"
            ],
            "text/html": [
              "Tracking run with wandb version 0.12.11"
            ]
          },
          "metadata": {}
        },
        {
          "output_type": "display_data",
          "data": {
            "text/plain": [
              "<IPython.core.display.HTML object>"
            ],
            "text/html": [
              "Run data is saved locally in <code>/content/wandb/run-20220404_145525-p18e5z6n</code>"
            ]
          },
          "metadata": {}
        },
        {
          "output_type": "display_data",
          "data": {
            "text/plain": [
              "<IPython.core.display.HTML object>"
            ],
            "text/html": [
              "Syncing run <strong><a href=\"https://wandb.ai/cs6910_assignment/cs6910_assignment2/runs/p18e5z6n\" target=\"_blank\">devout-sweep-14</a></strong> to <a href=\"https://wandb.ai/cs6910_assignment/cs6910_assignment2\" target=\"_blank\">Weights & Biases</a> (<a href=\"https://wandb.me/run\" target=\"_blank\">docs</a>)<br/>Sweep page:  <a href=\"https://wandb.ai/cs6910_assignment/cs6910_assignment2/sweeps/kkt4yb37\" target=\"_blank\">https://wandb.ai/cs6910_assignment/cs6910_assignment2/sweeps/kkt4yb37</a>"
            ]
          },
          "metadata": {}
        },
        {
          "output_type": "stream",
          "name": "stdout",
          "text": [
            "[{'activation': 'relu', 'batchNorm': 0, 'convLayers': 5, 'denseSize': 128, 'dropOut': 0.5, 'filterOrganisation': 0.5, 'firstLayerFliterCount': 64, 'isDataAug': 0, 'kernelSize': 3, 'num_epochs': 10, 'optimizer': 'adam'}, {'activation': 'relu', 'batchNorm': 1, 'convLayers': 5, 'denseSize': 64, 'dropOut': 0.5, 'filterOrganisation': 1, 'firstLayerFliterCount': 32, 'isDataAug': 1, 'kernelSize': 3, 'num_epochs': 10, 'optimizer': 'adam'}]\n",
            "['firstLayerFliterCount_64_filter_org_0.5_kernelSize_3_denseSize_128_dropOut_0.5_isDataAug_0_num_epochs_10', 'firstLayerFliterCount_32_filter_org_1_kernelSize_3_denseSize_64_dropOut_0.5_isDataAug_1_num_epochs_10']\n",
            "Epoch 1/10\n",
            "250/250 [==============================] - 1191s 5s/step - loss: 2.5199 - accuracy: 0.1770 - val_loss: 2.4134 - val_accuracy: 0.1101 - _timestamp: 1649085329.0000 - _runtime: 1197.0000\n",
            "Epoch 2/10\n",
            "187/250 [=====================>........] - ETA: 4:23 - loss: 2.1650 - accuracy: 0.2410"
          ]
        }
      ]
    }
  ]
}