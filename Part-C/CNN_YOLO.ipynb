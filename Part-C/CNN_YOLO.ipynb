{
  "nbformat": 4,
  "nbformat_minor": 0,
  "metadata": {
    "colab": {
      "name": "CNN-YOLO.ipynb",
      "provenance": [],
      "collapsed_sections": []
    },
    "kernelspec": {
      "name": "python3",
      "display_name": "Python 3"
    },
    "language_info": {
      "name": "python"
    }
  },
  "cells": [
    {
      "cell_type": "code",
      "source": [
        "!pip install imageai\n",
        "!pip install tensorflow==2.8.0"
      ],
      "metadata": {
        "id": "rt5vsoEjJokM"
      },
      "execution_count": null,
      "outputs": []
    },
    {
      "cell_type": "code",
      "source": [
        "%tensorflow_version 2.x\n",
        "import tensorflow \n",
        "from imageai.Detection.Custom import CustomObjectDetection, CustomVideoObjectDetection\n",
        "from imageai.Detection import ObjectDetection,VideoObjectDetection\n",
        "import os\n",
        "\n",
        "# execution_path = os.getcwd()\n",
        "\n",
        "#@markdown This code can detect the following objects: car,motorcycle,bus,truck,person,bicycle\n",
        "#@markdown Can be detected on an image and video. \n",
        "\n",
        "#@markdown Mention the path of the directory.\n",
        "#@markdown  Make sure yolo.h5 is available :) \n",
        "execution_path = '/content/drive/MyDrive' #@param {type:'string'}\n",
        "\n",
        "\n",
        "def imageDetection(input_path):\n",
        "  detector = ObjectDetection()\n",
        "  detector.setModelTypeAsYOLOv3()\n",
        "  detector.setModelPath( os.path.join(execution_path , \"yolo.h5\"))\n",
        "  detector.loadModel()\n",
        "  # detections = detector.detectObjectsFromImage(input_image=os.path.join(execution_path , \"traffic-light.jpg\"), output_image_path=os.path.join(execution_path , \"image2new.jpg\"), minimum_percentage_probability=30)\n",
        "  custom_objects = detector.CustomObjects(car=True, motorcycle=True,bus=True,  truck=True,person=True,  bicycle=True)\n",
        "  detections = detector.detectCustomObjectsFromImage(custom_objects=custom_objects, input_image=os.path.join(input_path), output_image_path=os.path.join(execution_path , (os.path.basename(input_path)+'__output.jpg')), minimum_percentage_probability=30)\n",
        "  for eachObject in detections:\n",
        "      print(eachObject[\"name\"] , \" : \", eachObject[\"percentage_probability\"], \" : \", eachObject[\"box_points\"] )\n",
        "      print(\"--------------------------------\")\n",
        "\n",
        "def videoDection(input_path):\n",
        "  detector = VideoObjectDetection()\n",
        "  detector.setModelTypeAsYOLOv3()\n",
        "  detector.setModelPath( os.path.join(execution_path , \"yolo.h5\"))\n",
        "  detector.loadModel()\n",
        "\n",
        "  video_path = detector.detectObjectsFromVideo(input_file_path=os.path.join(input_path),\n",
        "                                  output_file_path=os.path.join(execution_path, (os.path.basename(input_path)+'__output'))\n",
        "                                  , frames_per_second=20, log_progress=True)\n",
        "  print(\"Sucessfully detected the objects in the video provided by you please check!, Hope you are happy with the results ;)\")\n",
        "  print(video_path)\n",
        "\n",
        "#@markdown Detect objects on an image.\n",
        "isImage = True #@param {type:\"boolean\"}\n",
        "#@markdown Mention the path of image.\n",
        "image_path = '/content/drive/MyDrive/traffic.jpg' #@param {type:\"string\"}\n",
        "#@markdown Detect objects on a video.\n",
        "\n",
        "isVideo = True #@param {type:\"boolean\"}\n",
        "#@markdown Mention the path of video.\n",
        "video_path = '/content/drive/MyDrive/traffic.mp4' #@param {type:\"string\"}\n",
        "#@markdown Now run this Cell\n",
        "\n",
        "\n",
        "if isImage and isVideo:\n",
        "  print(\"Detecting the objects in the given image\")\n",
        "  imageDetection(image_path)\n",
        "  print(\"Detecting the objects in the given Video\")\n",
        "  print(\"This might take some time just sit back and relax\")\n",
        "  print(\"We will do the detection while you have your coffee\")\n",
        "  videoDection(video_path)\n",
        "\n",
        "elif isImage:\n",
        "  print(\"Detecting the objects in the given image\")\n",
        "  imageDetection(image_path)\n",
        "elif isVideo:\n",
        "  print(\"Detecting the objects in the given Video\")\n",
        "  print(\"This might take some time just sit back and relax\")\n",
        "  print(\"We will do the detection while you have your coffee\")\n",
        "  videoDection(video_path)\n",
        "\n",
        "\n",
        "\n"
      ],
      "metadata": {
        "id": "DCt3sv9RNsur"
      },
      "execution_count": 21,
      "outputs": []
    },
    {
      "cell_type": "code",
      "source": [
        ""
      ],
      "metadata": {
        "id": "pUegnxxsld_q"
      },
      "execution_count": null,
      "outputs": []
    }
  ]
}