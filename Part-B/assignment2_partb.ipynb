{
  "nbformat": 4,
  "nbformat_minor": 0,
  "metadata": {
    "colab": {
      "name": "assignment2_partB(2)(1).ipynb",
      "provenance": [],
      "collapsed_sections": []
    },
    "kernelspec": {
      "name": "python3",
      "display_name": "Python 3"
    },
    "language_info": {
      "name": "python"
    },
    "accelerator": "GPU",
    "widgets": {
      "application/vnd.jupyter.widget-state+json": {
        "b6c90d8499e64d06bb51ee95493fa480": {
          "model_module": "@jupyter-widgets/controls",
          "model_name": "VBoxModel",
          "model_module_version": "1.5.0",
          "state": {
            "_dom_classes": [],
            "_model_module": "@jupyter-widgets/controls",
            "_model_module_version": "1.5.0",
            "_model_name": "VBoxModel",
            "_view_count": null,
            "_view_module": "@jupyter-widgets/controls",
            "_view_module_version": "1.5.0",
            "_view_name": "VBoxView",
            "box_style": "",
            "children": [
              "IPY_MODEL_f4754a540b334e759a717829c1824d83",
              "IPY_MODEL_f8da5f0705504d7cb362ebea9cc665c0"
            ],
            "layout": "IPY_MODEL_9b389088fd7645abbecb263b5e923ff3"
          }
        },
        "f4754a540b334e759a717829c1824d83": {
          "model_module": "@jupyter-widgets/controls",
          "model_name": "LabelModel",
          "model_module_version": "1.5.0",
          "state": {
            "_dom_classes": [],
            "_model_module": "@jupyter-widgets/controls",
            "_model_module_version": "1.5.0",
            "_model_name": "LabelModel",
            "_view_count": null,
            "_view_module": "@jupyter-widgets/controls",
            "_view_module_version": "1.5.0",
            "_view_name": "LabelView",
            "description": "",
            "description_tooltip": null,
            "layout": "IPY_MODEL_a0dc982942274b3db4dc5f8f4fb384e1",
            "placeholder": "​",
            "style": "IPY_MODEL_84de1b2ddd444ab5920a3e7c136ebddb",
            "value": "0.009 MB of 0.009 MB uploaded (0.000 MB deduped)\r"
          }
        },
        "f8da5f0705504d7cb362ebea9cc665c0": {
          "model_module": "@jupyter-widgets/controls",
          "model_name": "FloatProgressModel",
          "model_module_version": "1.5.0",
          "state": {
            "_dom_classes": [],
            "_model_module": "@jupyter-widgets/controls",
            "_model_module_version": "1.5.0",
            "_model_name": "FloatProgressModel",
            "_view_count": null,
            "_view_module": "@jupyter-widgets/controls",
            "_view_module_version": "1.5.0",
            "_view_name": "ProgressView",
            "bar_style": "",
            "description": "",
            "description_tooltip": null,
            "layout": "IPY_MODEL_038450de074f4b65a8b7d54e6adc52c9",
            "max": 1,
            "min": 0,
            "orientation": "horizontal",
            "style": "IPY_MODEL_9fd36aa9c727479b940f0cbf97c1a414",
            "value": 1
          }
        },
        "9b389088fd7645abbecb263b5e923ff3": {
          "model_module": "@jupyter-widgets/base",
          "model_name": "LayoutModel",
          "model_module_version": "1.2.0",
          "state": {
            "_model_module": "@jupyter-widgets/base",
            "_model_module_version": "1.2.0",
            "_model_name": "LayoutModel",
            "_view_count": null,
            "_view_module": "@jupyter-widgets/base",
            "_view_module_version": "1.2.0",
            "_view_name": "LayoutView",
            "align_content": null,
            "align_items": null,
            "align_self": null,
            "border": null,
            "bottom": null,
            "display": null,
            "flex": null,
            "flex_flow": null,
            "grid_area": null,
            "grid_auto_columns": null,
            "grid_auto_flow": null,
            "grid_auto_rows": null,
            "grid_column": null,
            "grid_gap": null,
            "grid_row": null,
            "grid_template_areas": null,
            "grid_template_columns": null,
            "grid_template_rows": null,
            "height": null,
            "justify_content": null,
            "justify_items": null,
            "left": null,
            "margin": null,
            "max_height": null,
            "max_width": null,
            "min_height": null,
            "min_width": null,
            "object_fit": null,
            "object_position": null,
            "order": null,
            "overflow": null,
            "overflow_x": null,
            "overflow_y": null,
            "padding": null,
            "right": null,
            "top": null,
            "visibility": null,
            "width": null
          }
        },
        "a0dc982942274b3db4dc5f8f4fb384e1": {
          "model_module": "@jupyter-widgets/base",
          "model_name": "LayoutModel",
          "model_module_version": "1.2.0",
          "state": {
            "_model_module": "@jupyter-widgets/base",
            "_model_module_version": "1.2.0",
            "_model_name": "LayoutModel",
            "_view_count": null,
            "_view_module": "@jupyter-widgets/base",
            "_view_module_version": "1.2.0",
            "_view_name": "LayoutView",
            "align_content": null,
            "align_items": null,
            "align_self": null,
            "border": null,
            "bottom": null,
            "display": null,
            "flex": null,
            "flex_flow": null,
            "grid_area": null,
            "grid_auto_columns": null,
            "grid_auto_flow": null,
            "grid_auto_rows": null,
            "grid_column": null,
            "grid_gap": null,
            "grid_row": null,
            "grid_template_areas": null,
            "grid_template_columns": null,
            "grid_template_rows": null,
            "height": null,
            "justify_content": null,
            "justify_items": null,
            "left": null,
            "margin": null,
            "max_height": null,
            "max_width": null,
            "min_height": null,
            "min_width": null,
            "object_fit": null,
            "object_position": null,
            "order": null,
            "overflow": null,
            "overflow_x": null,
            "overflow_y": null,
            "padding": null,
            "right": null,
            "top": null,
            "visibility": null,
            "width": null
          }
        },
        "84de1b2ddd444ab5920a3e7c136ebddb": {
          "model_module": "@jupyter-widgets/controls",
          "model_name": "DescriptionStyleModel",
          "model_module_version": "1.5.0",
          "state": {
            "_model_module": "@jupyter-widgets/controls",
            "_model_module_version": "1.5.0",
            "_model_name": "DescriptionStyleModel",
            "_view_count": null,
            "_view_module": "@jupyter-widgets/base",
            "_view_module_version": "1.2.0",
            "_view_name": "StyleView",
            "description_width": ""
          }
        },
        "038450de074f4b65a8b7d54e6adc52c9": {
          "model_module": "@jupyter-widgets/base",
          "model_name": "LayoutModel",
          "model_module_version": "1.2.0",
          "state": {
            "_model_module": "@jupyter-widgets/base",
            "_model_module_version": "1.2.0",
            "_model_name": "LayoutModel",
            "_view_count": null,
            "_view_module": "@jupyter-widgets/base",
            "_view_module_version": "1.2.0",
            "_view_name": "LayoutView",
            "align_content": null,
            "align_items": null,
            "align_self": null,
            "border": null,
            "bottom": null,
            "display": null,
            "flex": null,
            "flex_flow": null,
            "grid_area": null,
            "grid_auto_columns": null,
            "grid_auto_flow": null,
            "grid_auto_rows": null,
            "grid_column": null,
            "grid_gap": null,
            "grid_row": null,
            "grid_template_areas": null,
            "grid_template_columns": null,
            "grid_template_rows": null,
            "height": null,
            "justify_content": null,
            "justify_items": null,
            "left": null,
            "margin": null,
            "max_height": null,
            "max_width": null,
            "min_height": null,
            "min_width": null,
            "object_fit": null,
            "object_position": null,
            "order": null,
            "overflow": null,
            "overflow_x": null,
            "overflow_y": null,
            "padding": null,
            "right": null,
            "top": null,
            "visibility": null,
            "width": null
          }
        },
        "9fd36aa9c727479b940f0cbf97c1a414": {
          "model_module": "@jupyter-widgets/controls",
          "model_name": "ProgressStyleModel",
          "model_module_version": "1.5.0",
          "state": {
            "_model_module": "@jupyter-widgets/controls",
            "_model_module_version": "1.5.0",
            "_model_name": "ProgressStyleModel",
            "_view_count": null,
            "_view_module": "@jupyter-widgets/base",
            "_view_module_version": "1.2.0",
            "_view_name": "StyleView",
            "bar_color": null,
            "description_width": ""
          }
        },
        "0a65e7a324ad4eab852e15e75ada941d": {
          "model_module": "@jupyter-widgets/controls",
          "model_name": "VBoxModel",
          "model_module_version": "1.5.0",
          "state": {
            "_dom_classes": [],
            "_model_module": "@jupyter-widgets/controls",
            "_model_module_version": "1.5.0",
            "_model_name": "VBoxModel",
            "_view_count": null,
            "_view_module": "@jupyter-widgets/controls",
            "_view_module_version": "1.5.0",
            "_view_name": "VBoxView",
            "box_style": "",
            "children": [
              "IPY_MODEL_442313d0c986454ebf28ac2784c60f7a",
              "IPY_MODEL_c6ff5a902b20437b8256161b91159e27"
            ],
            "layout": "IPY_MODEL_8aea6620aed14829b1a85e0f7ba409f5"
          }
        },
        "442313d0c986454ebf28ac2784c60f7a": {
          "model_module": "@jupyter-widgets/controls",
          "model_name": "LabelModel",
          "model_module_version": "1.5.0",
          "state": {
            "_dom_classes": [],
            "_model_module": "@jupyter-widgets/controls",
            "_model_module_version": "1.5.0",
            "_model_name": "LabelModel",
            "_view_count": null,
            "_view_module": "@jupyter-widgets/controls",
            "_view_module_version": "1.5.0",
            "_view_name": "LabelView",
            "description": "",
            "description_tooltip": null,
            "layout": "IPY_MODEL_c29736727a48478aa76a9f93f952447b",
            "placeholder": "​",
            "style": "IPY_MODEL_05b1cdaef1bf4a5cb9de622792b3662b",
            "value": "280.549 MB of 280.549 MB uploaded (0.000 MB deduped)\r"
          }
        },
        "c6ff5a902b20437b8256161b91159e27": {
          "model_module": "@jupyter-widgets/controls",
          "model_name": "FloatProgressModel",
          "model_module_version": "1.5.0",
          "state": {
            "_dom_classes": [],
            "_model_module": "@jupyter-widgets/controls",
            "_model_module_version": "1.5.0",
            "_model_name": "FloatProgressModel",
            "_view_count": null,
            "_view_module": "@jupyter-widgets/controls",
            "_view_module_version": "1.5.0",
            "_view_name": "ProgressView",
            "bar_style": "",
            "description": "",
            "description_tooltip": null,
            "layout": "IPY_MODEL_aed48a2952944abf87f7a5ec57a023fb",
            "max": 1,
            "min": 0,
            "orientation": "horizontal",
            "style": "IPY_MODEL_0d29b98885fd4e3aa4f614a20001ed3c",
            "value": 1
          }
        },
        "8aea6620aed14829b1a85e0f7ba409f5": {
          "model_module": "@jupyter-widgets/base",
          "model_name": "LayoutModel",
          "model_module_version": "1.2.0",
          "state": {
            "_model_module": "@jupyter-widgets/base",
            "_model_module_version": "1.2.0",
            "_model_name": "LayoutModel",
            "_view_count": null,
            "_view_module": "@jupyter-widgets/base",
            "_view_module_version": "1.2.0",
            "_view_name": "LayoutView",
            "align_content": null,
            "align_items": null,
            "align_self": null,
            "border": null,
            "bottom": null,
            "display": null,
            "flex": null,
            "flex_flow": null,
            "grid_area": null,
            "grid_auto_columns": null,
            "grid_auto_flow": null,
            "grid_auto_rows": null,
            "grid_column": null,
            "grid_gap": null,
            "grid_row": null,
            "grid_template_areas": null,
            "grid_template_columns": null,
            "grid_template_rows": null,
            "height": null,
            "justify_content": null,
            "justify_items": null,
            "left": null,
            "margin": null,
            "max_height": null,
            "max_width": null,
            "min_height": null,
            "min_width": null,
            "object_fit": null,
            "object_position": null,
            "order": null,
            "overflow": null,
            "overflow_x": null,
            "overflow_y": null,
            "padding": null,
            "right": null,
            "top": null,
            "visibility": null,
            "width": null
          }
        },
        "c29736727a48478aa76a9f93f952447b": {
          "model_module": "@jupyter-widgets/base",
          "model_name": "LayoutModel",
          "model_module_version": "1.2.0",
          "state": {
            "_model_module": "@jupyter-widgets/base",
            "_model_module_version": "1.2.0",
            "_model_name": "LayoutModel",
            "_view_count": null,
            "_view_module": "@jupyter-widgets/base",
            "_view_module_version": "1.2.0",
            "_view_name": "LayoutView",
            "align_content": null,
            "align_items": null,
            "align_self": null,
            "border": null,
            "bottom": null,
            "display": null,
            "flex": null,
            "flex_flow": null,
            "grid_area": null,
            "grid_auto_columns": null,
            "grid_auto_flow": null,
            "grid_auto_rows": null,
            "grid_column": null,
            "grid_gap": null,
            "grid_row": null,
            "grid_template_areas": null,
            "grid_template_columns": null,
            "grid_template_rows": null,
            "height": null,
            "justify_content": null,
            "justify_items": null,
            "left": null,
            "margin": null,
            "max_height": null,
            "max_width": null,
            "min_height": null,
            "min_width": null,
            "object_fit": null,
            "object_position": null,
            "order": null,
            "overflow": null,
            "overflow_x": null,
            "overflow_y": null,
            "padding": null,
            "right": null,
            "top": null,
            "visibility": null,
            "width": null
          }
        },
        "05b1cdaef1bf4a5cb9de622792b3662b": {
          "model_module": "@jupyter-widgets/controls",
          "model_name": "DescriptionStyleModel",
          "model_module_version": "1.5.0",
          "state": {
            "_model_module": "@jupyter-widgets/controls",
            "_model_module_version": "1.5.0",
            "_model_name": "DescriptionStyleModel",
            "_view_count": null,
            "_view_module": "@jupyter-widgets/base",
            "_view_module_version": "1.2.0",
            "_view_name": "StyleView",
            "description_width": ""
          }
        },
        "aed48a2952944abf87f7a5ec57a023fb": {
          "model_module": "@jupyter-widgets/base",
          "model_name": "LayoutModel",
          "model_module_version": "1.2.0",
          "state": {
            "_model_module": "@jupyter-widgets/base",
            "_model_module_version": "1.2.0",
            "_model_name": "LayoutModel",
            "_view_count": null,
            "_view_module": "@jupyter-widgets/base",
            "_view_module_version": "1.2.0",
            "_view_name": "LayoutView",
            "align_content": null,
            "align_items": null,
            "align_self": null,
            "border": null,
            "bottom": null,
            "display": null,
            "flex": null,
            "flex_flow": null,
            "grid_area": null,
            "grid_auto_columns": null,
            "grid_auto_flow": null,
            "grid_auto_rows": null,
            "grid_column": null,
            "grid_gap": null,
            "grid_row": null,
            "grid_template_areas": null,
            "grid_template_columns": null,
            "grid_template_rows": null,
            "height": null,
            "justify_content": null,
            "justify_items": null,
            "left": null,
            "margin": null,
            "max_height": null,
            "max_width": null,
            "min_height": null,
            "min_width": null,
            "object_fit": null,
            "object_position": null,
            "order": null,
            "overflow": null,
            "overflow_x": null,
            "overflow_y": null,
            "padding": null,
            "right": null,
            "top": null,
            "visibility": null,
            "width": null
          }
        },
        "0d29b98885fd4e3aa4f614a20001ed3c": {
          "model_module": "@jupyter-widgets/controls",
          "model_name": "ProgressStyleModel",
          "model_module_version": "1.5.0",
          "state": {
            "_model_module": "@jupyter-widgets/controls",
            "_model_module_version": "1.5.0",
            "_model_name": "ProgressStyleModel",
            "_view_count": null,
            "_view_module": "@jupyter-widgets/base",
            "_view_module_version": "1.2.0",
            "_view_name": "StyleView",
            "bar_color": null,
            "description_width": ""
          }
        },
        "c26c4aa78b7d41e1a16b4674104ed835": {
          "model_module": "@jupyter-widgets/controls",
          "model_name": "VBoxModel",
          "model_module_version": "1.5.0",
          "state": {
            "_dom_classes": [],
            "_model_module": "@jupyter-widgets/controls",
            "_model_module_version": "1.5.0",
            "_model_name": "VBoxModel",
            "_view_count": null,
            "_view_module": "@jupyter-widgets/controls",
            "_view_module_version": "1.5.0",
            "_view_name": "VBoxView",
            "box_style": "",
            "children": [
              "IPY_MODEL_34209016037446ea89e8759d9ae1c7f7",
              "IPY_MODEL_1160214aa5cc449b9c97037c4c752330"
            ],
            "layout": "IPY_MODEL_7a8f4c78f1cd490295837391ed7f6d3c"
          }
        },
        "34209016037446ea89e8759d9ae1c7f7": {
          "model_module": "@jupyter-widgets/controls",
          "model_name": "LabelModel",
          "model_module_version": "1.5.0",
          "state": {
            "_dom_classes": [],
            "_model_module": "@jupyter-widgets/controls",
            "_model_module_version": "1.5.0",
            "_model_name": "LabelModel",
            "_view_count": null,
            "_view_module": "@jupyter-widgets/controls",
            "_view_module_version": "1.5.0",
            "_view_name": "LabelView",
            "description": "",
            "description_tooltip": null,
            "layout": "IPY_MODEL_aed5fe944d124734b40fa52cef3f863f",
            "placeholder": "​",
            "style": "IPY_MODEL_d1d9b9aabad148efb36890583d5e02c4",
            "value": "0.009 MB of 0.009 MB uploaded (0.000 MB deduped)\r"
          }
        },
        "1160214aa5cc449b9c97037c4c752330": {
          "model_module": "@jupyter-widgets/controls",
          "model_name": "FloatProgressModel",
          "model_module_version": "1.5.0",
          "state": {
            "_dom_classes": [],
            "_model_module": "@jupyter-widgets/controls",
            "_model_module_version": "1.5.0",
            "_model_name": "FloatProgressModel",
            "_view_count": null,
            "_view_module": "@jupyter-widgets/controls",
            "_view_module_version": "1.5.0",
            "_view_name": "ProgressView",
            "bar_style": "",
            "description": "",
            "description_tooltip": null,
            "layout": "IPY_MODEL_b2fc81a0401e4046a12fe4b8054ab69c",
            "max": 1,
            "min": 0,
            "orientation": "horizontal",
            "style": "IPY_MODEL_a38d11f5ac354bea89a9afa6f58428d7",
            "value": 1
          }
        },
        "7a8f4c78f1cd490295837391ed7f6d3c": {
          "model_module": "@jupyter-widgets/base",
          "model_name": "LayoutModel",
          "model_module_version": "1.2.0",
          "state": {
            "_model_module": "@jupyter-widgets/base",
            "_model_module_version": "1.2.0",
            "_model_name": "LayoutModel",
            "_view_count": null,
            "_view_module": "@jupyter-widgets/base",
            "_view_module_version": "1.2.0",
            "_view_name": "LayoutView",
            "align_content": null,
            "align_items": null,
            "align_self": null,
            "border": null,
            "bottom": null,
            "display": null,
            "flex": null,
            "flex_flow": null,
            "grid_area": null,
            "grid_auto_columns": null,
            "grid_auto_flow": null,
            "grid_auto_rows": null,
            "grid_column": null,
            "grid_gap": null,
            "grid_row": null,
            "grid_template_areas": null,
            "grid_template_columns": null,
            "grid_template_rows": null,
            "height": null,
            "justify_content": null,
            "justify_items": null,
            "left": null,
            "margin": null,
            "max_height": null,
            "max_width": null,
            "min_height": null,
            "min_width": null,
            "object_fit": null,
            "object_position": null,
            "order": null,
            "overflow": null,
            "overflow_x": null,
            "overflow_y": null,
            "padding": null,
            "right": null,
            "top": null,
            "visibility": null,
            "width": null
          }
        },
        "aed5fe944d124734b40fa52cef3f863f": {
          "model_module": "@jupyter-widgets/base",
          "model_name": "LayoutModel",
          "model_module_version": "1.2.0",
          "state": {
            "_model_module": "@jupyter-widgets/base",
            "_model_module_version": "1.2.0",
            "_model_name": "LayoutModel",
            "_view_count": null,
            "_view_module": "@jupyter-widgets/base",
            "_view_module_version": "1.2.0",
            "_view_name": "LayoutView",
            "align_content": null,
            "align_items": null,
            "align_self": null,
            "border": null,
            "bottom": null,
            "display": null,
            "flex": null,
            "flex_flow": null,
            "grid_area": null,
            "grid_auto_columns": null,
            "grid_auto_flow": null,
            "grid_auto_rows": null,
            "grid_column": null,
            "grid_gap": null,
            "grid_row": null,
            "grid_template_areas": null,
            "grid_template_columns": null,
            "grid_template_rows": null,
            "height": null,
            "justify_content": null,
            "justify_items": null,
            "left": null,
            "margin": null,
            "max_height": null,
            "max_width": null,
            "min_height": null,
            "min_width": null,
            "object_fit": null,
            "object_position": null,
            "order": null,
            "overflow": null,
            "overflow_x": null,
            "overflow_y": null,
            "padding": null,
            "right": null,
            "top": null,
            "visibility": null,
            "width": null
          }
        },
        "d1d9b9aabad148efb36890583d5e02c4": {
          "model_module": "@jupyter-widgets/controls",
          "model_name": "DescriptionStyleModel",
          "model_module_version": "1.5.0",
          "state": {
            "_model_module": "@jupyter-widgets/controls",
            "_model_module_version": "1.5.0",
            "_model_name": "DescriptionStyleModel",
            "_view_count": null,
            "_view_module": "@jupyter-widgets/base",
            "_view_module_version": "1.2.0",
            "_view_name": "StyleView",
            "description_width": ""
          }
        },
        "b2fc81a0401e4046a12fe4b8054ab69c": {
          "model_module": "@jupyter-widgets/base",
          "model_name": "LayoutModel",
          "model_module_version": "1.2.0",
          "state": {
            "_model_module": "@jupyter-widgets/base",
            "_model_module_version": "1.2.0",
            "_model_name": "LayoutModel",
            "_view_count": null,
            "_view_module": "@jupyter-widgets/base",
            "_view_module_version": "1.2.0",
            "_view_name": "LayoutView",
            "align_content": null,
            "align_items": null,
            "align_self": null,
            "border": null,
            "bottom": null,
            "display": null,
            "flex": null,
            "flex_flow": null,
            "grid_area": null,
            "grid_auto_columns": null,
            "grid_auto_flow": null,
            "grid_auto_rows": null,
            "grid_column": null,
            "grid_gap": null,
            "grid_row": null,
            "grid_template_areas": null,
            "grid_template_columns": null,
            "grid_template_rows": null,
            "height": null,
            "justify_content": null,
            "justify_items": null,
            "left": null,
            "margin": null,
            "max_height": null,
            "max_width": null,
            "min_height": null,
            "min_width": null,
            "object_fit": null,
            "object_position": null,
            "order": null,
            "overflow": null,
            "overflow_x": null,
            "overflow_y": null,
            "padding": null,
            "right": null,
            "top": null,
            "visibility": null,
            "width": null
          }
        },
        "a38d11f5ac354bea89a9afa6f58428d7": {
          "model_module": "@jupyter-widgets/controls",
          "model_name": "ProgressStyleModel",
          "model_module_version": "1.5.0",
          "state": {
            "_model_module": "@jupyter-widgets/controls",
            "_model_module_version": "1.5.0",
            "_model_name": "ProgressStyleModel",
            "_view_count": null,
            "_view_module": "@jupyter-widgets/base",
            "_view_module_version": "1.2.0",
            "_view_name": "StyleView",
            "bar_color": null,
            "description_width": ""
          }
        },
        "015c17836fbf420aa2e61360dc840d3a": {
          "model_module": "@jupyter-widgets/controls",
          "model_name": "VBoxModel",
          "model_module_version": "1.5.0",
          "state": {
            "_dom_classes": [],
            "_model_module": "@jupyter-widgets/controls",
            "_model_module_version": "1.5.0",
            "_model_name": "VBoxModel",
            "_view_count": null,
            "_view_module": "@jupyter-widgets/controls",
            "_view_module_version": "1.5.0",
            "_view_name": "VBoxView",
            "box_style": "",
            "children": [
              "IPY_MODEL_d453cfed476446adbcc819c69046dd31",
              "IPY_MODEL_a3725ccaa1c24bef913555fd9e208ae2"
            ],
            "layout": "IPY_MODEL_231a1fd83830480d87a410a7b19efaf6"
          }
        },
        "d453cfed476446adbcc819c69046dd31": {
          "model_module": "@jupyter-widgets/controls",
          "model_name": "LabelModel",
          "model_module_version": "1.5.0",
          "state": {
            "_dom_classes": [],
            "_model_module": "@jupyter-widgets/controls",
            "_model_module_version": "1.5.0",
            "_model_name": "LabelModel",
            "_view_count": null,
            "_view_module": "@jupyter-widgets/controls",
            "_view_module_version": "1.5.0",
            "_view_name": "LabelView",
            "description": "",
            "description_tooltip": null,
            "layout": "IPY_MODEL_19d700184437434eb813bc1afd2aaf3b",
            "placeholder": "​",
            "style": "IPY_MODEL_032ac397622343ec84b856218c654028",
            "value": "179.744 MB of 179.744 MB uploaded (0.000 MB deduped)\r"
          }
        },
        "a3725ccaa1c24bef913555fd9e208ae2": {
          "model_module": "@jupyter-widgets/controls",
          "model_name": "FloatProgressModel",
          "model_module_version": "1.5.0",
          "state": {
            "_dom_classes": [],
            "_model_module": "@jupyter-widgets/controls",
            "_model_module_version": "1.5.0",
            "_model_name": "FloatProgressModel",
            "_view_count": null,
            "_view_module": "@jupyter-widgets/controls",
            "_view_module_version": "1.5.0",
            "_view_name": "ProgressView",
            "bar_style": "",
            "description": "",
            "description_tooltip": null,
            "layout": "IPY_MODEL_ca2e7f31d32f40d98a3bbe9b9c44810e",
            "max": 1,
            "min": 0,
            "orientation": "horizontal",
            "style": "IPY_MODEL_68bf73fb6d8c4a5396a8fc637b4d74f9",
            "value": 1
          }
        },
        "231a1fd83830480d87a410a7b19efaf6": {
          "model_module": "@jupyter-widgets/base",
          "model_name": "LayoutModel",
          "model_module_version": "1.2.0",
          "state": {
            "_model_module": "@jupyter-widgets/base",
            "_model_module_version": "1.2.0",
            "_model_name": "LayoutModel",
            "_view_count": null,
            "_view_module": "@jupyter-widgets/base",
            "_view_module_version": "1.2.0",
            "_view_name": "LayoutView",
            "align_content": null,
            "align_items": null,
            "align_self": null,
            "border": null,
            "bottom": null,
            "display": null,
            "flex": null,
            "flex_flow": null,
            "grid_area": null,
            "grid_auto_columns": null,
            "grid_auto_flow": null,
            "grid_auto_rows": null,
            "grid_column": null,
            "grid_gap": null,
            "grid_row": null,
            "grid_template_areas": null,
            "grid_template_columns": null,
            "grid_template_rows": null,
            "height": null,
            "justify_content": null,
            "justify_items": null,
            "left": null,
            "margin": null,
            "max_height": null,
            "max_width": null,
            "min_height": null,
            "min_width": null,
            "object_fit": null,
            "object_position": null,
            "order": null,
            "overflow": null,
            "overflow_x": null,
            "overflow_y": null,
            "padding": null,
            "right": null,
            "top": null,
            "visibility": null,
            "width": null
          }
        },
        "19d700184437434eb813bc1afd2aaf3b": {
          "model_module": "@jupyter-widgets/base",
          "model_name": "LayoutModel",
          "model_module_version": "1.2.0",
          "state": {
            "_model_module": "@jupyter-widgets/base",
            "_model_module_version": "1.2.0",
            "_model_name": "LayoutModel",
            "_view_count": null,
            "_view_module": "@jupyter-widgets/base",
            "_view_module_version": "1.2.0",
            "_view_name": "LayoutView",
            "align_content": null,
            "align_items": null,
            "align_self": null,
            "border": null,
            "bottom": null,
            "display": null,
            "flex": null,
            "flex_flow": null,
            "grid_area": null,
            "grid_auto_columns": null,
            "grid_auto_flow": null,
            "grid_auto_rows": null,
            "grid_column": null,
            "grid_gap": null,
            "grid_row": null,
            "grid_template_areas": null,
            "grid_template_columns": null,
            "grid_template_rows": null,
            "height": null,
            "justify_content": null,
            "justify_items": null,
            "left": null,
            "margin": null,
            "max_height": null,
            "max_width": null,
            "min_height": null,
            "min_width": null,
            "object_fit": null,
            "object_position": null,
            "order": null,
            "overflow": null,
            "overflow_x": null,
            "overflow_y": null,
            "padding": null,
            "right": null,
            "top": null,
            "visibility": null,
            "width": null
          }
        },
        "032ac397622343ec84b856218c654028": {
          "model_module": "@jupyter-widgets/controls",
          "model_name": "DescriptionStyleModel",
          "model_module_version": "1.5.0",
          "state": {
            "_model_module": "@jupyter-widgets/controls",
            "_model_module_version": "1.5.0",
            "_model_name": "DescriptionStyleModel",
            "_view_count": null,
            "_view_module": "@jupyter-widgets/base",
            "_view_module_version": "1.2.0",
            "_view_name": "StyleView",
            "description_width": ""
          }
        },
        "ca2e7f31d32f40d98a3bbe9b9c44810e": {
          "model_module": "@jupyter-widgets/base",
          "model_name": "LayoutModel",
          "model_module_version": "1.2.0",
          "state": {
            "_model_module": "@jupyter-widgets/base",
            "_model_module_version": "1.2.0",
            "_model_name": "LayoutModel",
            "_view_count": null,
            "_view_module": "@jupyter-widgets/base",
            "_view_module_version": "1.2.0",
            "_view_name": "LayoutView",
            "align_content": null,
            "align_items": null,
            "align_self": null,
            "border": null,
            "bottom": null,
            "display": null,
            "flex": null,
            "flex_flow": null,
            "grid_area": null,
            "grid_auto_columns": null,
            "grid_auto_flow": null,
            "grid_auto_rows": null,
            "grid_column": null,
            "grid_gap": null,
            "grid_row": null,
            "grid_template_areas": null,
            "grid_template_columns": null,
            "grid_template_rows": null,
            "height": null,
            "justify_content": null,
            "justify_items": null,
            "left": null,
            "margin": null,
            "max_height": null,
            "max_width": null,
            "min_height": null,
            "min_width": null,
            "object_fit": null,
            "object_position": null,
            "order": null,
            "overflow": null,
            "overflow_x": null,
            "overflow_y": null,
            "padding": null,
            "right": null,
            "top": null,
            "visibility": null,
            "width": null
          }
        },
        "68bf73fb6d8c4a5396a8fc637b4d74f9": {
          "model_module": "@jupyter-widgets/controls",
          "model_name": "ProgressStyleModel",
          "model_module_version": "1.5.0",
          "state": {
            "_model_module": "@jupyter-widgets/controls",
            "_model_module_version": "1.5.0",
            "_model_name": "ProgressStyleModel",
            "_view_count": null,
            "_view_module": "@jupyter-widgets/base",
            "_view_module_version": "1.2.0",
            "_view_name": "StyleView",
            "bar_color": null,
            "description_width": ""
          }
        },
        "2d1b65897c8a4420b219fcd89a2bb519": {
          "model_module": "@jupyter-widgets/controls",
          "model_name": "VBoxModel",
          "model_module_version": "1.5.0",
          "state": {
            "_dom_classes": [],
            "_model_module": "@jupyter-widgets/controls",
            "_model_module_version": "1.5.0",
            "_model_name": "VBoxModel",
            "_view_count": null,
            "_view_module": "@jupyter-widgets/controls",
            "_view_module_version": "1.5.0",
            "_view_name": "VBoxView",
            "box_style": "",
            "children": [
              "IPY_MODEL_b6ec256934ad44f0886306b3b01fd42f",
              "IPY_MODEL_209507f874aa485884e3dbff2ba0151e"
            ],
            "layout": "IPY_MODEL_9cbf7440c9fa4040aea3c91d99cee34b"
          }
        },
        "b6ec256934ad44f0886306b3b01fd42f": {
          "model_module": "@jupyter-widgets/controls",
          "model_name": "LabelModel",
          "model_module_version": "1.5.0",
          "state": {
            "_dom_classes": [],
            "_model_module": "@jupyter-widgets/controls",
            "_model_module_version": "1.5.0",
            "_model_name": "LabelModel",
            "_view_count": null,
            "_view_module": "@jupyter-widgets/controls",
            "_view_module_version": "1.5.0",
            "_view_name": "LabelView",
            "description": "",
            "description_tooltip": null,
            "layout": "IPY_MODEL_786f256f952346e2be063f094b07027b",
            "placeholder": "​",
            "style": "IPY_MODEL_4b08dcdde7554cf48f70126ae4f17b00",
            "value": "0.009 MB of 0.009 MB uploaded (0.000 MB deduped)\r"
          }
        },
        "209507f874aa485884e3dbff2ba0151e": {
          "model_module": "@jupyter-widgets/controls",
          "model_name": "FloatProgressModel",
          "model_module_version": "1.5.0",
          "state": {
            "_dom_classes": [],
            "_model_module": "@jupyter-widgets/controls",
            "_model_module_version": "1.5.0",
            "_model_name": "FloatProgressModel",
            "_view_count": null,
            "_view_module": "@jupyter-widgets/controls",
            "_view_module_version": "1.5.0",
            "_view_name": "ProgressView",
            "bar_style": "",
            "description": "",
            "description_tooltip": null,
            "layout": "IPY_MODEL_a1b90a0106994d12b1138df630e21e91",
            "max": 1,
            "min": 0,
            "orientation": "horizontal",
            "style": "IPY_MODEL_cf925114e7ef4278b6ae45a90fc3ff0b",
            "value": 1
          }
        },
        "9cbf7440c9fa4040aea3c91d99cee34b": {
          "model_module": "@jupyter-widgets/base",
          "model_name": "LayoutModel",
          "model_module_version": "1.2.0",
          "state": {
            "_model_module": "@jupyter-widgets/base",
            "_model_module_version": "1.2.0",
            "_model_name": "LayoutModel",
            "_view_count": null,
            "_view_module": "@jupyter-widgets/base",
            "_view_module_version": "1.2.0",
            "_view_name": "LayoutView",
            "align_content": null,
            "align_items": null,
            "align_self": null,
            "border": null,
            "bottom": null,
            "display": null,
            "flex": null,
            "flex_flow": null,
            "grid_area": null,
            "grid_auto_columns": null,
            "grid_auto_flow": null,
            "grid_auto_rows": null,
            "grid_column": null,
            "grid_gap": null,
            "grid_row": null,
            "grid_template_areas": null,
            "grid_template_columns": null,
            "grid_template_rows": null,
            "height": null,
            "justify_content": null,
            "justify_items": null,
            "left": null,
            "margin": null,
            "max_height": null,
            "max_width": null,
            "min_height": null,
            "min_width": null,
            "object_fit": null,
            "object_position": null,
            "order": null,
            "overflow": null,
            "overflow_x": null,
            "overflow_y": null,
            "padding": null,
            "right": null,
            "top": null,
            "visibility": null,
            "width": null
          }
        },
        "786f256f952346e2be063f094b07027b": {
          "model_module": "@jupyter-widgets/base",
          "model_name": "LayoutModel",
          "model_module_version": "1.2.0",
          "state": {
            "_model_module": "@jupyter-widgets/base",
            "_model_module_version": "1.2.0",
            "_model_name": "LayoutModel",
            "_view_count": null,
            "_view_module": "@jupyter-widgets/base",
            "_view_module_version": "1.2.0",
            "_view_name": "LayoutView",
            "align_content": null,
            "align_items": null,
            "align_self": null,
            "border": null,
            "bottom": null,
            "display": null,
            "flex": null,
            "flex_flow": null,
            "grid_area": null,
            "grid_auto_columns": null,
            "grid_auto_flow": null,
            "grid_auto_rows": null,
            "grid_column": null,
            "grid_gap": null,
            "grid_row": null,
            "grid_template_areas": null,
            "grid_template_columns": null,
            "grid_template_rows": null,
            "height": null,
            "justify_content": null,
            "justify_items": null,
            "left": null,
            "margin": null,
            "max_height": null,
            "max_width": null,
            "min_height": null,
            "min_width": null,
            "object_fit": null,
            "object_position": null,
            "order": null,
            "overflow": null,
            "overflow_x": null,
            "overflow_y": null,
            "padding": null,
            "right": null,
            "top": null,
            "visibility": null,
            "width": null
          }
        },
        "4b08dcdde7554cf48f70126ae4f17b00": {
          "model_module": "@jupyter-widgets/controls",
          "model_name": "DescriptionStyleModel",
          "model_module_version": "1.5.0",
          "state": {
            "_model_module": "@jupyter-widgets/controls",
            "_model_module_version": "1.5.0",
            "_model_name": "DescriptionStyleModel",
            "_view_count": null,
            "_view_module": "@jupyter-widgets/base",
            "_view_module_version": "1.2.0",
            "_view_name": "StyleView",
            "description_width": ""
          }
        },
        "a1b90a0106994d12b1138df630e21e91": {
          "model_module": "@jupyter-widgets/base",
          "model_name": "LayoutModel",
          "model_module_version": "1.2.0",
          "state": {
            "_model_module": "@jupyter-widgets/base",
            "_model_module_version": "1.2.0",
            "_model_name": "LayoutModel",
            "_view_count": null,
            "_view_module": "@jupyter-widgets/base",
            "_view_module_version": "1.2.0",
            "_view_name": "LayoutView",
            "align_content": null,
            "align_items": null,
            "align_self": null,
            "border": null,
            "bottom": null,
            "display": null,
            "flex": null,
            "flex_flow": null,
            "grid_area": null,
            "grid_auto_columns": null,
            "grid_auto_flow": null,
            "grid_auto_rows": null,
            "grid_column": null,
            "grid_gap": null,
            "grid_row": null,
            "grid_template_areas": null,
            "grid_template_columns": null,
            "grid_template_rows": null,
            "height": null,
            "justify_content": null,
            "justify_items": null,
            "left": null,
            "margin": null,
            "max_height": null,
            "max_width": null,
            "min_height": null,
            "min_width": null,
            "object_fit": null,
            "object_position": null,
            "order": null,
            "overflow": null,
            "overflow_x": null,
            "overflow_y": null,
            "padding": null,
            "right": null,
            "top": null,
            "visibility": null,
            "width": null
          }
        },
        "cf925114e7ef4278b6ae45a90fc3ff0b": {
          "model_module": "@jupyter-widgets/controls",
          "model_name": "ProgressStyleModel",
          "model_module_version": "1.5.0",
          "state": {
            "_model_module": "@jupyter-widgets/controls",
            "_model_module_version": "1.5.0",
            "_model_name": "ProgressStyleModel",
            "_view_count": null,
            "_view_module": "@jupyter-widgets/base",
            "_view_module_version": "1.2.0",
            "_view_name": "StyleView",
            "bar_color": null,
            "description_width": ""
          }
        }
      }
    }
  },
  "cells": [
    {
      "cell_type": "markdown",
      "source": [
        "1) Image size has to be taken care for each model (both in augmentation part and in model defining part)\n",
        "\n",
        "2) With data augmentation it takes around 5 minutes for each epoch, for 64 dense layers and 0.4 dropout\n",
        "\n",
        "For 10 epochs , train and val accuracies are 23.8 and 21\n",
        "\n",
        "\n",
        "3) if else in data augmentation can speed up a bit ???\n",
        "\n",
        "4) Testing on test dataset is not done\n",
        "\n",
        "5) Using grid search, can be changed to bayes later\n",
        "\n",
        "\n",
        "7) Batch size changed from 32 to 64"
      ],
      "metadata": {
        "id": "bCCJNkJ_5KWW"
      }
    },
    {
      "cell_type": "code",
      "source": [
        "# Connecting to google drive\n",
        "from google.colab import drive\n",
        "drive.mount('/content/drive')"
      ],
      "metadata": {
        "colab": {
          "base_uri": "https://localhost:8080/"
        },
        "id": "GjxdxEnsZU2y",
        "outputId": "66f382e5-2acf-45dc-c37a-8c37680ecc6b"
      },
      "execution_count": null,
      "outputs": [
        {
          "output_type": "stream",
          "name": "stdout",
          "text": [
            "Mounted at /content/drive\n"
          ]
        }
      ]
    },
    {
      "cell_type": "code",
      "source": [
        "# Wandb \n",
        "!pip install wandb --upgrade"
      ],
      "metadata": {
        "id": "dOjiryu4Zgg7",
        "colab": {
          "base_uri": "https://localhost:8080/"
        },
        "outputId": "18510bf9-ed26-4dfe-d8c8-58284a8f1da5"
      },
      "execution_count": null,
      "outputs": [
        {
          "output_type": "stream",
          "name": "stdout",
          "text": [
            "Collecting wandb\n",
            "  Downloading wandb-0.12.11-py2.py3-none-any.whl (1.7 MB)\n",
            "\u001b[K     |████████████████████████████████| 1.7 MB 7.8 MB/s \n",
            "\u001b[?25hRequirement already satisfied: psutil>=5.0.0 in /usr/local/lib/python3.7/dist-packages (from wandb) (5.4.8)\n",
            "Requirement already satisfied: Click!=8.0.0,>=7.0 in /usr/local/lib/python3.7/dist-packages (from wandb) (7.1.2)\n",
            "Requirement already satisfied: python-dateutil>=2.6.1 in /usr/local/lib/python3.7/dist-packages (from wandb) (2.8.2)\n",
            "Collecting sentry-sdk>=1.0.0\n",
            "  Downloading sentry_sdk-1.5.8-py2.py3-none-any.whl (144 kB)\n",
            "\u001b[K     |████████████████████████████████| 144 kB 67.5 MB/s \n",
            "\u001b[?25hCollecting setproctitle\n",
            "  Downloading setproctitle-1.2.2-cp37-cp37m-manylinux1_x86_64.whl (36 kB)\n",
            "Collecting shortuuid>=0.5.0\n",
            "  Downloading shortuuid-1.0.8-py3-none-any.whl (9.5 kB)\n",
            "Requirement already satisfied: requests<3,>=2.0.0 in /usr/local/lib/python3.7/dist-packages (from wandb) (2.23.0)\n",
            "Collecting yaspin>=1.0.0\n",
            "  Downloading yaspin-2.1.0-py3-none-any.whl (18 kB)\n",
            "Collecting pathtools\n",
            "  Downloading pathtools-0.1.2.tar.gz (11 kB)\n",
            "Requirement already satisfied: promise<3,>=2.0 in /usr/local/lib/python3.7/dist-packages (from wandb) (2.3)\n",
            "Requirement already satisfied: PyYAML in /usr/local/lib/python3.7/dist-packages (from wandb) (3.13)\n",
            "Collecting GitPython>=1.0.0\n",
            "  Downloading GitPython-3.1.27-py3-none-any.whl (181 kB)\n",
            "\u001b[K     |████████████████████████████████| 181 kB 70.2 MB/s \n",
            "\u001b[?25hRequirement already satisfied: protobuf>=3.12.0 in /usr/local/lib/python3.7/dist-packages (from wandb) (3.17.3)\n",
            "Collecting docker-pycreds>=0.4.0\n",
            "  Downloading docker_pycreds-0.4.0-py2.py3-none-any.whl (9.0 kB)\n",
            "Requirement already satisfied: six>=1.13.0 in /usr/local/lib/python3.7/dist-packages (from wandb) (1.15.0)\n",
            "Collecting gitdb<5,>=4.0.1\n",
            "  Downloading gitdb-4.0.9-py3-none-any.whl (63 kB)\n",
            "\u001b[K     |████████████████████████████████| 63 kB 2.7 MB/s \n",
            "\u001b[?25hRequirement already satisfied: typing-extensions>=3.7.4.3 in /usr/local/lib/python3.7/dist-packages (from GitPython>=1.0.0->wandb) (3.10.0.2)\n",
            "Collecting smmap<6,>=3.0.1\n",
            "  Downloading smmap-5.0.0-py3-none-any.whl (24 kB)\n",
            "Requirement already satisfied: idna<3,>=2.5 in /usr/local/lib/python3.7/dist-packages (from requests<3,>=2.0.0->wandb) (2.10)\n",
            "Requirement already satisfied: urllib3!=1.25.0,!=1.25.1,<1.26,>=1.21.1 in /usr/local/lib/python3.7/dist-packages (from requests<3,>=2.0.0->wandb) (1.24.3)\n",
            "Requirement already satisfied: chardet<4,>=3.0.2 in /usr/local/lib/python3.7/dist-packages (from requests<3,>=2.0.0->wandb) (3.0.4)\n",
            "Requirement already satisfied: certifi>=2017.4.17 in /usr/local/lib/python3.7/dist-packages (from requests<3,>=2.0.0->wandb) (2021.10.8)\n",
            "Requirement already satisfied: termcolor<2.0.0,>=1.1.0 in /usr/local/lib/python3.7/dist-packages (from yaspin>=1.0.0->wandb) (1.1.0)\n",
            "Building wheels for collected packages: pathtools\n",
            "  Building wheel for pathtools (setup.py) ... \u001b[?25l\u001b[?25hdone\n",
            "  Created wheel for pathtools: filename=pathtools-0.1.2-py3-none-any.whl size=8806 sha256=fcdf02d9d705aca73f89eaba4ff59123d2e23036fdea985650a1fed842bd71d6\n",
            "  Stored in directory: /root/.cache/pip/wheels/3e/31/09/fa59cef12cdcfecc627b3d24273699f390e71828921b2cbba2\n",
            "Successfully built pathtools\n",
            "Installing collected packages: smmap, gitdb, yaspin, shortuuid, setproctitle, sentry-sdk, pathtools, GitPython, docker-pycreds, wandb\n",
            "Successfully installed GitPython-3.1.27 docker-pycreds-0.4.0 gitdb-4.0.9 pathtools-0.1.2 sentry-sdk-1.5.8 setproctitle-1.2.2 shortuuid-1.0.8 smmap-5.0.0 wandb-0.12.11 yaspin-2.1.0\n"
          ]
        }
      ]
    },
    {
      "cell_type": "code",
      "source": [
        "import tensorflow as tf\n",
        "import numpy as np\n",
        "import wandb\n",
        "\n",
        "from tensorflow.keras.applications.resnet50 import ResNet50\n",
        "from keras.applications.inception_resnet_v2 import InceptionResNetV2\n",
        "from tensorflow.keras.applications.inception_v3 import InceptionV3\n",
        "from tensorflow.keras.applications.xception import Xception\n",
        "from tensorflow.keras.applications.resnet50 import preprocess_input, decode_predictions\n",
        "\n",
        "from tensorflow.keras.preprocessing import image\n",
        "\n",
        "from tensorflow.keras.layers import Dense,Dropout,Input,Flatten,MaxPooling2D,BatchNormalization\n",
        "\n",
        "from wandb.keras import WandbCallback"
      ],
      "metadata": {
        "id": "UmFD0uQGl82C"
      },
      "execution_count": null,
      "outputs": []
    },
    {
      "cell_type": "code",
      "source": [
        ""
      ],
      "metadata": {
        "id": "x1tIubWnmFoE"
      },
      "execution_count": null,
      "outputs": []
    },
    {
      "cell_type": "code",
      "source": [
        ""
      ],
      "metadata": {
        "id": "Zz2xpbIhzBq4"
      },
      "execution_count": null,
      "outputs": []
    },
    {
      "cell_type": "code",
      "source": [
        "\n",
        "# GPU test\n",
        "\n",
        "%tensorflow_version 2.x\n",
        "import tensorflow as tf\n",
        "import timeit\n",
        "\n",
        "# We run this to warm up; see: https://stackoverflow.com/a/45067900\n",
        "device_name = tf.test.gpu_device_name()\n",
        "if device_name != '/device:GPU:0':\n",
        "  print(\n",
        "      '\\n\\nThis error states that this notebook is not '\n",
        "      'configured to use a GPU. Change this in the notebook Settings via the Runtime type or  '\n",
        "      'command palette (cmd/ctrl-shift-P) or the Edit menu .\\n\\n')\n",
        "  raise SystemError('GPU device not found')\n",
        "\n",
        "def cpu():\n",
        "  with tf.device('/cpu:0'):\n",
        "    random_image_cpu = tf.random.normal((100, 100, 100, 3))\n",
        "    net_cpu = tf.keras.layers.Conv2D(32, 7)(random_image_cpu)\n",
        "    return tf.math.reduce_sum(net_cpu)\n",
        "\n",
        "def gpu():\n",
        "  with tf.device('/device:GPU:0'):\n",
        "    random_image_gpu = tf.random.normal((100, 100, 100, 3))\n",
        "    net_gpu = tf.keras.layers.Conv2D(32, 7)(random_image_gpu)\n",
        "    return tf.math.reduce_sum(net_gpu)\n",
        "\n",
        "cpu()\n",
        "gpu()\n",
        "\n",
        "# Run the op several times.\n",
        "print('Time (s) to convolve 32x7x7x3 filter over random 100x100x100x3 images '\n",
        "      '(batch x height x width x channel). Sum of ten runs.')\n",
        "print('CPU (s):')\n",
        "cpu_time = timeit.timeit('cpu()', number=10, setup=\"from __main__ import cpu\")\n",
        "print(cpu_time)\n",
        "print('GPU (s):')\n",
        "gpu_time = timeit.timeit('gpu()', number=10, setup=\"from __main__ import gpu\")\n",
        "print(gpu_time)\n",
        "print('GPU speedup over CPU: {}x'.format(int(cpu_time/gpu_time)))"
      ],
      "metadata": {
        "colab": {
          "base_uri": "https://localhost:8080/"
        },
        "id": "kfMlYTBEaNJY",
        "outputId": "8321c120-89bb-4cd1-e589-c8c45251e902"
      },
      "execution_count": null,
      "outputs": [
        {
          "output_type": "stream",
          "name": "stdout",
          "text": [
            "Time (s) to convolve 32x7x7x3 filter over random 100x100x100x3 images (batch x height x width x channel). Sum of ten runs.\n",
            "CPU (s):\n",
            "3.012319839999975\n",
            "GPU (s):\n",
            "0.03793960799998786\n",
            "GPU speedup over CPU: 79x\n"
          ]
        }
      ]
    },
    {
      "cell_type": "code",
      "source": [
        ""
      ],
      "metadata": {
        "id": "P-JOPTZNal_i"
      },
      "execution_count": null,
      "outputs": []
    },
    {
      "cell_type": "code",
      "source": [
        "# train and test directory locations\n",
        "\n",
        "train_dir = \"/content/drive/MyDrive/inaturalist_12K/train\"\n",
        "val_dir = \"/content/drive/MyDrive/inaturalist_12K/val\"\n",
        "\n",
        "isSweep = False "
      ],
      "metadata": {
        "id": "_DWCO-6KarmZ"
      },
      "execution_count": null,
      "outputs": []
    },
    {
      "cell_type": "code",
      "source": [
        "wandb.login()"
      ],
      "metadata": {
        "colab": {
          "base_uri": "https://localhost:8080/",
          "height": 109
        },
        "id": "D8QJQ_evwDWt",
        "outputId": "1b81230e-1bdd-4762-b917-38721918d14a"
      },
      "execution_count": null,
      "outputs": [
        {
          "output_type": "display_data",
          "data": {
            "text/plain": [
              "<IPython.core.display.Javascript object>"
            ],
            "application/javascript": [
              "\n",
              "        window._wandbApiKey = new Promise((resolve, reject) => {\n",
              "            function loadScript(url) {\n",
              "            return new Promise(function(resolve, reject) {\n",
              "                let newScript = document.createElement(\"script\");\n",
              "                newScript.onerror = reject;\n",
              "                newScript.onload = resolve;\n",
              "                document.body.appendChild(newScript);\n",
              "                newScript.src = url;\n",
              "            });\n",
              "            }\n",
              "            loadScript(\"https://cdn.jsdelivr.net/npm/postmate/build/postmate.min.js\").then(() => {\n",
              "            const iframe = document.createElement('iframe')\n",
              "            iframe.style.cssText = \"width:0;height:0;border:none\"\n",
              "            document.body.appendChild(iframe)\n",
              "            const handshake = new Postmate({\n",
              "                container: iframe,\n",
              "                url: 'https://wandb.ai/authorize'\n",
              "            });\n",
              "            const timeout = setTimeout(() => reject(\"Couldn't auto authenticate\"), 5000)\n",
              "            handshake.then(function(child) {\n",
              "                child.on('authorize', data => {\n",
              "                    clearTimeout(timeout)\n",
              "                    resolve(data)\n",
              "                });\n",
              "            });\n",
              "            })\n",
              "        });\n",
              "    "
            ]
          },
          "metadata": {}
        },
        {
          "output_type": "stream",
          "name": "stderr",
          "text": [
            "\u001b[34m\u001b[1mwandb\u001b[0m: You can find your API key in your browser here: https://wandb.ai/authorize\n"
          ]
        },
        {
          "name": "stdout",
          "output_type": "stream",
          "text": [
            "wandb: Paste an API key from your profile and hit enter, or press ctrl+c to quit: ··········\n"
          ]
        },
        {
          "output_type": "stream",
          "name": "stderr",
          "text": [
            "\u001b[34m\u001b[1mwandb\u001b[0m: Appending key for api.wandb.ai to your netrc file: /root/.netrc\n"
          ]
        },
        {
          "output_type": "execute_result",
          "data": {
            "text/plain": [
              "True"
            ]
          },
          "metadata": {},
          "execution_count": 6
        }
      ]
    },
    {
      "cell_type": "code",
      "source": [
        "isSweep = True \n",
        "\n",
        "sweepMethod ='bayes' #['grid','bayes','random']\n",
        "\n",
        "if isSweep:\n",
        "\n",
        "  sweepConfig = {'name': sweepMethod + '-fine-tuning-sweep',\n",
        "                'method': sweepMethod,\n",
        "                'metric' : {'name': 'val_acc', \n",
        "                            'goal': 'maximize'}\n",
        "                }\n",
        "\n",
        "  parameters = {\n",
        "      \n",
        "      'modelName'  : {'values': ['ResNet50','InceptionV3','Xception','InceptionResNetV2']},\n",
        "      'denseSize'  : {'values': [64,128]},\n",
        "      'num_epochs' : {'values': [10,20]},\n",
        "      'dropOut'    : {'values': [0.2,0.4]},\n",
        "      'batchNorm'  : {'values': [0,1]},\n",
        "      'isDataAug'  : {'values': [0,1]},\n",
        "      'optimizer'  : {'values': ['adam']},\n",
        "  }\n",
        "\n",
        "  sweepConfig['parameters'] = parameters\n",
        "  sweepID = wandb.sweep(sweepConfig, project=\"cs6910_assignment2\", entity=\"cs6910_assignment\")\n"
      ],
      "metadata": {
        "id": "0Hn_O5Divu3x",
        "colab": {
          "base_uri": "https://localhost:8080/"
        },
        "outputId": "0caf86b1-bee2-40af-8f2f-1eea5b19c940"
      },
      "execution_count": null,
      "outputs": [
        {
          "output_type": "stream",
          "name": "stdout",
          "text": [
            "Create sweep with ID: quovp6po\n",
            "Sweep URL: https://wandb.ai/cs6910_assignment/cs6910_assignment2/sweeps/quovp6po\n"
          ]
        }
      ]
    },
    {
      "cell_type": "code",
      "source": [
        "def createDataset(imgHeight,imgWidth,isDataAug):\n",
        "\n",
        "  imgSize = (imgHeight, imgWidth) \n",
        "  batchSize = 32\n",
        "  if isDataAug:\n",
        "    train_datagen = tf.keras.preprocessing.image.ImageDataGenerator(\n",
        "                    rescale=1./255,\n",
        "                    validation_split = 0.2,\n",
        "                    shear_range=0.2,\n",
        "                    zoom_range=0.2,\n",
        "                    featurewise_center=False,  # set input mean to 0 over the dataset\n",
        "                    samplewise_center=False,  # set each sample mean to 0\n",
        "                    featurewise_std_normalization=False,  # divide inputs by std of the dataset\n",
        "                    samplewise_std_normalization=False,  # divide each input by its std\n",
        "                    zca_whitening=False,  # apply ZCA whitening\n",
        "                    rotation_range=15,  # randomly rotate images in the range (degrees, 0 to 180)\n",
        "                    width_shift_range=0.1,  # randomly shift images horizontally (fraction of total width)\n",
        "                    height_shift_range=0.1,  # randomly shift images vertically (fraction of total height)\n",
        "                    horizontal_flip=True,  # randomly flip images\n",
        "                    vertical_flip=False\n",
        "                    )\n",
        "\n",
        "    train_data = train_datagen.flow_from_directory(\n",
        "            train_dir,\n",
        "            subset='training',\n",
        "            target_size=imgSize,\n",
        "            batch_size=batchSize,\n",
        "            class_mode='categorical',\n",
        "            shuffle = True,\n",
        "            seed = 123)\n",
        "\n",
        "    val_data  = train_datagen.flow_from_directory(\n",
        "            train_dir,\n",
        "            subset='validation',\n",
        "            target_size=imgSize,\n",
        "            batch_size=batchSize,\n",
        "            class_mode='categorical',\n",
        "            shuffle = True,\n",
        "            seed = 123)\n",
        "    \n",
        "  else:\n",
        "    train_data = tf.keras.utils.image_dataset_from_directory(\n",
        "                          directory = train_dir,\n",
        "                          labels = 'inferred',  \n",
        "                          label_mode = 'categorical',\n",
        "                          color_mode = 'rgb',\n",
        "                          batch_size = batchSize,\n",
        "                          image_size = imgSize,\n",
        "                          shuffle = True,\n",
        "                          seed = 5,\n",
        "                          validation_split = 0.2,\n",
        "                          subset = 'training')\n",
        "\n",
        "    val_data = tf.keras.utils.image_dataset_from_directory(\n",
        "                          directory = train_dir,\n",
        "                          labels = 'inferred',  \n",
        "                          label_mode = 'categorical',\n",
        "                          color_mode = 'rgb',\n",
        "                          batch_size = batchSize,\n",
        "                          image_size = imgSize,\n",
        "                          shuffle = True,\n",
        "                          seed = 5,\n",
        "                          validation_split = 0.2,\n",
        "                          subset = 'validation')\n",
        "\n",
        "\n",
        "    # Retaining 25 percent of train and validation data and discarding the rest\n",
        "    len_train, len_val = len(train_data), len(val_data)\n",
        "    train_data = train_data.take(int(0.25*len_train))\n",
        "    val_data = val_data.take(int(0.25*len_val))\n",
        "\n",
        "  return train_data , val_data"
      ],
      "metadata": {
        "id": "-Mb5hOYEaEsl"
      },
      "execution_count": null,
      "outputs": []
    },
    {
      "cell_type": "code",
      "source": [
        "def train(config=False):\n",
        "  # with wandb.init(config=config):\n",
        "  with tf.device('/device:GPU:0'):\n",
        "\n",
        "    #Dynamic values for sweeping\n",
        "    #Hardcoded for testing \n",
        "    denseSize = 64\n",
        "    optimizer = 'adam'\n",
        "    num_epochs = 50\n",
        "    isDataAug = 1\n",
        "    batchNorm=1 \n",
        "    dropOut =0.4\n",
        "    modelName = 'Xception'\n",
        "\n",
        "    if isSweep:\n",
        "      config = sweepConfig\n",
        "      if config:\n",
        "        print(\"Running the Model with the dynamic parameters \")\n",
        "        print(config)\n",
        "        wandb.init(config=config)\n",
        "        config = wandb.init().config\n",
        "        wandb.run.name = 'model_{}_epochs_{}_denseSize_{}_dropOut_{}_batchNorm_{}_isDataAug_{}_Optimizer_{}'\\\n",
        "                          .format(config.modelName, config.num_epochs, config.denseSize, config.dropOut, config.batchNorm, config.isDataAug, config.optimizer)\n",
        "        modelName  = config.modelName\n",
        "        denseSize  = config.denseSize\n",
        "        num_epochs = config.num_epochs\n",
        "        dropOut    = config.dropOut\n",
        "        batchNorm  = config.batchNorm\n",
        "        isDataAug  = config.isDataAug\n",
        "        optimizer  = config.optimizer\n",
        "\n",
        "\n",
        "    if(modelName == \"ResNet50\"):\n",
        "      imgHeight = 224\n",
        "      imgWidth  = 224\n",
        "\n",
        "      base_model = ResNet50(\n",
        "        weights = 'imagenet', # loading the weights, pre trained on ImageNet\n",
        "        input_shape = (imgHeight,imgWidth,3),\n",
        "        include_top = False # Dense layers of the model are not included at the top\n",
        "        )\n",
        "\n",
        "    elif(modelName == \"InceptionV3\"):\n",
        "      imgHeight = 299\n",
        "      imgWidth  = 299\n",
        "\n",
        "      base_model = InceptionV3(\n",
        "        weights = 'imagenet', # loading the weights, pre trained on ImageNet\n",
        "        input_shape = (imgHeight,imgWidth,3),\n",
        "        include_top = False # Dense layers of the model are not included at the top\n",
        "        )\n",
        "\n",
        "    elif(modelName == \"Xception\"):\n",
        "      imgHeight = 299\n",
        "      imgWidth  = 299\n",
        "\n",
        "      base_model = Xception(\n",
        "        weights = 'imagenet', # loading the weights, pre trained on ImageNet\n",
        "        input_shape = (imgHeight,imgWidth,3),\n",
        "        include_top = False # Dense layers of the model are not included at the top\n",
        "        )\n",
        "\n",
        "    elif(modelName == \"InceptionResNetV2\"):\n",
        "      imgHeight = 299\n",
        "      imgWidth  = 299\n",
        "\n",
        "      base_model = InceptionResNetV2(\n",
        "        weights = 'imagenet', # loading the weights, pre trained on ImageNet\n",
        "        input_shape = (imgHeight,imgWidth,3),\n",
        "        include_top = False # Dense layers of the model are not included at the top\n",
        "        )\n",
        "\n",
        "      \n",
        "    train_data , val_data = createDataset(imgHeight,imgWidth,isDataAug) \n",
        "\n",
        "    for layers in base_model.layers:\n",
        "      layers.trainable = False\n",
        "\n",
        "    model = tf.keras.Sequential([\n",
        "      tf.keras.Input(shape=(imgHeight,imgWidth,3,)),\n",
        "      base_model,\n",
        "      Flatten(),\n",
        "      Dense(denseSize,activation='relu'),\n",
        "      ])\n",
        "      \n",
        "    if batchNorm == 1:\n",
        "      model.add(BatchNormalization())\n",
        "\n",
        "    model.add(Dropout(dropOut))\n",
        "    model.add(Dense(denseSize, activation='relu'))\n",
        "    model.add(Dropout(dropOut))\n",
        "    model.add(Dense(10 ,activation='softmax'))\n",
        "\n",
        "    model.compile(\n",
        "        optimizer = optimizer,  \n",
        "        # Loss function to minimize\n",
        "        loss=tf.keras.losses.CategoricalCrossentropy(from_logits=True),#'categorical_crossentropy',\n",
        "        # List of metrics to monitor\n",
        "        metrics=['accuracy'],\n",
        "        )\n",
        "\n",
        "    hist = model.fit(\n",
        "        train_data,\n",
        "        epochs=num_epochs,\n",
        "        validation_data=val_data,\n",
        "        callbacks = [wandb.keras.WandbCallback()]\n",
        "        )\n",
        "  \n",
        "    "
      ],
      "metadata": {
        "id": "FHERoWK0cf7u"
      },
      "execution_count": null,
      "outputs": []
    },
    {
      "cell_type": "code",
      "source": [
        "# isSweep=False\n",
        "if isSweep:\n",
        "  wandb.agent(sweepID, function=train)\n",
        "else:\n",
        "  train()"
      ],
      "metadata": {
        "colab": {
          "base_uri": "https://localhost:8080/",
          "height": 1000,
          "referenced_widgets": [
            "b6c90d8499e64d06bb51ee95493fa480",
            "f4754a540b334e759a717829c1824d83",
            "f8da5f0705504d7cb362ebea9cc665c0",
            "9b389088fd7645abbecb263b5e923ff3",
            "a0dc982942274b3db4dc5f8f4fb384e1",
            "84de1b2ddd444ab5920a3e7c136ebddb",
            "038450de074f4b65a8b7d54e6adc52c9",
            "9fd36aa9c727479b940f0cbf97c1a414",
            "0a65e7a324ad4eab852e15e75ada941d",
            "442313d0c986454ebf28ac2784c60f7a",
            "c6ff5a902b20437b8256161b91159e27",
            "8aea6620aed14829b1a85e0f7ba409f5",
            "c29736727a48478aa76a9f93f952447b",
            "05b1cdaef1bf4a5cb9de622792b3662b",
            "aed48a2952944abf87f7a5ec57a023fb",
            "0d29b98885fd4e3aa4f614a20001ed3c",
            "c26c4aa78b7d41e1a16b4674104ed835",
            "34209016037446ea89e8759d9ae1c7f7",
            "1160214aa5cc449b9c97037c4c752330",
            "7a8f4c78f1cd490295837391ed7f6d3c",
            "aed5fe944d124734b40fa52cef3f863f",
            "d1d9b9aabad148efb36890583d5e02c4",
            "b2fc81a0401e4046a12fe4b8054ab69c",
            "a38d11f5ac354bea89a9afa6f58428d7",
            "015c17836fbf420aa2e61360dc840d3a",
            "d453cfed476446adbcc819c69046dd31",
            "a3725ccaa1c24bef913555fd9e208ae2",
            "231a1fd83830480d87a410a7b19efaf6",
            "19d700184437434eb813bc1afd2aaf3b",
            "032ac397622343ec84b856218c654028",
            "ca2e7f31d32f40d98a3bbe9b9c44810e",
            "68bf73fb6d8c4a5396a8fc637b4d74f9",
            "2d1b65897c8a4420b219fcd89a2bb519",
            "b6ec256934ad44f0886306b3b01fd42f",
            "209507f874aa485884e3dbff2ba0151e",
            "9cbf7440c9fa4040aea3c91d99cee34b",
            "786f256f952346e2be063f094b07027b",
            "4b08dcdde7554cf48f70126ae4f17b00",
            "a1b90a0106994d12b1138df630e21e91",
            "cf925114e7ef4278b6ae45a90fc3ff0b"
          ]
        },
        "id": "WS-LvtMXnj57",
        "outputId": "6644a171-e1e0-47ed-cac4-097ac5946573"
      },
      "execution_count": null,
      "outputs": [
        {
          "output_type": "stream",
          "name": "stderr",
          "text": [
            "\u001b[34m\u001b[1mwandb\u001b[0m: \u001b[33mWARNING\u001b[0m Calling wandb.login() after wandb.init() has no effect.\n",
            "\u001b[34m\u001b[1mwandb\u001b[0m: Sweep Agent: Waiting for job.\n",
            "\u001b[34m\u001b[1mwandb\u001b[0m: Job received.\n",
            "\u001b[34m\u001b[1mwandb\u001b[0m: Agent Starting Run: 711m7asy with config:\n",
            "\u001b[34m\u001b[1mwandb\u001b[0m: \tbatchNorm: 0\n",
            "\u001b[34m\u001b[1mwandb\u001b[0m: \tdenseSize: 64\n",
            "\u001b[34m\u001b[1mwandb\u001b[0m: \tdropOut: 0.4\n",
            "\u001b[34m\u001b[1mwandb\u001b[0m: \tisDataAug: 0\n",
            "\u001b[34m\u001b[1mwandb\u001b[0m: \tmodelName: InceptionResNetV2\n",
            "\u001b[34m\u001b[1mwandb\u001b[0m: \tnum_epochs: 20\n",
            "\u001b[34m\u001b[1mwandb\u001b[0m: \toptimizer: adam\n"
          ]
        },
        {
          "output_type": "stream",
          "name": "stdout",
          "text": [
            "Running the Model with the dynamic parameters \n",
            "{'name': 'bayes-fine-tuning-sweep', 'method': 'bayes', 'metric': {'name': 'val_acc', 'goal': 'maximize'}, 'parameters': {'modelName': {'values': ['ResNet50', 'InceptionV3', 'Xception', 'InceptionResNetV2']}, 'denseSize': {'values': [64, 128]}, 'num_epochs': {'values': [10, 20]}, 'dropOut': {'values': [0.2, 0.4]}, 'batchNorm': {'values': [0, 1]}, 'isDataAug': {'values': [0, 1]}, 'optimizer': {'values': ['adam']}}}\n"
          ]
        },
        {
          "output_type": "display_data",
          "data": {
            "text/plain": [
              "<IPython.core.display.HTML object>"
            ],
            "text/html": [
              "Tracking run with wandb version 0.12.11"
            ]
          },
          "metadata": {}
        },
        {
          "output_type": "display_data",
          "data": {
            "text/plain": [
              "<IPython.core.display.HTML object>"
            ],
            "text/html": [
              "Run data is saved locally in <code>/content/wandb/run-20220403_074149-711m7asy</code>"
            ]
          },
          "metadata": {}
        },
        {
          "output_type": "display_data",
          "data": {
            "text/plain": [
              "<IPython.core.display.HTML object>"
            ],
            "text/html": [
              "Syncing run <strong><a href=\"https://wandb.ai/cs6910_assignment/cs6910_assignment2/runs/711m7asy\" target=\"_blank\">spring-sweep-13</a></strong> to <a href=\"https://wandb.ai/cs6910_assignment/cs6910_assignment2\" target=\"_blank\">Weights & Biases</a> (<a href=\"https://wandb.me/run\" target=\"_blank\">docs</a>)<br/>Sweep page:  <a href=\"https://wandb.ai/cs6910_assignment/cs6910_assignment2/sweeps/quovp6po\" target=\"_blank\">https://wandb.ai/cs6910_assignment/cs6910_assignment2/sweeps/quovp6po</a>"
            ]
          },
          "metadata": {}
        },
        {
          "output_type": "display_data",
          "data": {
            "text/plain": [
              "<IPython.core.display.HTML object>"
            ],
            "text/html": [
              "Finishing last run (ID:711m7asy) before initializing another..."
            ]
          },
          "metadata": {}
        },
        {
          "output_type": "stream",
          "name": "stdout",
          "text": [
            "\n"
          ]
        },
        {
          "output_type": "display_data",
          "data": {
            "text/plain": [
              "<IPython.core.display.HTML object>"
            ],
            "text/html": [
              "Waiting for W&B process to finish... <strong style=\"color:green\">(success).</strong>"
            ]
          },
          "metadata": {}
        },
        {
          "output_type": "display_data",
          "data": {
            "text/plain": [
              "VBox(children=(Label(value='0.001 MB of 0.001 MB uploaded (0.000 MB deduped)\\r'), FloatProgress(value=1.0, max…"
            ],
            "application/vnd.jupyter.widget-view+json": {
              "version_major": 2,
              "version_minor": 0,
              "model_id": "b6c90d8499e64d06bb51ee95493fa480"
            }
          },
          "metadata": {}
        },
        {
          "output_type": "display_data",
          "data": {
            "text/plain": [
              "<IPython.core.display.HTML object>"
            ],
            "text/html": [
              "Synced <strong style=\"color:#cdcd00\">spring-sweep-13</strong>: <a href=\"https://wandb.ai/cs6910_assignment/cs6910_assignment2/runs/711m7asy\" target=\"_blank\">https://wandb.ai/cs6910_assignment/cs6910_assignment2/runs/711m7asy</a><br/>Synced 4 W&B file(s), 0 media file(s), 0 artifact file(s) and 0 other file(s)"
            ]
          },
          "metadata": {}
        },
        {
          "output_type": "display_data",
          "data": {
            "text/plain": [
              "<IPython.core.display.HTML object>"
            ],
            "text/html": [
              "Find logs at: <code>./wandb/run-20220403_074149-711m7asy/logs</code>"
            ]
          },
          "metadata": {}
        },
        {
          "output_type": "display_data",
          "data": {
            "text/plain": [
              "<IPython.core.display.HTML object>"
            ],
            "text/html": [
              "Successfully finished last run (ID:711m7asy). Initializing new run:<br/>"
            ]
          },
          "metadata": {}
        },
        {
          "output_type": "display_data",
          "data": {
            "text/plain": [
              "<IPython.core.display.HTML object>"
            ],
            "text/html": [
              "Tracking run with wandb version 0.12.11"
            ]
          },
          "metadata": {}
        },
        {
          "output_type": "display_data",
          "data": {
            "text/plain": [
              "<IPython.core.display.HTML object>"
            ],
            "text/html": [
              "Run data is saved locally in <code>/content/wandb/run-20220403_074153-711m7asy</code>"
            ]
          },
          "metadata": {}
        },
        {
          "output_type": "display_data",
          "data": {
            "text/plain": [
              "<IPython.core.display.HTML object>"
            ],
            "text/html": [
              "Syncing run <strong><a href=\"https://wandb.ai/cs6910_assignment/cs6910_assignment2/runs/711m7asy\" target=\"_blank\">spring-sweep-13</a></strong> to <a href=\"https://wandb.ai/cs6910_assignment/cs6910_assignment2\" target=\"_blank\">Weights & Biases</a> (<a href=\"https://wandb.me/run\" target=\"_blank\">docs</a>)<br/>Sweep page:  <a href=\"https://wandb.ai/cs6910_assignment/cs6910_assignment2/sweeps/quovp6po\" target=\"_blank\">https://wandb.ai/cs6910_assignment/cs6910_assignment2/sweeps/quovp6po</a>"
            ]
          },
          "metadata": {}
        },
        {
          "output_type": "stream",
          "name": "stdout",
          "text": [
            "Downloading data from https://storage.googleapis.com/tensorflow/keras-applications/inception_resnet_v2/inception_resnet_v2_weights_tf_dim_ordering_tf_kernels_notop.h5\n",
            "219062272/219055592 [==============================] - 1s 0us/step\n",
            "219070464/219055592 [==============================] - 1s 0us/step\n",
            "Found 9999 files belonging to 10 classes.\n",
            "Using 8000 files for training.\n",
            "Found 9999 files belonging to 10 classes.\n",
            "Using 1999 files for validation.\n",
            "Epoch 1/20\n"
          ]
        },
        {
          "output_type": "stream",
          "name": "stderr",
          "text": [
            "/usr/local/lib/python3.7/dist-packages/tensorflow/python/util/dispatch.py:1082: UserWarning: \"`categorical_crossentropy` received `from_logits=True`, but the `output` argument was produced by a sigmoid or softmax activation and thus does not represent logits. Was this intended?\"\n",
            "  return dispatch_target(*args, **kwargs)\n"
          ]
        },
        {
          "output_type": "stream",
          "name": "stdout",
          "text": [
            "62/62 [==============================] - 465s 7s/step - loss: 635.3987 - accuracy: 0.0988 - val_loss: 2.3022 - val_accuracy: 0.1042 - _timestamp: 1648972205.0000 - _runtime: 487.0000\n",
            "Epoch 2/20\n",
            "62/62 [==============================] - 33s 514ms/step - loss: 2.3024 - accuracy: 0.1038 - val_loss: 2.3020 - val_accuracy: 0.1000 - _timestamp: 1648972238.0000 - _runtime: 520.0000\n",
            "Epoch 3/20\n",
            "62/62 [==============================] - 33s 511ms/step - loss: 2.3024 - accuracy: 0.1013 - val_loss: 2.3018 - val_accuracy: 0.1083 - _timestamp: 1648972271.0000 - _runtime: 553.0000\n",
            "Epoch 4/20\n",
            "62/62 [==============================] - 31s 479ms/step - loss: 2.3022 - accuracy: 0.1089 - val_loss: 2.3020 - val_accuracy: 0.1125 - _timestamp: 1648972304.0000 - _runtime: 586.0000\n",
            "Epoch 5/20\n",
            "62/62 [==============================] - 33s 511ms/step - loss: 2.3024 - accuracy: 0.1069 - val_loss: 2.3014 - val_accuracy: 0.1187 - _timestamp: 1648972336.0000 - _runtime: 618.0000\n",
            "Epoch 6/20\n",
            "62/62 [==============================] - 31s 482ms/step - loss: 2.3020 - accuracy: 0.1114 - val_loss: 2.3016 - val_accuracy: 0.1104 - _timestamp: 1648972368.0000 - _runtime: 650.0000\n",
            "Epoch 7/20\n",
            "62/62 [==============================] - 31s 482ms/step - loss: 2.3018 - accuracy: 0.1084 - val_loss: 2.3016 - val_accuracy: 0.1146 - _timestamp: 1648972400.0000 - _runtime: 682.0000\n",
            "Epoch 8/20\n",
            "62/62 [==============================] - 31s 481ms/step - loss: 2.3018 - accuracy: 0.1109 - val_loss: 2.3018 - val_accuracy: 0.0979 - _timestamp: 1648972431.0000 - _runtime: 713.0000\n",
            "Epoch 9/20\n",
            "62/62 [==============================] - 33s 511ms/step - loss: 2.3018 - accuracy: 0.1104 - val_loss: 2.3013 - val_accuracy: 0.1125 - _timestamp: 1648972463.0000 - _runtime: 745.0000\n",
            "Epoch 10/20\n",
            "62/62 [==============================] - 33s 511ms/step - loss: 2.3014 - accuracy: 0.1129 - val_loss: 2.3011 - val_accuracy: 0.1146 - _timestamp: 1648972496.0000 - _runtime: 778.0000\n",
            "Epoch 11/20\n",
            "62/62 [==============================] - 31s 480ms/step - loss: 2.3013 - accuracy: 0.1129 - val_loss: 2.3019 - val_accuracy: 0.1125 - _timestamp: 1648972536.0000 - _runtime: 818.0000\n",
            "Epoch 12/20\n",
            "62/62 [==============================] - 33s 503ms/step - loss: 2.3020 - accuracy: 0.1104 - val_loss: 2.3008 - val_accuracy: 0.1063 - _timestamp: 1648972568.0000 - _runtime: 850.0000\n",
            "Epoch 13/20\n",
            "62/62 [==============================] - 31s 478ms/step - loss: 2.3022 - accuracy: 0.1079 - val_loss: 2.3021 - val_accuracy: 0.1063 - _timestamp: 1648972608.0000 - _runtime: 890.0000\n",
            "Epoch 14/20\n",
            "62/62 [==============================] - 31s 478ms/step - loss: 2.3018 - accuracy: 0.1109 - val_loss: 2.3022 - val_accuracy: 0.1104 - _timestamp: 1648972640.0000 - _runtime: 922.0000\n",
            "Epoch 15/20\n",
            "62/62 [==============================] - 31s 478ms/step - loss: 2.3017 - accuracy: 0.1114 - val_loss: 2.3015 - val_accuracy: 0.1104 - _timestamp: 1648972671.0000 - _runtime: 953.0000\n",
            "Epoch 16/20\n",
            "62/62 [==============================] - 31s 474ms/step - loss: 2.3017 - accuracy: 0.1094 - val_loss: 2.3024 - val_accuracy: 0.1000 - _timestamp: 1648972711.0000 - _runtime: 993.0000\n",
            "Epoch 17/20\n",
            "62/62 [==============================] - 32s 498ms/step - loss: 2.3013 - accuracy: 0.1119 - val_loss: 2.3005 - val_accuracy: 0.1167 - _timestamp: 1648972742.0000 - _runtime: 1024.0000\n",
            "Epoch 18/20\n",
            "62/62 [==============================] - 31s 475ms/step - loss: 2.3016 - accuracy: 0.1099 - val_loss: 2.3020 - val_accuracy: 0.1125 - _timestamp: 1648972783.0000 - _runtime: 1065.0000\n",
            "Epoch 19/20\n",
            "62/62 [==============================] - 32s 498ms/step - loss: 2.3014 - accuracy: 0.1114 - val_loss: 2.3002 - val_accuracy: 0.1146 - _timestamp: 1648972814.0000 - _runtime: 1096.0000\n",
            "Epoch 20/20\n",
            "62/62 [==============================] - 31s 479ms/step - loss: 2.3013 - accuracy: 0.1124 - val_loss: 2.3022 - val_accuracy: 0.1021 - _timestamp: 1648972847.0000 - _runtime: 1129.0000\n",
            "\n"
          ]
        },
        {
          "output_type": "display_data",
          "data": {
            "text/plain": [
              "<IPython.core.display.HTML object>"
            ],
            "text/html": [
              "Waiting for W&B process to finish... <strong style=\"color:green\">(success).</strong>"
            ]
          },
          "metadata": {}
        },
        {
          "output_type": "display_data",
          "data": {
            "text/plain": [
              "VBox(children=(Label(value='24.399 MB of 24.399 MB uploaded (0.000 MB deduped)\\r'), FloatProgress(value=1.0, m…"
            ],
            "application/vnd.jupyter.widget-view+json": {
              "version_major": 2,
              "version_minor": 0,
              "model_id": "0a65e7a324ad4eab852e15e75ada941d"
            }
          },
          "metadata": {}
        },
        {
          "output_type": "display_data",
          "data": {
            "text/plain": [
              "<IPython.core.display.HTML object>"
            ],
            "text/html": [
              "<style>\n",
              "    table.wandb td:nth-child(1) { padding: 0 10px; text-align: right }\n",
              "    .wandb-row { display: flex; flex-direction: row; flex-wrap: wrap; width: 100% }\n",
              "    .wandb-col { display: flex; flex-direction: column; flex-basis: 100%; flex: 1; padding: 10px; }\n",
              "    </style>\n",
              "<div class=\"wandb-row\"><div class=\"wandb-col\"><h3>Run history:</h3><br/><table class=\"wandb\"><tr><td>accuracy</td><td>▁▃▂▆▅▇▆▇▇██▇▆▇▇▆█▇▇█</td></tr><tr><td>epoch</td><td>▁▁▂▂▂▃▃▄▄▄▅▅▅▆▆▇▇▇██</td></tr><tr><td>loss</td><td>█▁▁▁▁▁▁▁▁▁▁▁▁▁▁▁▁▁▁▁</td></tr><tr><td>val_accuracy</td><td>▃▂▅▆█▅▇▁▆▇▆▄▄▅▅▂▇▆▇▂</td></tr><tr><td>val_loss</td><td>▇▇▆▇▅▅▆▆▅▄▇▃▇▇▅█▂▇▁█</td></tr></table><br/></div><div class=\"wandb-col\"><h3>Run summary:</h3><br/><table class=\"wandb\"><tr><td>accuracy</td><td>0.1124</td></tr><tr><td>best_epoch</td><td>18</td></tr><tr><td>best_val_loss</td><td>2.30016</td></tr><tr><td>epoch</td><td>19</td></tr><tr><td>loss</td><td>2.30128</td></tr><tr><td>val_accuracy</td><td>0.10208</td></tr><tr><td>val_loss</td><td>2.30224</td></tr></table><br/></div></div>"
            ]
          },
          "metadata": {}
        },
        {
          "output_type": "display_data",
          "data": {
            "text/plain": [
              "<IPython.core.display.HTML object>"
            ],
            "text/html": [
              "Synced <strong style=\"color:#cdcd00\">spring-sweep-13</strong>: <a href=\"https://wandb.ai/cs6910_assignment/cs6910_assignment2/runs/711m7asy\" target=\"_blank\">https://wandb.ai/cs6910_assignment/cs6910_assignment2/runs/711m7asy</a><br/>Synced 5 W&B file(s), 1 media file(s), 0 artifact file(s) and 1 other file(s)"
            ]
          },
          "metadata": {}
        },
        {
          "output_type": "display_data",
          "data": {
            "text/plain": [
              "<IPython.core.display.HTML object>"
            ],
            "text/html": [
              "Find logs at: <code>./wandb/run-20220403_074153-711m7asy/logs</code>"
            ]
          },
          "metadata": {}
        },
        {
          "output_type": "stream",
          "name": "stderr",
          "text": [
            "\u001b[34m\u001b[1mwandb\u001b[0m: Agent Starting Run: pc1x7lgs with config:\n",
            "\u001b[34m\u001b[1mwandb\u001b[0m: \tbatchNorm: 0\n",
            "\u001b[34m\u001b[1mwandb\u001b[0m: \tdenseSize: 64\n",
            "\u001b[34m\u001b[1mwandb\u001b[0m: \tdropOut: 0.4\n",
            "\u001b[34m\u001b[1mwandb\u001b[0m: \tisDataAug: 0\n",
            "\u001b[34m\u001b[1mwandb\u001b[0m: \tmodelName: InceptionV3\n",
            "\u001b[34m\u001b[1mwandb\u001b[0m: \tnum_epochs: 20\n",
            "\u001b[34m\u001b[1mwandb\u001b[0m: \toptimizer: adam\n"
          ]
        },
        {
          "output_type": "stream",
          "name": "stdout",
          "text": [
            "Running the Model with the dynamic parameters \n",
            "{'name': 'bayes-fine-tuning-sweep', 'method': 'bayes', 'metric': {'name': 'val_acc', 'goal': 'maximize'}, 'parameters': {'modelName': {'values': ['ResNet50', 'InceptionV3', 'Xception', 'InceptionResNetV2']}, 'denseSize': {'values': [64, 128]}, 'num_epochs': {'values': [10, 20]}, 'dropOut': {'values': [0.2, 0.4]}, 'batchNorm': {'values': [0, 1]}, 'isDataAug': {'values': [0, 1]}, 'optimizer': {'values': ['adam']}}}\n"
          ]
        },
        {
          "output_type": "display_data",
          "data": {
            "text/plain": [
              "<IPython.core.display.HTML object>"
            ],
            "text/html": [
              "Tracking run with wandb version 0.12.11"
            ]
          },
          "metadata": {}
        },
        {
          "output_type": "display_data",
          "data": {
            "text/plain": [
              "<IPython.core.display.HTML object>"
            ],
            "text/html": [
              "Run data is saved locally in <code>/content/wandb/run-20220403_080100-pc1x7lgs</code>"
            ]
          },
          "metadata": {}
        },
        {
          "output_type": "display_data",
          "data": {
            "text/plain": [
              "<IPython.core.display.HTML object>"
            ],
            "text/html": [
              "Syncing run <strong><a href=\"https://wandb.ai/cs6910_assignment/cs6910_assignment2/runs/pc1x7lgs\" target=\"_blank\">genial-sweep-14</a></strong> to <a href=\"https://wandb.ai/cs6910_assignment/cs6910_assignment2\" target=\"_blank\">Weights & Biases</a> (<a href=\"https://wandb.me/run\" target=\"_blank\">docs</a>)<br/>Sweep page:  <a href=\"https://wandb.ai/cs6910_assignment/cs6910_assignment2/sweeps/quovp6po\" target=\"_blank\">https://wandb.ai/cs6910_assignment/cs6910_assignment2/sweeps/quovp6po</a>"
            ]
          },
          "metadata": {}
        },
        {
          "output_type": "display_data",
          "data": {
            "text/plain": [
              "<IPython.core.display.HTML object>"
            ],
            "text/html": [
              "Finishing last run (ID:pc1x7lgs) before initializing another..."
            ]
          },
          "metadata": {}
        },
        {
          "output_type": "stream",
          "name": "stdout",
          "text": [
            "\n"
          ]
        },
        {
          "output_type": "display_data",
          "data": {
            "text/plain": [
              "<IPython.core.display.HTML object>"
            ],
            "text/html": [
              "Waiting for W&B process to finish... <strong style=\"color:green\">(success).</strong>"
            ]
          },
          "metadata": {}
        },
        {
          "output_type": "display_data",
          "data": {
            "text/plain": [
              "VBox(children=(Label(value='0.001 MB of 0.001 MB uploaded (0.000 MB deduped)\\r'), FloatProgress(value=1.0, max…"
            ],
            "application/vnd.jupyter.widget-view+json": {
              "version_major": 2,
              "version_minor": 0,
              "model_id": "c26c4aa78b7d41e1a16b4674104ed835"
            }
          },
          "metadata": {}
        },
        {
          "output_type": "display_data",
          "data": {
            "text/plain": [
              "<IPython.core.display.HTML object>"
            ],
            "text/html": [
              "Synced <strong style=\"color:#cdcd00\">genial-sweep-14</strong>: <a href=\"https://wandb.ai/cs6910_assignment/cs6910_assignment2/runs/pc1x7lgs\" target=\"_blank\">https://wandb.ai/cs6910_assignment/cs6910_assignment2/runs/pc1x7lgs</a><br/>Synced 4 W&B file(s), 0 media file(s), 0 artifact file(s) and 0 other file(s)"
            ]
          },
          "metadata": {}
        },
        {
          "output_type": "display_data",
          "data": {
            "text/plain": [
              "<IPython.core.display.HTML object>"
            ],
            "text/html": [
              "Find logs at: <code>./wandb/run-20220403_080100-pc1x7lgs/logs</code>"
            ]
          },
          "metadata": {}
        },
        {
          "output_type": "display_data",
          "data": {
            "text/plain": [
              "<IPython.core.display.HTML object>"
            ],
            "text/html": [
              "Successfully finished last run (ID:pc1x7lgs). Initializing new run:<br/>"
            ]
          },
          "metadata": {}
        },
        {
          "output_type": "display_data",
          "data": {
            "text/plain": [
              "<IPython.core.display.HTML object>"
            ],
            "text/html": [
              "Tracking run with wandb version 0.12.11"
            ]
          },
          "metadata": {}
        },
        {
          "output_type": "display_data",
          "data": {
            "text/plain": [
              "<IPython.core.display.HTML object>"
            ],
            "text/html": [
              "Run data is saved locally in <code>/content/wandb/run-20220403_080104-pc1x7lgs</code>"
            ]
          },
          "metadata": {}
        },
        {
          "output_type": "display_data",
          "data": {
            "text/plain": [
              "<IPython.core.display.HTML object>"
            ],
            "text/html": [
              "Syncing run <strong><a href=\"https://wandb.ai/cs6910_assignment/cs6910_assignment2/runs/pc1x7lgs\" target=\"_blank\">genial-sweep-14</a></strong> to <a href=\"https://wandb.ai/cs6910_assignment/cs6910_assignment2\" target=\"_blank\">Weights & Biases</a> (<a href=\"https://wandb.me/run\" target=\"_blank\">docs</a>)<br/>Sweep page:  <a href=\"https://wandb.ai/cs6910_assignment/cs6910_assignment2/sweeps/quovp6po\" target=\"_blank\">https://wandb.ai/cs6910_assignment/cs6910_assignment2/sweeps/quovp6po</a>"
            ]
          },
          "metadata": {}
        },
        {
          "output_type": "stream",
          "name": "stdout",
          "text": [
            "Downloading data from https://storage.googleapis.com/tensorflow/keras-applications/inception_v3/inception_v3_weights_tf_dim_ordering_tf_kernels_notop.h5\n",
            "87916544/87910968 [==============================] - 0s 0us/step\n",
            "87924736/87910968 [==============================] - 0s 0us/step\n",
            "Found 9999 files belonging to 10 classes.\n",
            "Using 8000 files for training.\n",
            "Found 9999 files belonging to 10 classes.\n",
            "Using 1999 files for validation.\n",
            "Epoch 1/20\n",
            "62/62 [==============================] - 28s 327ms/step - loss: 37.7659 - accuracy: 0.1028 - val_loss: 2.3024 - val_accuracy: 0.1083 - _timestamp: 1648972903.0000 - _runtime: 35.0000\n",
            "Epoch 2/20\n",
            "62/62 [==============================] - 21s 308ms/step - loss: 2.3845 - accuracy: 0.1119 - val_loss: 2.3020 - val_accuracy: 0.1083 - _timestamp: 1648972924.0000 - _runtime: 56.0000\n",
            "Epoch 3/20\n",
            "62/62 [==============================] - 20s 293ms/step - loss: 2.3530 - accuracy: 0.1079 - val_loss: 2.3023 - val_accuracy: 0.1083 - _timestamp: 1648972964.0000 - _runtime: 96.0000\n",
            "Epoch 4/20\n",
            "62/62 [==============================] - 19s 292ms/step - loss: 2.3024 - accuracy: 0.1089 - val_loss: 2.3023 - val_accuracy: 0.1125 - _timestamp: 1648972985.0000 - _runtime: 117.0000\n",
            "Epoch 5/20\n",
            "62/62 [==============================] - 20s 305ms/step - loss: 2.3024 - accuracy: 0.1069 - val_loss: 2.3014 - val_accuracy: 0.1187 - _timestamp: 1648973004.0000 - _runtime: 136.0000\n",
            "Epoch 6/20\n",
            "62/62 [==============================] - 20s 291ms/step - loss: 2.3021 - accuracy: 0.1114 - val_loss: 2.3019 - val_accuracy: 0.1104 - _timestamp: 1648973024.0000 - _runtime: 156.0000\n",
            "Epoch 7/20\n",
            "62/62 [==============================] - 20s 297ms/step - loss: 2.3020 - accuracy: 0.1084 - val_loss: 2.3016 - val_accuracy: 0.1146 - _timestamp: 1648973044.0000 - _runtime: 176.0000\n",
            "Epoch 8/20\n",
            "62/62 [==============================] - 20s 292ms/step - loss: 2.3020 - accuracy: 0.1109 - val_loss: 2.3021 - val_accuracy: 0.0979 - _timestamp: 1648973065.0000 - _runtime: 197.0000\n",
            "Epoch 9/20\n",
            "62/62 [==============================] - 19s 292ms/step - loss: 2.4356 - accuracy: 0.1104 - val_loss: 2.3015 - val_accuracy: 0.1125 - _timestamp: 1648973084.0000 - _runtime: 216.0000\n",
            "Epoch 10/20\n",
            "62/62 [==============================] - 20s 306ms/step - loss: 2.3015 - accuracy: 0.1129 - val_loss: 2.3010 - val_accuracy: 0.1146 - _timestamp: 1648973105.0000 - _runtime: 237.0000\n",
            "Epoch 11/20\n",
            "62/62 [==============================] - 20s 294ms/step - loss: 2.3016 - accuracy: 0.1129 - val_loss: 2.3020 - val_accuracy: 0.1125 - _timestamp: 1648973125.0000 - _runtime: 257.0000\n",
            "Epoch 12/20\n",
            "62/62 [==============================] - 20s 293ms/step - loss: 2.3019 - accuracy: 0.1104 - val_loss: 2.3011 - val_accuracy: 0.1063 - _timestamp: 1648973145.0000 - _runtime: 277.0000\n",
            "Epoch 13/20\n",
            "62/62 [==============================] - 19s 292ms/step - loss: 2.3019 - accuracy: 0.1079 - val_loss: 2.3022 - val_accuracy: 0.1063 - _timestamp: 1648973164.0000 - _runtime: 296.0000\n",
            "Epoch 14/20\n",
            "62/62 [==============================] - 20s 294ms/step - loss: 2.3019 - accuracy: 0.1109 - val_loss: 2.3021 - val_accuracy: 0.1104 - _timestamp: 1648973184.0000 - _runtime: 316.0000\n",
            "Epoch 15/20\n",
            "62/62 [==============================] - 20s 295ms/step - loss: 2.3016 - accuracy: 0.1114 - val_loss: 2.3015 - val_accuracy: 0.1104 - _timestamp: 1648973204.0000 - _runtime: 336.0000\n",
            "Epoch 16/20\n",
            "62/62 [==============================] - 20s 293ms/step - loss: 2.3019 - accuracy: 0.1094 - val_loss: 2.3026 - val_accuracy: 0.1000 - _timestamp: 1648973225.0000 - _runtime: 357.0000\n",
            "Epoch 17/20\n",
            "62/62 [==============================] - 20s 307ms/step - loss: 2.3011 - accuracy: 0.1119 - val_loss: 2.3006 - val_accuracy: 0.1167 - _timestamp: 1648973245.0000 - _runtime: 377.0000\n",
            "Epoch 18/20\n",
            "62/62 [==============================] - 20s 293ms/step - loss: 2.3016 - accuracy: 0.1099 - val_loss: 2.3020 - val_accuracy: 0.1125 - _timestamp: 1648973266.0000 - _runtime: 398.0000\n",
            "Epoch 19/20\n",
            "62/62 [==============================] - 20s 307ms/step - loss: 2.3016 - accuracy: 0.1114 - val_loss: 2.3003 - val_accuracy: 0.1146 - _timestamp: 1648973286.0000 - _runtime: 418.0000\n",
            "Epoch 20/20\n",
            "62/62 [==============================] - 20s 293ms/step - loss: 2.3010 - accuracy: 0.1124 - val_loss: 2.3024 - val_accuracy: 0.1021 - _timestamp: 1648973306.0000 - _runtime: 438.0000\n",
            "\n"
          ]
        },
        {
          "output_type": "display_data",
          "data": {
            "text/plain": [
              "<IPython.core.display.HTML object>"
            ],
            "text/html": [
              "Waiting for W&B process to finish... <strong style=\"color:green\">(success).</strong>"
            ]
          },
          "metadata": {}
        },
        {
          "output_type": "display_data",
          "data": {
            "text/plain": [
              "VBox(children=(Label(value='179.732 MB of 179.732 MB uploaded (0.000 MB deduped)\\r'), FloatProgress(value=1.0,…"
            ],
            "application/vnd.jupyter.widget-view+json": {
              "version_major": 2,
              "version_minor": 0,
              "model_id": "015c17836fbf420aa2e61360dc840d3a"
            }
          },
          "metadata": {}
        },
        {
          "output_type": "display_data",
          "data": {
            "text/plain": [
              "<IPython.core.display.HTML object>"
            ],
            "text/html": [
              "<style>\n",
              "    table.wandb td:nth-child(1) { padding: 0 10px; text-align: right }\n",
              "    .wandb-row { display: flex; flex-direction: row; flex-wrap: wrap; width: 100% }\n",
              "    .wandb-col { display: flex; flex-direction: column; flex-basis: 100%; flex: 1; padding: 10px; }\n",
              "    </style>\n",
              "<div class=\"wandb-row\"><div class=\"wandb-col\"><h3>Run history:</h3><br/><table class=\"wandb\"><tr><td>accuracy</td><td>▁▇▅▅▄▇▅▇▆██▆▅▇▇▆▇▆▇█</td></tr><tr><td>epoch</td><td>▁▁▂▂▂▃▃▄▄▄▅▅▅▆▆▇▇▇██</td></tr><tr><td>loss</td><td>█▁▁▁▁▁▁▁▁▁▁▁▁▁▁▁▁▁▁▁</td></tr><tr><td>val_accuracy</td><td>▅▅▅▆█▅▇▁▆▇▆▄▄▅▅▂▇▆▇▂</td></tr><tr><td>val_loss</td><td>█▆▇▇▄▆▅▇▅▃▆▃▇▇▅█▂▆▁▇</td></tr></table><br/></div><div class=\"wandb-col\"><h3>Run summary:</h3><br/><table class=\"wandb\"><tr><td>accuracy</td><td>0.1124</td></tr><tr><td>best_epoch</td><td>18</td></tr><tr><td>best_val_loss</td><td>2.30029</td></tr><tr><td>epoch</td><td>19</td></tr><tr><td>loss</td><td>2.30098</td></tr><tr><td>val_accuracy</td><td>0.10208</td></tr><tr><td>val_loss</td><td>2.30236</td></tr></table><br/></div></div>"
            ]
          },
          "metadata": {}
        },
        {
          "output_type": "display_data",
          "data": {
            "text/plain": [
              "<IPython.core.display.HTML object>"
            ],
            "text/html": [
              "Synced <strong style=\"color:#cdcd00\">genial-sweep-14</strong>: <a href=\"https://wandb.ai/cs6910_assignment/cs6910_assignment2/runs/pc1x7lgs\" target=\"_blank\">https://wandb.ai/cs6910_assignment/cs6910_assignment2/runs/pc1x7lgs</a><br/>Synced 5 W&B file(s), 1 media file(s), 0 artifact file(s) and 1 other file(s)"
            ]
          },
          "metadata": {}
        },
        {
          "output_type": "display_data",
          "data": {
            "text/plain": [
              "<IPython.core.display.HTML object>"
            ],
            "text/html": [
              "Find logs at: <code>./wandb/run-20220403_080104-pc1x7lgs/logs</code>"
            ]
          },
          "metadata": {}
        },
        {
          "output_type": "stream",
          "name": "stderr",
          "text": [
            "\u001b[34m\u001b[1mwandb\u001b[0m: Sweep Agent: Waiting for job.\n",
            "\u001b[34m\u001b[1mwandb\u001b[0m: Job received.\n",
            "\u001b[34m\u001b[1mwandb\u001b[0m: Agent Starting Run: vhnghhbl with config:\n",
            "\u001b[34m\u001b[1mwandb\u001b[0m: \tbatchNorm: 1\n",
            "\u001b[34m\u001b[1mwandb\u001b[0m: \tdenseSize: 64\n",
            "\u001b[34m\u001b[1mwandb\u001b[0m: \tdropOut: 0.4\n",
            "\u001b[34m\u001b[1mwandb\u001b[0m: \tisDataAug: 1\n",
            "\u001b[34m\u001b[1mwandb\u001b[0m: \tmodelName: InceptionV3\n",
            "\u001b[34m\u001b[1mwandb\u001b[0m: \tnum_epochs: 10\n",
            "\u001b[34m\u001b[1mwandb\u001b[0m: \toptimizer: adam\n"
          ]
        },
        {
          "output_type": "stream",
          "name": "stdout",
          "text": [
            "Running the Model with the dynamic parameters \n",
            "{'name': 'bayes-fine-tuning-sweep', 'method': 'bayes', 'metric': {'name': 'val_acc', 'goal': 'maximize'}, 'parameters': {'modelName': {'values': ['ResNet50', 'InceptionV3', 'Xception', 'InceptionResNetV2']}, 'denseSize': {'values': [64, 128]}, 'num_epochs': {'values': [10, 20]}, 'dropOut': {'values': [0.2, 0.4]}, 'batchNorm': {'values': [0, 1]}, 'isDataAug': {'values': [0, 1]}, 'optimizer': {'values': ['adam']}}}\n"
          ]
        },
        {
          "output_type": "display_data",
          "data": {
            "text/plain": [
              "<IPython.core.display.HTML object>"
            ],
            "text/html": [
              "Tracking run with wandb version 0.12.11"
            ]
          },
          "metadata": {}
        },
        {
          "output_type": "display_data",
          "data": {
            "text/plain": [
              "<IPython.core.display.HTML object>"
            ],
            "text/html": [
              "Run data is saved locally in <code>/content/wandb/run-20220403_080905-vhnghhbl</code>"
            ]
          },
          "metadata": {}
        },
        {
          "output_type": "display_data",
          "data": {
            "text/plain": [
              "<IPython.core.display.HTML object>"
            ],
            "text/html": [
              "Syncing run <strong><a href=\"https://wandb.ai/cs6910_assignment/cs6910_assignment2/runs/vhnghhbl\" target=\"_blank\">fragrant-sweep-15</a></strong> to <a href=\"https://wandb.ai/cs6910_assignment/cs6910_assignment2\" target=\"_blank\">Weights & Biases</a> (<a href=\"https://wandb.me/run\" target=\"_blank\">docs</a>)<br/>Sweep page:  <a href=\"https://wandb.ai/cs6910_assignment/cs6910_assignment2/sweeps/quovp6po\" target=\"_blank\">https://wandb.ai/cs6910_assignment/cs6910_assignment2/sweeps/quovp6po</a>"
            ]
          },
          "metadata": {}
        },
        {
          "output_type": "display_data",
          "data": {
            "text/plain": [
              "<IPython.core.display.HTML object>"
            ],
            "text/html": [
              "Finishing last run (ID:vhnghhbl) before initializing another..."
            ]
          },
          "metadata": {}
        },
        {
          "output_type": "stream",
          "name": "stdout",
          "text": [
            "\n"
          ]
        },
        {
          "output_type": "display_data",
          "data": {
            "text/plain": [
              "<IPython.core.display.HTML object>"
            ],
            "text/html": [
              "Waiting for W&B process to finish... <strong style=\"color:green\">(success).</strong>"
            ]
          },
          "metadata": {}
        },
        {
          "output_type": "display_data",
          "data": {
            "text/plain": [
              "VBox(children=(Label(value='0.001 MB of 0.001 MB uploaded (0.000 MB deduped)\\r'), FloatProgress(value=1.0, max…"
            ],
            "application/vnd.jupyter.widget-view+json": {
              "version_major": 2,
              "version_minor": 0,
              "model_id": "2d1b65897c8a4420b219fcd89a2bb519"
            }
          },
          "metadata": {}
        },
        {
          "output_type": "display_data",
          "data": {
            "text/plain": [
              "<IPython.core.display.HTML object>"
            ],
            "text/html": [
              "Synced <strong style=\"color:#cdcd00\">fragrant-sweep-15</strong>: <a href=\"https://wandb.ai/cs6910_assignment/cs6910_assignment2/runs/vhnghhbl\" target=\"_blank\">https://wandb.ai/cs6910_assignment/cs6910_assignment2/runs/vhnghhbl</a><br/>Synced 4 W&B file(s), 0 media file(s), 0 artifact file(s) and 0 other file(s)"
            ]
          },
          "metadata": {}
        },
        {
          "output_type": "display_data",
          "data": {
            "text/plain": [
              "<IPython.core.display.HTML object>"
            ],
            "text/html": [
              "Find logs at: <code>./wandb/run-20220403_080905-vhnghhbl/logs</code>"
            ]
          },
          "metadata": {}
        },
        {
          "output_type": "display_data",
          "data": {
            "text/plain": [
              "<IPython.core.display.HTML object>"
            ],
            "text/html": [
              "Successfully finished last run (ID:vhnghhbl). Initializing new run:<br/>"
            ]
          },
          "metadata": {}
        },
        {
          "output_type": "display_data",
          "data": {
            "text/plain": [
              "<IPython.core.display.HTML object>"
            ],
            "text/html": [
              "Tracking run with wandb version 0.12.11"
            ]
          },
          "metadata": {}
        },
        {
          "output_type": "display_data",
          "data": {
            "text/plain": [
              "<IPython.core.display.HTML object>"
            ],
            "text/html": [
              "Run data is saved locally in <code>/content/wandb/run-20220403_080909-vhnghhbl</code>"
            ]
          },
          "metadata": {}
        },
        {
          "output_type": "display_data",
          "data": {
            "text/plain": [
              "<IPython.core.display.HTML object>"
            ],
            "text/html": [
              "Syncing run <strong><a href=\"https://wandb.ai/cs6910_assignment/cs6910_assignment2/runs/vhnghhbl\" target=\"_blank\">fragrant-sweep-15</a></strong> to <a href=\"https://wandb.ai/cs6910_assignment/cs6910_assignment2\" target=\"_blank\">Weights & Biases</a> (<a href=\"https://wandb.me/run\" target=\"_blank\">docs</a>)<br/>Sweep page:  <a href=\"https://wandb.ai/cs6910_assignment/cs6910_assignment2/sweeps/quovp6po\" target=\"_blank\">https://wandb.ai/cs6910_assignment/cs6910_assignment2/sweeps/quovp6po</a>"
            ]
          },
          "metadata": {}
        },
        {
          "output_type": "stream",
          "name": "stdout",
          "text": [
            "Found 8000 images belonging to 10 classes.\n",
            "Found 1999 images belonging to 10 classes.\n",
            "Epoch 1/10\n",
            "250/250 [==============================] - ETA: 0s - loss: 1.5151 - accuracy: 0.5085"
          ]
        }
      ]
    },
    {
      "cell_type": "code",
      "source": [
        ""
      ],
      "metadata": {
        "id": "6ClFOKvuSvsN"
      },
      "execution_count": null,
      "outputs": []
    },
    {
      "cell_type": "code",
      "source": [
        ""
      ],
      "metadata": {
        "id": "z2hh7WUuqXr7"
      },
      "execution_count": null,
      "outputs": []
    }
  ]
}