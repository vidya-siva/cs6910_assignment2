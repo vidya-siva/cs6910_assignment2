{
  "nbformat": 4,
  "nbformat_minor": 0,
  "metadata": {
    "colab": {
      "name": "assignment2_partB_final.ipynb",
      "provenance": [],
      "collapsed_sections": []
    },
    "kernelspec": {
      "name": "python3",
      "display_name": "Python 3"
    },
    "language_info": {
      "name": "python"
    },
    "accelerator": "GPU",
    "widgets": {
      "application/vnd.jupyter.widget-state+json": {
        "5bc903189ccc4e4a826f363c0ae63b80": {
          "model_module": "@jupyter-widgets/controls",
          "model_name": "VBoxModel",
          "model_module_version": "1.5.0",
          "state": {
            "_dom_classes": [],
            "_model_module": "@jupyter-widgets/controls",
            "_model_module_version": "1.5.0",
            "_model_name": "VBoxModel",
            "_view_count": null,
            "_view_module": "@jupyter-widgets/controls",
            "_view_module_version": "1.5.0",
            "_view_name": "VBoxView",
            "box_style": "",
            "children": [
              "IPY_MODEL_198ccc0d475c4a1caa15dcd9035d73cf",
              "IPY_MODEL_f797d527f299422cb719db7ad4f2cfb6"
            ],
            "layout": "IPY_MODEL_cc21a585bf294971b4954fd45a28222f"
          }
        },
        "198ccc0d475c4a1caa15dcd9035d73cf": {
          "model_module": "@jupyter-widgets/controls",
          "model_name": "LabelModel",
          "model_module_version": "1.5.0",
          "state": {
            "_dom_classes": [],
            "_model_module": "@jupyter-widgets/controls",
            "_model_module_version": "1.5.0",
            "_model_name": "LabelModel",
            "_view_count": null,
            "_view_module": "@jupyter-widgets/controls",
            "_view_module_version": "1.5.0",
            "_view_name": "LabelView",
            "description": "",
            "description_tooltip": null,
            "layout": "IPY_MODEL_fdda100fba7544ffbee1862c50628d56",
            "placeholder": "​",
            "style": "IPY_MODEL_3ad443682fac41769dd9f6933fdde449",
            "value": "0.009 MB of 0.009 MB uploaded (0.000 MB deduped)\r"
          }
        },
        "f797d527f299422cb719db7ad4f2cfb6": {
          "model_module": "@jupyter-widgets/controls",
          "model_name": "FloatProgressModel",
          "model_module_version": "1.5.0",
          "state": {
            "_dom_classes": [],
            "_model_module": "@jupyter-widgets/controls",
            "_model_module_version": "1.5.0",
            "_model_name": "FloatProgressModel",
            "_view_count": null,
            "_view_module": "@jupyter-widgets/controls",
            "_view_module_version": "1.5.0",
            "_view_name": "ProgressView",
            "bar_style": "",
            "description": "",
            "description_tooltip": null,
            "layout": "IPY_MODEL_328a3788882946ae8558273865c067c8",
            "max": 1,
            "min": 0,
            "orientation": "horizontal",
            "style": "IPY_MODEL_35f6e5f0f6f94bc682cc4e4c85a4c667",
            "value": 1
          }
        },
        "cc21a585bf294971b4954fd45a28222f": {
          "model_module": "@jupyter-widgets/base",
          "model_name": "LayoutModel",
          "model_module_version": "1.2.0",
          "state": {
            "_model_module": "@jupyter-widgets/base",
            "_model_module_version": "1.2.0",
            "_model_name": "LayoutModel",
            "_view_count": null,
            "_view_module": "@jupyter-widgets/base",
            "_view_module_version": "1.2.0",
            "_view_name": "LayoutView",
            "align_content": null,
            "align_items": null,
            "align_self": null,
            "border": null,
            "bottom": null,
            "display": null,
            "flex": null,
            "flex_flow": null,
            "grid_area": null,
            "grid_auto_columns": null,
            "grid_auto_flow": null,
            "grid_auto_rows": null,
            "grid_column": null,
            "grid_gap": null,
            "grid_row": null,
            "grid_template_areas": null,
            "grid_template_columns": null,
            "grid_template_rows": null,
            "height": null,
            "justify_content": null,
            "justify_items": null,
            "left": null,
            "margin": null,
            "max_height": null,
            "max_width": null,
            "min_height": null,
            "min_width": null,
            "object_fit": null,
            "object_position": null,
            "order": null,
            "overflow": null,
            "overflow_x": null,
            "overflow_y": null,
            "padding": null,
            "right": null,
            "top": null,
            "visibility": null,
            "width": null
          }
        },
        "fdda100fba7544ffbee1862c50628d56": {
          "model_module": "@jupyter-widgets/base",
          "model_name": "LayoutModel",
          "model_module_version": "1.2.0",
          "state": {
            "_model_module": "@jupyter-widgets/base",
            "_model_module_version": "1.2.0",
            "_model_name": "LayoutModel",
            "_view_count": null,
            "_view_module": "@jupyter-widgets/base",
            "_view_module_version": "1.2.0",
            "_view_name": "LayoutView",
            "align_content": null,
            "align_items": null,
            "align_self": null,
            "border": null,
            "bottom": null,
            "display": null,
            "flex": null,
            "flex_flow": null,
            "grid_area": null,
            "grid_auto_columns": null,
            "grid_auto_flow": null,
            "grid_auto_rows": null,
            "grid_column": null,
            "grid_gap": null,
            "grid_row": null,
            "grid_template_areas": null,
            "grid_template_columns": null,
            "grid_template_rows": null,
            "height": null,
            "justify_content": null,
            "justify_items": null,
            "left": null,
            "margin": null,
            "max_height": null,
            "max_width": null,
            "min_height": null,
            "min_width": null,
            "object_fit": null,
            "object_position": null,
            "order": null,
            "overflow": null,
            "overflow_x": null,
            "overflow_y": null,
            "padding": null,
            "right": null,
            "top": null,
            "visibility": null,
            "width": null
          }
        },
        "3ad443682fac41769dd9f6933fdde449": {
          "model_module": "@jupyter-widgets/controls",
          "model_name": "DescriptionStyleModel",
          "model_module_version": "1.5.0",
          "state": {
            "_model_module": "@jupyter-widgets/controls",
            "_model_module_version": "1.5.0",
            "_model_name": "DescriptionStyleModel",
            "_view_count": null,
            "_view_module": "@jupyter-widgets/base",
            "_view_module_version": "1.2.0",
            "_view_name": "StyleView",
            "description_width": ""
          }
        },
        "328a3788882946ae8558273865c067c8": {
          "model_module": "@jupyter-widgets/base",
          "model_name": "LayoutModel",
          "model_module_version": "1.2.0",
          "state": {
            "_model_module": "@jupyter-widgets/base",
            "_model_module_version": "1.2.0",
            "_model_name": "LayoutModel",
            "_view_count": null,
            "_view_module": "@jupyter-widgets/base",
            "_view_module_version": "1.2.0",
            "_view_name": "LayoutView",
            "align_content": null,
            "align_items": null,
            "align_self": null,
            "border": null,
            "bottom": null,
            "display": null,
            "flex": null,
            "flex_flow": null,
            "grid_area": null,
            "grid_auto_columns": null,
            "grid_auto_flow": null,
            "grid_auto_rows": null,
            "grid_column": null,
            "grid_gap": null,
            "grid_row": null,
            "grid_template_areas": null,
            "grid_template_columns": null,
            "grid_template_rows": null,
            "height": null,
            "justify_content": null,
            "justify_items": null,
            "left": null,
            "margin": null,
            "max_height": null,
            "max_width": null,
            "min_height": null,
            "min_width": null,
            "object_fit": null,
            "object_position": null,
            "order": null,
            "overflow": null,
            "overflow_x": null,
            "overflow_y": null,
            "padding": null,
            "right": null,
            "top": null,
            "visibility": null,
            "width": null
          }
        },
        "35f6e5f0f6f94bc682cc4e4c85a4c667": {
          "model_module": "@jupyter-widgets/controls",
          "model_name": "ProgressStyleModel",
          "model_module_version": "1.5.0",
          "state": {
            "_model_module": "@jupyter-widgets/controls",
            "_model_module_version": "1.5.0",
            "_model_name": "ProgressStyleModel",
            "_view_count": null,
            "_view_module": "@jupyter-widgets/base",
            "_view_module_version": "1.2.0",
            "_view_name": "StyleView",
            "bar_color": null,
            "description_width": ""
          }
        },
        "946aec84c5414b5d9e3b3b3172aade0b": {
          "model_module": "@jupyter-widgets/controls",
          "model_name": "VBoxModel",
          "model_module_version": "1.5.0",
          "state": {
            "_dom_classes": [],
            "_model_module": "@jupyter-widgets/controls",
            "_model_module_version": "1.5.0",
            "_model_name": "VBoxModel",
            "_view_count": null,
            "_view_module": "@jupyter-widgets/controls",
            "_view_module_version": "1.5.0",
            "_view_name": "VBoxView",
            "box_style": "",
            "children": [
              "IPY_MODEL_526a47aaee8d48b4b6c706b6f9f9658b",
              "IPY_MODEL_7e72237563ab4beea2288b2c142154a6"
            ],
            "layout": "IPY_MODEL_75ee17223ba247f09ef511363120dbf8"
          }
        },
        "526a47aaee8d48b4b6c706b6f9f9658b": {
          "model_module": "@jupyter-widgets/controls",
          "model_name": "LabelModel",
          "model_module_version": "1.5.0",
          "state": {
            "_dom_classes": [],
            "_model_module": "@jupyter-widgets/controls",
            "_model_module_version": "1.5.0",
            "_model_name": "LabelModel",
            "_view_count": null,
            "_view_module": "@jupyter-widgets/controls",
            "_view_module_version": "1.5.0",
            "_view_name": "LabelView",
            "description": "",
            "description_tooltip": null,
            "layout": "IPY_MODEL_f1fc4d6e1dba4a55ae494f449fcccc83",
            "placeholder": "​",
            "style": "IPY_MODEL_c3d59d4e9e104b5c92a1aa62e98a4111",
            "value": "229.933 MB of 229.933 MB uploaded (0.000 MB deduped)\r"
          }
        },
        "7e72237563ab4beea2288b2c142154a6": {
          "model_module": "@jupyter-widgets/controls",
          "model_name": "FloatProgressModel",
          "model_module_version": "1.5.0",
          "state": {
            "_dom_classes": [],
            "_model_module": "@jupyter-widgets/controls",
            "_model_module_version": "1.5.0",
            "_model_name": "FloatProgressModel",
            "_view_count": null,
            "_view_module": "@jupyter-widgets/controls",
            "_view_module_version": "1.5.0",
            "_view_name": "ProgressView",
            "bar_style": "",
            "description": "",
            "description_tooltip": null,
            "layout": "IPY_MODEL_86a425bbe96a467e87dc118c542c3fe7",
            "max": 1,
            "min": 0,
            "orientation": "horizontal",
            "style": "IPY_MODEL_850838775762470d94a5d03057d8361d",
            "value": 1
          }
        },
        "75ee17223ba247f09ef511363120dbf8": {
          "model_module": "@jupyter-widgets/base",
          "model_name": "LayoutModel",
          "model_module_version": "1.2.0",
          "state": {
            "_model_module": "@jupyter-widgets/base",
            "_model_module_version": "1.2.0",
            "_model_name": "LayoutModel",
            "_view_count": null,
            "_view_module": "@jupyter-widgets/base",
            "_view_module_version": "1.2.0",
            "_view_name": "LayoutView",
            "align_content": null,
            "align_items": null,
            "align_self": null,
            "border": null,
            "bottom": null,
            "display": null,
            "flex": null,
            "flex_flow": null,
            "grid_area": null,
            "grid_auto_columns": null,
            "grid_auto_flow": null,
            "grid_auto_rows": null,
            "grid_column": null,
            "grid_gap": null,
            "grid_row": null,
            "grid_template_areas": null,
            "grid_template_columns": null,
            "grid_template_rows": null,
            "height": null,
            "justify_content": null,
            "justify_items": null,
            "left": null,
            "margin": null,
            "max_height": null,
            "max_width": null,
            "min_height": null,
            "min_width": null,
            "object_fit": null,
            "object_position": null,
            "order": null,
            "overflow": null,
            "overflow_x": null,
            "overflow_y": null,
            "padding": null,
            "right": null,
            "top": null,
            "visibility": null,
            "width": null
          }
        },
        "f1fc4d6e1dba4a55ae494f449fcccc83": {
          "model_module": "@jupyter-widgets/base",
          "model_name": "LayoutModel",
          "model_module_version": "1.2.0",
          "state": {
            "_model_module": "@jupyter-widgets/base",
            "_model_module_version": "1.2.0",
            "_model_name": "LayoutModel",
            "_view_count": null,
            "_view_module": "@jupyter-widgets/base",
            "_view_module_version": "1.2.0",
            "_view_name": "LayoutView",
            "align_content": null,
            "align_items": null,
            "align_self": null,
            "border": null,
            "bottom": null,
            "display": null,
            "flex": null,
            "flex_flow": null,
            "grid_area": null,
            "grid_auto_columns": null,
            "grid_auto_flow": null,
            "grid_auto_rows": null,
            "grid_column": null,
            "grid_gap": null,
            "grid_row": null,
            "grid_template_areas": null,
            "grid_template_columns": null,
            "grid_template_rows": null,
            "height": null,
            "justify_content": null,
            "justify_items": null,
            "left": null,
            "margin": null,
            "max_height": null,
            "max_width": null,
            "min_height": null,
            "min_width": null,
            "object_fit": null,
            "object_position": null,
            "order": null,
            "overflow": null,
            "overflow_x": null,
            "overflow_y": null,
            "padding": null,
            "right": null,
            "top": null,
            "visibility": null,
            "width": null
          }
        },
        "c3d59d4e9e104b5c92a1aa62e98a4111": {
          "model_module": "@jupyter-widgets/controls",
          "model_name": "DescriptionStyleModel",
          "model_module_version": "1.5.0",
          "state": {
            "_model_module": "@jupyter-widgets/controls",
            "_model_module_version": "1.5.0",
            "_model_name": "DescriptionStyleModel",
            "_view_count": null,
            "_view_module": "@jupyter-widgets/base",
            "_view_module_version": "1.2.0",
            "_view_name": "StyleView",
            "description_width": ""
          }
        },
        "86a425bbe96a467e87dc118c542c3fe7": {
          "model_module": "@jupyter-widgets/base",
          "model_name": "LayoutModel",
          "model_module_version": "1.2.0",
          "state": {
            "_model_module": "@jupyter-widgets/base",
            "_model_module_version": "1.2.0",
            "_model_name": "LayoutModel",
            "_view_count": null,
            "_view_module": "@jupyter-widgets/base",
            "_view_module_version": "1.2.0",
            "_view_name": "LayoutView",
            "align_content": null,
            "align_items": null,
            "align_self": null,
            "border": null,
            "bottom": null,
            "display": null,
            "flex": null,
            "flex_flow": null,
            "grid_area": null,
            "grid_auto_columns": null,
            "grid_auto_flow": null,
            "grid_auto_rows": null,
            "grid_column": null,
            "grid_gap": null,
            "grid_row": null,
            "grid_template_areas": null,
            "grid_template_columns": null,
            "grid_template_rows": null,
            "height": null,
            "justify_content": null,
            "justify_items": null,
            "left": null,
            "margin": null,
            "max_height": null,
            "max_width": null,
            "min_height": null,
            "min_width": null,
            "object_fit": null,
            "object_position": null,
            "order": null,
            "overflow": null,
            "overflow_x": null,
            "overflow_y": null,
            "padding": null,
            "right": null,
            "top": null,
            "visibility": null,
            "width": null
          }
        },
        "850838775762470d94a5d03057d8361d": {
          "model_module": "@jupyter-widgets/controls",
          "model_name": "ProgressStyleModel",
          "model_module_version": "1.5.0",
          "state": {
            "_model_module": "@jupyter-widgets/controls",
            "_model_module_version": "1.5.0",
            "_model_name": "ProgressStyleModel",
            "_view_count": null,
            "_view_module": "@jupyter-widgets/base",
            "_view_module_version": "1.2.0",
            "_view_name": "StyleView",
            "bar_color": null,
            "description_width": ""
          }
        },
        "d8752aa6d72d4509af195be747e40983": {
          "model_module": "@jupyter-widgets/controls",
          "model_name": "VBoxModel",
          "model_module_version": "1.5.0",
          "state": {
            "_dom_classes": [],
            "_model_module": "@jupyter-widgets/controls",
            "_model_module_version": "1.5.0",
            "_model_name": "VBoxModel",
            "_view_count": null,
            "_view_module": "@jupyter-widgets/controls",
            "_view_module_version": "1.5.0",
            "_view_name": "VBoxView",
            "box_style": "",
            "children": [
              "IPY_MODEL_fc90b2e879f041f6a5f2b2a52a3b4ef1",
              "IPY_MODEL_15fb91ee10be4a3b931635f5c3362433"
            ],
            "layout": "IPY_MODEL_c878ae48926e4f41a591e6d584ae4f6e"
          }
        },
        "fc90b2e879f041f6a5f2b2a52a3b4ef1": {
          "model_module": "@jupyter-widgets/controls",
          "model_name": "LabelModel",
          "model_module_version": "1.5.0",
          "state": {
            "_dom_classes": [],
            "_model_module": "@jupyter-widgets/controls",
            "_model_module_version": "1.5.0",
            "_model_name": "LabelModel",
            "_view_count": null,
            "_view_module": "@jupyter-widgets/controls",
            "_view_module_version": "1.5.0",
            "_view_name": "LabelView",
            "description": "",
            "description_tooltip": null,
            "layout": "IPY_MODEL_7e729c4daedd4361a3c0191e80ada370",
            "placeholder": "​",
            "style": "IPY_MODEL_12ac2d0bda1b4ab0a1a5de53c8c98b2d",
            "value": "0.009 MB of 0.009 MB uploaded (0.000 MB deduped)\r"
          }
        },
        "15fb91ee10be4a3b931635f5c3362433": {
          "model_module": "@jupyter-widgets/controls",
          "model_name": "FloatProgressModel",
          "model_module_version": "1.5.0",
          "state": {
            "_dom_classes": [],
            "_model_module": "@jupyter-widgets/controls",
            "_model_module_version": "1.5.0",
            "_model_name": "FloatProgressModel",
            "_view_count": null,
            "_view_module": "@jupyter-widgets/controls",
            "_view_module_version": "1.5.0",
            "_view_name": "ProgressView",
            "bar_style": "",
            "description": "",
            "description_tooltip": null,
            "layout": "IPY_MODEL_013825c11da34b91b17e7241ce4bbf06",
            "max": 1,
            "min": 0,
            "orientation": "horizontal",
            "style": "IPY_MODEL_5388718693294179ac965b5fbc9ccc5f",
            "value": 1
          }
        },
        "c878ae48926e4f41a591e6d584ae4f6e": {
          "model_module": "@jupyter-widgets/base",
          "model_name": "LayoutModel",
          "model_module_version": "1.2.0",
          "state": {
            "_model_module": "@jupyter-widgets/base",
            "_model_module_version": "1.2.0",
            "_model_name": "LayoutModel",
            "_view_count": null,
            "_view_module": "@jupyter-widgets/base",
            "_view_module_version": "1.2.0",
            "_view_name": "LayoutView",
            "align_content": null,
            "align_items": null,
            "align_self": null,
            "border": null,
            "bottom": null,
            "display": null,
            "flex": null,
            "flex_flow": null,
            "grid_area": null,
            "grid_auto_columns": null,
            "grid_auto_flow": null,
            "grid_auto_rows": null,
            "grid_column": null,
            "grid_gap": null,
            "grid_row": null,
            "grid_template_areas": null,
            "grid_template_columns": null,
            "grid_template_rows": null,
            "height": null,
            "justify_content": null,
            "justify_items": null,
            "left": null,
            "margin": null,
            "max_height": null,
            "max_width": null,
            "min_height": null,
            "min_width": null,
            "object_fit": null,
            "object_position": null,
            "order": null,
            "overflow": null,
            "overflow_x": null,
            "overflow_y": null,
            "padding": null,
            "right": null,
            "top": null,
            "visibility": null,
            "width": null
          }
        },
        "7e729c4daedd4361a3c0191e80ada370": {
          "model_module": "@jupyter-widgets/base",
          "model_name": "LayoutModel",
          "model_module_version": "1.2.0",
          "state": {
            "_model_module": "@jupyter-widgets/base",
            "_model_module_version": "1.2.0",
            "_model_name": "LayoutModel",
            "_view_count": null,
            "_view_module": "@jupyter-widgets/base",
            "_view_module_version": "1.2.0",
            "_view_name": "LayoutView",
            "align_content": null,
            "align_items": null,
            "align_self": null,
            "border": null,
            "bottom": null,
            "display": null,
            "flex": null,
            "flex_flow": null,
            "grid_area": null,
            "grid_auto_columns": null,
            "grid_auto_flow": null,
            "grid_auto_rows": null,
            "grid_column": null,
            "grid_gap": null,
            "grid_row": null,
            "grid_template_areas": null,
            "grid_template_columns": null,
            "grid_template_rows": null,
            "height": null,
            "justify_content": null,
            "justify_items": null,
            "left": null,
            "margin": null,
            "max_height": null,
            "max_width": null,
            "min_height": null,
            "min_width": null,
            "object_fit": null,
            "object_position": null,
            "order": null,
            "overflow": null,
            "overflow_x": null,
            "overflow_y": null,
            "padding": null,
            "right": null,
            "top": null,
            "visibility": null,
            "width": null
          }
        },
        "12ac2d0bda1b4ab0a1a5de53c8c98b2d": {
          "model_module": "@jupyter-widgets/controls",
          "model_name": "DescriptionStyleModel",
          "model_module_version": "1.5.0",
          "state": {
            "_model_module": "@jupyter-widgets/controls",
            "_model_module_version": "1.5.0",
            "_model_name": "DescriptionStyleModel",
            "_view_count": null,
            "_view_module": "@jupyter-widgets/base",
            "_view_module_version": "1.2.0",
            "_view_name": "StyleView",
            "description_width": ""
          }
        },
        "013825c11da34b91b17e7241ce4bbf06": {
          "model_module": "@jupyter-widgets/base",
          "model_name": "LayoutModel",
          "model_module_version": "1.2.0",
          "state": {
            "_model_module": "@jupyter-widgets/base",
            "_model_module_version": "1.2.0",
            "_model_name": "LayoutModel",
            "_view_count": null,
            "_view_module": "@jupyter-widgets/base",
            "_view_module_version": "1.2.0",
            "_view_name": "LayoutView",
            "align_content": null,
            "align_items": null,
            "align_self": null,
            "border": null,
            "bottom": null,
            "display": null,
            "flex": null,
            "flex_flow": null,
            "grid_area": null,
            "grid_auto_columns": null,
            "grid_auto_flow": null,
            "grid_auto_rows": null,
            "grid_column": null,
            "grid_gap": null,
            "grid_row": null,
            "grid_template_areas": null,
            "grid_template_columns": null,
            "grid_template_rows": null,
            "height": null,
            "justify_content": null,
            "justify_items": null,
            "left": null,
            "margin": null,
            "max_height": null,
            "max_width": null,
            "min_height": null,
            "min_width": null,
            "object_fit": null,
            "object_position": null,
            "order": null,
            "overflow": null,
            "overflow_x": null,
            "overflow_y": null,
            "padding": null,
            "right": null,
            "top": null,
            "visibility": null,
            "width": null
          }
        },
        "5388718693294179ac965b5fbc9ccc5f": {
          "model_module": "@jupyter-widgets/controls",
          "model_name": "ProgressStyleModel",
          "model_module_version": "1.5.0",
          "state": {
            "_model_module": "@jupyter-widgets/controls",
            "_model_module_version": "1.5.0",
            "_model_name": "ProgressStyleModel",
            "_view_count": null,
            "_view_module": "@jupyter-widgets/base",
            "_view_module_version": "1.2.0",
            "_view_name": "StyleView",
            "bar_color": null,
            "description_width": ""
          }
        },
        "54a68deab117462eb287c7a350ec0a73": {
          "model_module": "@jupyter-widgets/controls",
          "model_name": "VBoxModel",
          "model_module_version": "1.5.0",
          "state": {
            "_dom_classes": [],
            "_model_module": "@jupyter-widgets/controls",
            "_model_module_version": "1.5.0",
            "_model_name": "VBoxModel",
            "_view_count": null,
            "_view_module": "@jupyter-widgets/controls",
            "_view_module_version": "1.5.0",
            "_view_name": "VBoxView",
            "box_style": "",
            "children": [
              "IPY_MODEL_571b43a0749548d783bc34e30ed9f29f",
              "IPY_MODEL_2b153e9609de4f7bb0e412b7f4488841"
            ],
            "layout": "IPY_MODEL_d131527c01db410c8095fdc6bb5560e9"
          }
        },
        "571b43a0749548d783bc34e30ed9f29f": {
          "model_module": "@jupyter-widgets/controls",
          "model_name": "LabelModel",
          "model_module_version": "1.5.0",
          "state": {
            "_dom_classes": [],
            "_model_module": "@jupyter-widgets/controls",
            "_model_module_version": "1.5.0",
            "_model_name": "LabelModel",
            "_view_count": null,
            "_view_module": "@jupyter-widgets/controls",
            "_view_module_version": "1.5.0",
            "_view_name": "LabelView",
            "description": "",
            "description_tooltip": null,
            "layout": "IPY_MODEL_5970feeb1b7c4e15afc85151abadedbf",
            "placeholder": "​",
            "style": "IPY_MODEL_88a29d8671ca4379b19338347a07b88d",
            "value": "280.555 MB of 280.555 MB uploaded (0.000 MB deduped)\r"
          }
        },
        "2b153e9609de4f7bb0e412b7f4488841": {
          "model_module": "@jupyter-widgets/controls",
          "model_name": "FloatProgressModel",
          "model_module_version": "1.5.0",
          "state": {
            "_dom_classes": [],
            "_model_module": "@jupyter-widgets/controls",
            "_model_module_version": "1.5.0",
            "_model_name": "FloatProgressModel",
            "_view_count": null,
            "_view_module": "@jupyter-widgets/controls",
            "_view_module_version": "1.5.0",
            "_view_name": "ProgressView",
            "bar_style": "",
            "description": "",
            "description_tooltip": null,
            "layout": "IPY_MODEL_52a1856c4b3141c389677bd74bc15a60",
            "max": 1,
            "min": 0,
            "orientation": "horizontal",
            "style": "IPY_MODEL_b4c7b5244b0647ca86bfaf531c6b7e3a",
            "value": 1
          }
        },
        "d131527c01db410c8095fdc6bb5560e9": {
          "model_module": "@jupyter-widgets/base",
          "model_name": "LayoutModel",
          "model_module_version": "1.2.0",
          "state": {
            "_model_module": "@jupyter-widgets/base",
            "_model_module_version": "1.2.0",
            "_model_name": "LayoutModel",
            "_view_count": null,
            "_view_module": "@jupyter-widgets/base",
            "_view_module_version": "1.2.0",
            "_view_name": "LayoutView",
            "align_content": null,
            "align_items": null,
            "align_self": null,
            "border": null,
            "bottom": null,
            "display": null,
            "flex": null,
            "flex_flow": null,
            "grid_area": null,
            "grid_auto_columns": null,
            "grid_auto_flow": null,
            "grid_auto_rows": null,
            "grid_column": null,
            "grid_gap": null,
            "grid_row": null,
            "grid_template_areas": null,
            "grid_template_columns": null,
            "grid_template_rows": null,
            "height": null,
            "justify_content": null,
            "justify_items": null,
            "left": null,
            "margin": null,
            "max_height": null,
            "max_width": null,
            "min_height": null,
            "min_width": null,
            "object_fit": null,
            "object_position": null,
            "order": null,
            "overflow": null,
            "overflow_x": null,
            "overflow_y": null,
            "padding": null,
            "right": null,
            "top": null,
            "visibility": null,
            "width": null
          }
        },
        "5970feeb1b7c4e15afc85151abadedbf": {
          "model_module": "@jupyter-widgets/base",
          "model_name": "LayoutModel",
          "model_module_version": "1.2.0",
          "state": {
            "_model_module": "@jupyter-widgets/base",
            "_model_module_version": "1.2.0",
            "_model_name": "LayoutModel",
            "_view_count": null,
            "_view_module": "@jupyter-widgets/base",
            "_view_module_version": "1.2.0",
            "_view_name": "LayoutView",
            "align_content": null,
            "align_items": null,
            "align_self": null,
            "border": null,
            "bottom": null,
            "display": null,
            "flex": null,
            "flex_flow": null,
            "grid_area": null,
            "grid_auto_columns": null,
            "grid_auto_flow": null,
            "grid_auto_rows": null,
            "grid_column": null,
            "grid_gap": null,
            "grid_row": null,
            "grid_template_areas": null,
            "grid_template_columns": null,
            "grid_template_rows": null,
            "height": null,
            "justify_content": null,
            "justify_items": null,
            "left": null,
            "margin": null,
            "max_height": null,
            "max_width": null,
            "min_height": null,
            "min_width": null,
            "object_fit": null,
            "object_position": null,
            "order": null,
            "overflow": null,
            "overflow_x": null,
            "overflow_y": null,
            "padding": null,
            "right": null,
            "top": null,
            "visibility": null,
            "width": null
          }
        },
        "88a29d8671ca4379b19338347a07b88d": {
          "model_module": "@jupyter-widgets/controls",
          "model_name": "DescriptionStyleModel",
          "model_module_version": "1.5.0",
          "state": {
            "_model_module": "@jupyter-widgets/controls",
            "_model_module_version": "1.5.0",
            "_model_name": "DescriptionStyleModel",
            "_view_count": null,
            "_view_module": "@jupyter-widgets/base",
            "_view_module_version": "1.2.0",
            "_view_name": "StyleView",
            "description_width": ""
          }
        },
        "52a1856c4b3141c389677bd74bc15a60": {
          "model_module": "@jupyter-widgets/base",
          "model_name": "LayoutModel",
          "model_module_version": "1.2.0",
          "state": {
            "_model_module": "@jupyter-widgets/base",
            "_model_module_version": "1.2.0",
            "_model_name": "LayoutModel",
            "_view_count": null,
            "_view_module": "@jupyter-widgets/base",
            "_view_module_version": "1.2.0",
            "_view_name": "LayoutView",
            "align_content": null,
            "align_items": null,
            "align_self": null,
            "border": null,
            "bottom": null,
            "display": null,
            "flex": null,
            "flex_flow": null,
            "grid_area": null,
            "grid_auto_columns": null,
            "grid_auto_flow": null,
            "grid_auto_rows": null,
            "grid_column": null,
            "grid_gap": null,
            "grid_row": null,
            "grid_template_areas": null,
            "grid_template_columns": null,
            "grid_template_rows": null,
            "height": null,
            "justify_content": null,
            "justify_items": null,
            "left": null,
            "margin": null,
            "max_height": null,
            "max_width": null,
            "min_height": null,
            "min_width": null,
            "object_fit": null,
            "object_position": null,
            "order": null,
            "overflow": null,
            "overflow_x": null,
            "overflow_y": null,
            "padding": null,
            "right": null,
            "top": null,
            "visibility": null,
            "width": null
          }
        },
        "b4c7b5244b0647ca86bfaf531c6b7e3a": {
          "model_module": "@jupyter-widgets/controls",
          "model_name": "ProgressStyleModel",
          "model_module_version": "1.5.0",
          "state": {
            "_model_module": "@jupyter-widgets/controls",
            "_model_module_version": "1.5.0",
            "_model_name": "ProgressStyleModel",
            "_view_count": null,
            "_view_module": "@jupyter-widgets/base",
            "_view_module_version": "1.2.0",
            "_view_name": "StyleView",
            "bar_color": null,
            "description_width": ""
          }
        },
        "4e56eb09aaec4d31a0752b9edcc50aa3": {
          "model_module": "@jupyter-widgets/controls",
          "model_name": "VBoxModel",
          "model_module_version": "1.5.0",
          "state": {
            "_dom_classes": [],
            "_model_module": "@jupyter-widgets/controls",
            "_model_module_version": "1.5.0",
            "_model_name": "VBoxModel",
            "_view_count": null,
            "_view_module": "@jupyter-widgets/controls",
            "_view_module_version": "1.5.0",
            "_view_name": "VBoxView",
            "box_style": "",
            "children": [
              "IPY_MODEL_a4d8c2ba5ec04383adee1660726f0326",
              "IPY_MODEL_c807f260609a4edcb4b1e8dd644f0ff1"
            ],
            "layout": "IPY_MODEL_b6c65120b80249df849609738fde6ebd"
          }
        },
        "a4d8c2ba5ec04383adee1660726f0326": {
          "model_module": "@jupyter-widgets/controls",
          "model_name": "LabelModel",
          "model_module_version": "1.5.0",
          "state": {
            "_dom_classes": [],
            "_model_module": "@jupyter-widgets/controls",
            "_model_module_version": "1.5.0",
            "_model_name": "LabelModel",
            "_view_count": null,
            "_view_module": "@jupyter-widgets/controls",
            "_view_module_version": "1.5.0",
            "_view_name": "LabelView",
            "description": "",
            "description_tooltip": null,
            "layout": "IPY_MODEL_bdec56a1a45247f385b66a7d0f9ac471",
            "placeholder": "​",
            "style": "IPY_MODEL_919f5bad844d4db6ac73dcfc2487c3d6",
            "value": "0.009 MB of 0.009 MB uploaded (0.000 MB deduped)\r"
          }
        },
        "c807f260609a4edcb4b1e8dd644f0ff1": {
          "model_module": "@jupyter-widgets/controls",
          "model_name": "FloatProgressModel",
          "model_module_version": "1.5.0",
          "state": {
            "_dom_classes": [],
            "_model_module": "@jupyter-widgets/controls",
            "_model_module_version": "1.5.0",
            "_model_name": "FloatProgressModel",
            "_view_count": null,
            "_view_module": "@jupyter-widgets/controls",
            "_view_module_version": "1.5.0",
            "_view_name": "ProgressView",
            "bar_style": "",
            "description": "",
            "description_tooltip": null,
            "layout": "IPY_MODEL_f8f81cb030234d888122b1288be389cd",
            "max": 1,
            "min": 0,
            "orientation": "horizontal",
            "style": "IPY_MODEL_56e7633a16174e039fa1c44d786ac47c",
            "value": 1
          }
        },
        "b6c65120b80249df849609738fde6ebd": {
          "model_module": "@jupyter-widgets/base",
          "model_name": "LayoutModel",
          "model_module_version": "1.2.0",
          "state": {
            "_model_module": "@jupyter-widgets/base",
            "_model_module_version": "1.2.0",
            "_model_name": "LayoutModel",
            "_view_count": null,
            "_view_module": "@jupyter-widgets/base",
            "_view_module_version": "1.2.0",
            "_view_name": "LayoutView",
            "align_content": null,
            "align_items": null,
            "align_self": null,
            "border": null,
            "bottom": null,
            "display": null,
            "flex": null,
            "flex_flow": null,
            "grid_area": null,
            "grid_auto_columns": null,
            "grid_auto_flow": null,
            "grid_auto_rows": null,
            "grid_column": null,
            "grid_gap": null,
            "grid_row": null,
            "grid_template_areas": null,
            "grid_template_columns": null,
            "grid_template_rows": null,
            "height": null,
            "justify_content": null,
            "justify_items": null,
            "left": null,
            "margin": null,
            "max_height": null,
            "max_width": null,
            "min_height": null,
            "min_width": null,
            "object_fit": null,
            "object_position": null,
            "order": null,
            "overflow": null,
            "overflow_x": null,
            "overflow_y": null,
            "padding": null,
            "right": null,
            "top": null,
            "visibility": null,
            "width": null
          }
        },
        "bdec56a1a45247f385b66a7d0f9ac471": {
          "model_module": "@jupyter-widgets/base",
          "model_name": "LayoutModel",
          "model_module_version": "1.2.0",
          "state": {
            "_model_module": "@jupyter-widgets/base",
            "_model_module_version": "1.2.0",
            "_model_name": "LayoutModel",
            "_view_count": null,
            "_view_module": "@jupyter-widgets/base",
            "_view_module_version": "1.2.0",
            "_view_name": "LayoutView",
            "align_content": null,
            "align_items": null,
            "align_self": null,
            "border": null,
            "bottom": null,
            "display": null,
            "flex": null,
            "flex_flow": null,
            "grid_area": null,
            "grid_auto_columns": null,
            "grid_auto_flow": null,
            "grid_auto_rows": null,
            "grid_column": null,
            "grid_gap": null,
            "grid_row": null,
            "grid_template_areas": null,
            "grid_template_columns": null,
            "grid_template_rows": null,
            "height": null,
            "justify_content": null,
            "justify_items": null,
            "left": null,
            "margin": null,
            "max_height": null,
            "max_width": null,
            "min_height": null,
            "min_width": null,
            "object_fit": null,
            "object_position": null,
            "order": null,
            "overflow": null,
            "overflow_x": null,
            "overflow_y": null,
            "padding": null,
            "right": null,
            "top": null,
            "visibility": null,
            "width": null
          }
        },
        "919f5bad844d4db6ac73dcfc2487c3d6": {
          "model_module": "@jupyter-widgets/controls",
          "model_name": "DescriptionStyleModel",
          "model_module_version": "1.5.0",
          "state": {
            "_model_module": "@jupyter-widgets/controls",
            "_model_module_version": "1.5.0",
            "_model_name": "DescriptionStyleModel",
            "_view_count": null,
            "_view_module": "@jupyter-widgets/base",
            "_view_module_version": "1.2.0",
            "_view_name": "StyleView",
            "description_width": ""
          }
        },
        "f8f81cb030234d888122b1288be389cd": {
          "model_module": "@jupyter-widgets/base",
          "model_name": "LayoutModel",
          "model_module_version": "1.2.0",
          "state": {
            "_model_module": "@jupyter-widgets/base",
            "_model_module_version": "1.2.0",
            "_model_name": "LayoutModel",
            "_view_count": null,
            "_view_module": "@jupyter-widgets/base",
            "_view_module_version": "1.2.0",
            "_view_name": "LayoutView",
            "align_content": null,
            "align_items": null,
            "align_self": null,
            "border": null,
            "bottom": null,
            "display": null,
            "flex": null,
            "flex_flow": null,
            "grid_area": null,
            "grid_auto_columns": null,
            "grid_auto_flow": null,
            "grid_auto_rows": null,
            "grid_column": null,
            "grid_gap": null,
            "grid_row": null,
            "grid_template_areas": null,
            "grid_template_columns": null,
            "grid_template_rows": null,
            "height": null,
            "justify_content": null,
            "justify_items": null,
            "left": null,
            "margin": null,
            "max_height": null,
            "max_width": null,
            "min_height": null,
            "min_width": null,
            "object_fit": null,
            "object_position": null,
            "order": null,
            "overflow": null,
            "overflow_x": null,
            "overflow_y": null,
            "padding": null,
            "right": null,
            "top": null,
            "visibility": null,
            "width": null
          }
        },
        "56e7633a16174e039fa1c44d786ac47c": {
          "model_module": "@jupyter-widgets/controls",
          "model_name": "ProgressStyleModel",
          "model_module_version": "1.5.0",
          "state": {
            "_model_module": "@jupyter-widgets/controls",
            "_model_module_version": "1.5.0",
            "_model_name": "ProgressStyleModel",
            "_view_count": null,
            "_view_module": "@jupyter-widgets/base",
            "_view_module_version": "1.2.0",
            "_view_name": "StyleView",
            "bar_color": null,
            "description_width": ""
          }
        },
        "41fc1abfc8a543578bf037f6fd4ed090": {
          "model_module": "@jupyter-widgets/controls",
          "model_name": "VBoxModel",
          "model_module_version": "1.5.0",
          "state": {
            "_dom_classes": [],
            "_model_module": "@jupyter-widgets/controls",
            "_model_module_version": "1.5.0",
            "_model_name": "VBoxModel",
            "_view_count": null,
            "_view_module": "@jupyter-widgets/controls",
            "_view_module_version": "1.5.0",
            "_view_name": "VBoxView",
            "box_style": "",
            "children": [
              "IPY_MODEL_ddd3f2203cfd443ba866aff9d6a25f8a",
              "IPY_MODEL_73f2f8304d4a4a96b05e8872ef2e8dc6"
            ],
            "layout": "IPY_MODEL_163cd2fc5b5342a8b04d24b92d422d84"
          }
        },
        "ddd3f2203cfd443ba866aff9d6a25f8a": {
          "model_module": "@jupyter-widgets/controls",
          "model_name": "LabelModel",
          "model_module_version": "1.5.0",
          "state": {
            "_dom_classes": [],
            "_model_module": "@jupyter-widgets/controls",
            "_model_module_version": "1.5.0",
            "_model_name": "LabelModel",
            "_view_count": null,
            "_view_module": "@jupyter-widgets/controls",
            "_view_module_version": "1.5.0",
            "_view_name": "LabelView",
            "description": "",
            "description_tooltip": null,
            "layout": "IPY_MODEL_72de40a3002448638cf0e65cfe4ebe8d",
            "placeholder": "​",
            "style": "IPY_MODEL_fa3d0845704d47b8bccaecd87d4c34b8",
            "value": "163.884 MB of 163.884 MB uploaded (0.000 MB deduped)\r"
          }
        },
        "73f2f8304d4a4a96b05e8872ef2e8dc6": {
          "model_module": "@jupyter-widgets/controls",
          "model_name": "FloatProgressModel",
          "model_module_version": "1.5.0",
          "state": {
            "_dom_classes": [],
            "_model_module": "@jupyter-widgets/controls",
            "_model_module_version": "1.5.0",
            "_model_name": "FloatProgressModel",
            "_view_count": null,
            "_view_module": "@jupyter-widgets/controls",
            "_view_module_version": "1.5.0",
            "_view_name": "ProgressView",
            "bar_style": "",
            "description": "",
            "description_tooltip": null,
            "layout": "IPY_MODEL_4c2a82f5e3fb42c39110813fb2384fb1",
            "max": 1,
            "min": 0,
            "orientation": "horizontal",
            "style": "IPY_MODEL_046d4c646b9141f6af073523f605c704",
            "value": 1
          }
        },
        "163cd2fc5b5342a8b04d24b92d422d84": {
          "model_module": "@jupyter-widgets/base",
          "model_name": "LayoutModel",
          "model_module_version": "1.2.0",
          "state": {
            "_model_module": "@jupyter-widgets/base",
            "_model_module_version": "1.2.0",
            "_model_name": "LayoutModel",
            "_view_count": null,
            "_view_module": "@jupyter-widgets/base",
            "_view_module_version": "1.2.0",
            "_view_name": "LayoutView",
            "align_content": null,
            "align_items": null,
            "align_self": null,
            "border": null,
            "bottom": null,
            "display": null,
            "flex": null,
            "flex_flow": null,
            "grid_area": null,
            "grid_auto_columns": null,
            "grid_auto_flow": null,
            "grid_auto_rows": null,
            "grid_column": null,
            "grid_gap": null,
            "grid_row": null,
            "grid_template_areas": null,
            "grid_template_columns": null,
            "grid_template_rows": null,
            "height": null,
            "justify_content": null,
            "justify_items": null,
            "left": null,
            "margin": null,
            "max_height": null,
            "max_width": null,
            "min_height": null,
            "min_width": null,
            "object_fit": null,
            "object_position": null,
            "order": null,
            "overflow": null,
            "overflow_x": null,
            "overflow_y": null,
            "padding": null,
            "right": null,
            "top": null,
            "visibility": null,
            "width": null
          }
        },
        "72de40a3002448638cf0e65cfe4ebe8d": {
          "model_module": "@jupyter-widgets/base",
          "model_name": "LayoutModel",
          "model_module_version": "1.2.0",
          "state": {
            "_model_module": "@jupyter-widgets/base",
            "_model_module_version": "1.2.0",
            "_model_name": "LayoutModel",
            "_view_count": null,
            "_view_module": "@jupyter-widgets/base",
            "_view_module_version": "1.2.0",
            "_view_name": "LayoutView",
            "align_content": null,
            "align_items": null,
            "align_self": null,
            "border": null,
            "bottom": null,
            "display": null,
            "flex": null,
            "flex_flow": null,
            "grid_area": null,
            "grid_auto_columns": null,
            "grid_auto_flow": null,
            "grid_auto_rows": null,
            "grid_column": null,
            "grid_gap": null,
            "grid_row": null,
            "grid_template_areas": null,
            "grid_template_columns": null,
            "grid_template_rows": null,
            "height": null,
            "justify_content": null,
            "justify_items": null,
            "left": null,
            "margin": null,
            "max_height": null,
            "max_width": null,
            "min_height": null,
            "min_width": null,
            "object_fit": null,
            "object_position": null,
            "order": null,
            "overflow": null,
            "overflow_x": null,
            "overflow_y": null,
            "padding": null,
            "right": null,
            "top": null,
            "visibility": null,
            "width": null
          }
        },
        "fa3d0845704d47b8bccaecd87d4c34b8": {
          "model_module": "@jupyter-widgets/controls",
          "model_name": "DescriptionStyleModel",
          "model_module_version": "1.5.0",
          "state": {
            "_model_module": "@jupyter-widgets/controls",
            "_model_module_version": "1.5.0",
            "_model_name": "DescriptionStyleModel",
            "_view_count": null,
            "_view_module": "@jupyter-widgets/base",
            "_view_module_version": "1.2.0",
            "_view_name": "StyleView",
            "description_width": ""
          }
        },
        "4c2a82f5e3fb42c39110813fb2384fb1": {
          "model_module": "@jupyter-widgets/base",
          "model_name": "LayoutModel",
          "model_module_version": "1.2.0",
          "state": {
            "_model_module": "@jupyter-widgets/base",
            "_model_module_version": "1.2.0",
            "_model_name": "LayoutModel",
            "_view_count": null,
            "_view_module": "@jupyter-widgets/base",
            "_view_module_version": "1.2.0",
            "_view_name": "LayoutView",
            "align_content": null,
            "align_items": null,
            "align_self": null,
            "border": null,
            "bottom": null,
            "display": null,
            "flex": null,
            "flex_flow": null,
            "grid_area": null,
            "grid_auto_columns": null,
            "grid_auto_flow": null,
            "grid_auto_rows": null,
            "grid_column": null,
            "grid_gap": null,
            "grid_row": null,
            "grid_template_areas": null,
            "grid_template_columns": null,
            "grid_template_rows": null,
            "height": null,
            "justify_content": null,
            "justify_items": null,
            "left": null,
            "margin": null,
            "max_height": null,
            "max_width": null,
            "min_height": null,
            "min_width": null,
            "object_fit": null,
            "object_position": null,
            "order": null,
            "overflow": null,
            "overflow_x": null,
            "overflow_y": null,
            "padding": null,
            "right": null,
            "top": null,
            "visibility": null,
            "width": null
          }
        },
        "046d4c646b9141f6af073523f605c704": {
          "model_module": "@jupyter-widgets/controls",
          "model_name": "ProgressStyleModel",
          "model_module_version": "1.5.0",
          "state": {
            "_model_module": "@jupyter-widgets/controls",
            "_model_module_version": "1.5.0",
            "_model_name": "ProgressStyleModel",
            "_view_count": null,
            "_view_module": "@jupyter-widgets/base",
            "_view_module_version": "1.2.0",
            "_view_name": "StyleView",
            "bar_color": null,
            "description_width": ""
          }
        },
        "0161ed02ac554673a807b4715a4ac091": {
          "model_module": "@jupyter-widgets/controls",
          "model_name": "VBoxModel",
          "model_module_version": "1.5.0",
          "state": {
            "_dom_classes": [],
            "_model_module": "@jupyter-widgets/controls",
            "_model_module_version": "1.5.0",
            "_model_name": "VBoxModel",
            "_view_count": null,
            "_view_module": "@jupyter-widgets/controls",
            "_view_module_version": "1.5.0",
            "_view_name": "VBoxView",
            "box_style": "",
            "children": [
              "IPY_MODEL_4c998f33fc5940abaf420616dbfe7519",
              "IPY_MODEL_d22a37e631b6465aa5373d35d6a79966"
            ],
            "layout": "IPY_MODEL_cbd18cd112084690beab04612012b295"
          }
        },
        "4c998f33fc5940abaf420616dbfe7519": {
          "model_module": "@jupyter-widgets/controls",
          "model_name": "LabelModel",
          "model_module_version": "1.5.0",
          "state": {
            "_dom_classes": [],
            "_model_module": "@jupyter-widgets/controls",
            "_model_module_version": "1.5.0",
            "_model_name": "LabelModel",
            "_view_count": null,
            "_view_module": "@jupyter-widgets/controls",
            "_view_module_version": "1.5.0",
            "_view_name": "LabelView",
            "description": "",
            "description_tooltip": null,
            "layout": "IPY_MODEL_3b166ba4554c40bc8a9543b3d2a12e68",
            "placeholder": "​",
            "style": "IPY_MODEL_c2aafd537af549e6ab81ea40ad576d31",
            "value": "0.009 MB of 0.009 MB uploaded (0.000 MB deduped)\r"
          }
        },
        "d22a37e631b6465aa5373d35d6a79966": {
          "model_module": "@jupyter-widgets/controls",
          "model_name": "FloatProgressModel",
          "model_module_version": "1.5.0",
          "state": {
            "_dom_classes": [],
            "_model_module": "@jupyter-widgets/controls",
            "_model_module_version": "1.5.0",
            "_model_name": "FloatProgressModel",
            "_view_count": null,
            "_view_module": "@jupyter-widgets/controls",
            "_view_module_version": "1.5.0",
            "_view_name": "ProgressView",
            "bar_style": "",
            "description": "",
            "description_tooltip": null,
            "layout": "IPY_MODEL_f80acc9ca3fc4db7ad18b3128125a889",
            "max": 1,
            "min": 0,
            "orientation": "horizontal",
            "style": "IPY_MODEL_cca5bcef5d7e4f18968872324de6fd10",
            "value": 1
          }
        },
        "cbd18cd112084690beab04612012b295": {
          "model_module": "@jupyter-widgets/base",
          "model_name": "LayoutModel",
          "model_module_version": "1.2.0",
          "state": {
            "_model_module": "@jupyter-widgets/base",
            "_model_module_version": "1.2.0",
            "_model_name": "LayoutModel",
            "_view_count": null,
            "_view_module": "@jupyter-widgets/base",
            "_view_module_version": "1.2.0",
            "_view_name": "LayoutView",
            "align_content": null,
            "align_items": null,
            "align_self": null,
            "border": null,
            "bottom": null,
            "display": null,
            "flex": null,
            "flex_flow": null,
            "grid_area": null,
            "grid_auto_columns": null,
            "grid_auto_flow": null,
            "grid_auto_rows": null,
            "grid_column": null,
            "grid_gap": null,
            "grid_row": null,
            "grid_template_areas": null,
            "grid_template_columns": null,
            "grid_template_rows": null,
            "height": null,
            "justify_content": null,
            "justify_items": null,
            "left": null,
            "margin": null,
            "max_height": null,
            "max_width": null,
            "min_height": null,
            "min_width": null,
            "object_fit": null,
            "object_position": null,
            "order": null,
            "overflow": null,
            "overflow_x": null,
            "overflow_y": null,
            "padding": null,
            "right": null,
            "top": null,
            "visibility": null,
            "width": null
          }
        },
        "3b166ba4554c40bc8a9543b3d2a12e68": {
          "model_module": "@jupyter-widgets/base",
          "model_name": "LayoutModel",
          "model_module_version": "1.2.0",
          "state": {
            "_model_module": "@jupyter-widgets/base",
            "_model_module_version": "1.2.0",
            "_model_name": "LayoutModel",
            "_view_count": null,
            "_view_module": "@jupyter-widgets/base",
            "_view_module_version": "1.2.0",
            "_view_name": "LayoutView",
            "align_content": null,
            "align_items": null,
            "align_self": null,
            "border": null,
            "bottom": null,
            "display": null,
            "flex": null,
            "flex_flow": null,
            "grid_area": null,
            "grid_auto_columns": null,
            "grid_auto_flow": null,
            "grid_auto_rows": null,
            "grid_column": null,
            "grid_gap": null,
            "grid_row": null,
            "grid_template_areas": null,
            "grid_template_columns": null,
            "grid_template_rows": null,
            "height": null,
            "justify_content": null,
            "justify_items": null,
            "left": null,
            "margin": null,
            "max_height": null,
            "max_width": null,
            "min_height": null,
            "min_width": null,
            "object_fit": null,
            "object_position": null,
            "order": null,
            "overflow": null,
            "overflow_x": null,
            "overflow_y": null,
            "padding": null,
            "right": null,
            "top": null,
            "visibility": null,
            "width": null
          }
        },
        "c2aafd537af549e6ab81ea40ad576d31": {
          "model_module": "@jupyter-widgets/controls",
          "model_name": "DescriptionStyleModel",
          "model_module_version": "1.5.0",
          "state": {
            "_model_module": "@jupyter-widgets/controls",
            "_model_module_version": "1.5.0",
            "_model_name": "DescriptionStyleModel",
            "_view_count": null,
            "_view_module": "@jupyter-widgets/base",
            "_view_module_version": "1.2.0",
            "_view_name": "StyleView",
            "description_width": ""
          }
        },
        "f80acc9ca3fc4db7ad18b3128125a889": {
          "model_module": "@jupyter-widgets/base",
          "model_name": "LayoutModel",
          "model_module_version": "1.2.0",
          "state": {
            "_model_module": "@jupyter-widgets/base",
            "_model_module_version": "1.2.0",
            "_model_name": "LayoutModel",
            "_view_count": null,
            "_view_module": "@jupyter-widgets/base",
            "_view_module_version": "1.2.0",
            "_view_name": "LayoutView",
            "align_content": null,
            "align_items": null,
            "align_self": null,
            "border": null,
            "bottom": null,
            "display": null,
            "flex": null,
            "flex_flow": null,
            "grid_area": null,
            "grid_auto_columns": null,
            "grid_auto_flow": null,
            "grid_auto_rows": null,
            "grid_column": null,
            "grid_gap": null,
            "grid_row": null,
            "grid_template_areas": null,
            "grid_template_columns": null,
            "grid_template_rows": null,
            "height": null,
            "justify_content": null,
            "justify_items": null,
            "left": null,
            "margin": null,
            "max_height": null,
            "max_width": null,
            "min_height": null,
            "min_width": null,
            "object_fit": null,
            "object_position": null,
            "order": null,
            "overflow": null,
            "overflow_x": null,
            "overflow_y": null,
            "padding": null,
            "right": null,
            "top": null,
            "visibility": null,
            "width": null
          }
        },
        "cca5bcef5d7e4f18968872324de6fd10": {
          "model_module": "@jupyter-widgets/controls",
          "model_name": "ProgressStyleModel",
          "model_module_version": "1.5.0",
          "state": {
            "_model_module": "@jupyter-widgets/controls",
            "_model_module_version": "1.5.0",
            "_model_name": "ProgressStyleModel",
            "_view_count": null,
            "_view_module": "@jupyter-widgets/base",
            "_view_module_version": "1.2.0",
            "_view_name": "StyleView",
            "bar_color": null,
            "description_width": ""
          }
        }
      }
    }
  },
  "cells": [
    {
      "cell_type": "markdown",
      "source": [
        "1) Image size has to be taken care for each model (both in augmentation part and in model defining part)\n",
        "\n",
        "2) With data augmentation it takes around 5 minutes for each epoch, for 64 dense layers and 0.4 dropout\n",
        "\n",
        "For 10 epochs , train and val accuracies are 23.8 and 21\n",
        "\n",
        "\n",
        "3) if else in data augmentation can speed up a bit ???\n",
        "\n",
        "4) Testing on test dataset is not done\n",
        "\n",
        "5) Using grid search, can be changed to bayes later\n",
        "\n",
        "\n",
        "7) Batch size changed from 32 to 64"
      ],
      "metadata": {
        "id": "bCCJNkJ_5KWW"
      }
    },
    {
      "cell_type": "code",
      "source": [
        "# Connecting to google drive\n",
        "from google.colab import drive\n",
        "drive.mount('/content/drive')"
      ],
      "metadata": {
        "colab": {
          "base_uri": "https://localhost:8080/"
        },
        "id": "GjxdxEnsZU2y",
        "outputId": "545e36cf-4647-4e7e-f3c2-98d5218cd98d"
      },
      "execution_count": null,
      "outputs": [
        {
          "output_type": "stream",
          "name": "stdout",
          "text": [
            "Mounted at /content/drive\n"
          ]
        }
      ]
    },
    {
      "cell_type": "code",
      "source": [
        "# Wandb \n",
        "!pip install wandb --upgrade\n"
      ],
      "metadata": {
        "id": "dOjiryu4Zgg7",
        "colab": {
          "base_uri": "https://localhost:8080/"
        },
        "outputId": "eca41a46-47e5-400b-9c67-8b1c66588e5e"
      },
      "execution_count": null,
      "outputs": [
        {
          "output_type": "stream",
          "name": "stdout",
          "text": [
            "Collecting wandb\n",
            "  Downloading wandb-0.12.11-py2.py3-none-any.whl (1.7 MB)\n",
            "\u001b[K     |████████████████████████████████| 1.7 MB 5.1 MB/s \n",
            "\u001b[?25hCollecting GitPython>=1.0.0\n",
            "  Downloading GitPython-3.1.27-py3-none-any.whl (181 kB)\n",
            "\u001b[K     |████████████████████████████████| 181 kB 48.1 MB/s \n",
            "\u001b[?25hRequirement already satisfied: Click!=8.0.0,>=7.0 in /usr/local/lib/python3.7/dist-packages (from wandb) (7.1.2)\n",
            "Requirement already satisfied: promise<3,>=2.0 in /usr/local/lib/python3.7/dist-packages (from wandb) (2.3)\n",
            "Requirement already satisfied: requests<3,>=2.0.0 in /usr/local/lib/python3.7/dist-packages (from wandb) (2.23.0)\n",
            "Requirement already satisfied: PyYAML in /usr/local/lib/python3.7/dist-packages (from wandb) (3.13)\n",
            "Requirement already satisfied: psutil>=5.0.0 in /usr/local/lib/python3.7/dist-packages (from wandb) (5.4.8)\n",
            "Collecting sentry-sdk>=1.0.0\n",
            "  Downloading sentry_sdk-1.5.8-py2.py3-none-any.whl (144 kB)\n",
            "\u001b[K     |████████████████████████████████| 144 kB 53.1 MB/s \n",
            "\u001b[?25hCollecting setproctitle\n",
            "  Downloading setproctitle-1.2.2-cp37-cp37m-manylinux1_x86_64.whl (36 kB)\n",
            "Requirement already satisfied: protobuf>=3.12.0 in /usr/local/lib/python3.7/dist-packages (from wandb) (3.17.3)\n",
            "Requirement already satisfied: six>=1.13.0 in /usr/local/lib/python3.7/dist-packages (from wandb) (1.15.0)\n",
            "Requirement already satisfied: python-dateutil>=2.6.1 in /usr/local/lib/python3.7/dist-packages (from wandb) (2.8.2)\n",
            "Collecting shortuuid>=0.5.0\n",
            "  Downloading shortuuid-1.0.8-py3-none-any.whl (9.5 kB)\n",
            "Collecting pathtools\n",
            "  Downloading pathtools-0.1.2.tar.gz (11 kB)\n",
            "Collecting docker-pycreds>=0.4.0\n",
            "  Downloading docker_pycreds-0.4.0-py2.py3-none-any.whl (9.0 kB)\n",
            "Collecting yaspin>=1.0.0\n",
            "  Downloading yaspin-2.1.0-py3-none-any.whl (18 kB)\n",
            "Collecting gitdb<5,>=4.0.1\n",
            "  Downloading gitdb-4.0.9-py3-none-any.whl (63 kB)\n",
            "\u001b[K     |████████████████████████████████| 63 kB 2.2 MB/s \n",
            "\u001b[?25hRequirement already satisfied: typing-extensions>=3.7.4.3 in /usr/local/lib/python3.7/dist-packages (from GitPython>=1.0.0->wandb) (3.10.0.2)\n",
            "Collecting smmap<6,>=3.0.1\n",
            "  Downloading smmap-5.0.0-py3-none-any.whl (24 kB)\n",
            "Requirement already satisfied: chardet<4,>=3.0.2 in /usr/local/lib/python3.7/dist-packages (from requests<3,>=2.0.0->wandb) (3.0.4)\n",
            "Requirement already satisfied: certifi>=2017.4.17 in /usr/local/lib/python3.7/dist-packages (from requests<3,>=2.0.0->wandb) (2021.10.8)\n",
            "Requirement already satisfied: idna<3,>=2.5 in /usr/local/lib/python3.7/dist-packages (from requests<3,>=2.0.0->wandb) (2.10)\n",
            "Requirement already satisfied: urllib3!=1.25.0,!=1.25.1,<1.26,>=1.21.1 in /usr/local/lib/python3.7/dist-packages (from requests<3,>=2.0.0->wandb) (1.24.3)\n",
            "Requirement already satisfied: termcolor<2.0.0,>=1.1.0 in /usr/local/lib/python3.7/dist-packages (from yaspin>=1.0.0->wandb) (1.1.0)\n",
            "Building wheels for collected packages: pathtools\n",
            "  Building wheel for pathtools (setup.py) ... \u001b[?25l\u001b[?25hdone\n",
            "  Created wheel for pathtools: filename=pathtools-0.1.2-py3-none-any.whl size=8806 sha256=3337523e30528685f11acf8afb19102368daf5dc2b203a4f12de2fbd9bd9af39\n",
            "  Stored in directory: /root/.cache/pip/wheels/3e/31/09/fa59cef12cdcfecc627b3d24273699f390e71828921b2cbba2\n",
            "Successfully built pathtools\n",
            "Installing collected packages: smmap, gitdb, yaspin, shortuuid, setproctitle, sentry-sdk, pathtools, GitPython, docker-pycreds, wandb\n",
            "Successfully installed GitPython-3.1.27 docker-pycreds-0.4.0 gitdb-4.0.9 pathtools-0.1.2 sentry-sdk-1.5.8 setproctitle-1.2.2 shortuuid-1.0.8 smmap-5.0.0 wandb-0.12.11 yaspin-2.1.0\n"
          ]
        }
      ]
    },
    {
      "cell_type": "code",
      "source": [
        "import tensorflow as tf\n",
        "import numpy as np\n",
        "import wandb\n",
        "\n",
        "from tensorflow.keras.applications.resnet50 import ResNet50\n",
        "from keras.applications.inception_resnet_v2 import InceptionResNetV2\n",
        "from tensorflow.keras.applications.inception_v3 import InceptionV3\n",
        "from tensorflow.keras.applications.xception import Xception\n",
        "from tensorflow.keras.applications.resnet50 import preprocess_input, decode_predictions\n",
        "\n",
        "from tensorflow.keras.preprocessing import image\n",
        "\n",
        "from tensorflow.keras.layers import Dense,Dropout,Input,Flatten,MaxPooling2D,BatchNormalization\n",
        "\n",
        "from wandb.keras import WandbCallback"
      ],
      "metadata": {
        "id": "UmFD0uQGl82C"
      },
      "execution_count": null,
      "outputs": []
    },
    {
      "cell_type": "code",
      "source": [
        ""
      ],
      "metadata": {
        "id": "x1tIubWnmFoE"
      },
      "execution_count": null,
      "outputs": []
    },
    {
      "cell_type": "code",
      "source": [
        ""
      ],
      "metadata": {
        "id": "Zz2xpbIhzBq4"
      },
      "execution_count": null,
      "outputs": []
    },
    {
      "cell_type": "code",
      "source": [
        "\n",
        "# GPU test\n",
        "\n",
        "%tensorflow_version 2.x\n",
        "import tensorflow as tf\n",
        "import timeit\n",
        "\n",
        "# We run this to warm up; see: https://stackoverflow.com/a/45067900\n",
        "device_name = tf.test.gpu_device_name()\n",
        "if device_name != '/device:GPU:0':\n",
        "  print(\n",
        "      '\\n\\nThis error states that this notebook is not '\n",
        "      'configured to use a GPU. Change this in the notebook Settings via the Runtime type or  '\n",
        "      'command palette (cmd/ctrl-shift-P) or the Edit menu .\\n\\n')\n",
        "  raise SystemError('GPU device not found')\n",
        "\n",
        "def cpu():\n",
        "  with tf.device('/cpu:0'):\n",
        "    random_image_cpu = tf.random.normal((100, 100, 100, 3))\n",
        "    net_cpu = tf.keras.layers.Conv2D(32, 7)(random_image_cpu)\n",
        "    return tf.math.reduce_sum(net_cpu)\n",
        "\n",
        "def gpu():\n",
        "  with tf.device('/device:GPU:0'):\n",
        "    random_image_gpu = tf.random.normal((100, 100, 100, 3))\n",
        "    net_gpu = tf.keras.layers.Conv2D(32, 7)(random_image_gpu)\n",
        "    return tf.math.reduce_sum(net_gpu)\n",
        "\n",
        "cpu()\n",
        "gpu()\n",
        "\n",
        "# Run the op several times.\n",
        "print('Time (s) to convolve 32x7x7x3 filter over random 100x100x100x3 images '\n",
        "      '(batch x height x width x channel). Sum of ten runs.')\n",
        "print('CPU (s):')\n",
        "cpu_time = timeit.timeit('cpu()', number=10, setup=\"from __main__ import cpu\")\n",
        "print(cpu_time)\n",
        "print('GPU (s):')\n",
        "gpu_time = timeit.timeit('gpu()', number=10, setup=\"from __main__ import gpu\")\n",
        "print(gpu_time)\n",
        "print('GPU speedup over CPU: {}x'.format(int(cpu_time/gpu_time)))"
      ],
      "metadata": {
        "colab": {
          "base_uri": "https://localhost:8080/"
        },
        "id": "kfMlYTBEaNJY",
        "outputId": "84a8b95b-7eda-4f2f-f97f-1a01c7c2f279"
      },
      "execution_count": null,
      "outputs": [
        {
          "output_type": "stream",
          "name": "stdout",
          "text": [
            "Time (s) to convolve 32x7x7x3 filter over random 100x100x100x3 images (batch x height x width x channel). Sum of ten runs.\n",
            "CPU (s):\n",
            "2.905026865000025\n",
            "GPU (s):\n",
            "0.038871170999982496\n",
            "GPU speedup over CPU: 74x\n"
          ]
        }
      ]
    },
    {
      "cell_type": "code",
      "source": [
        ""
      ],
      "metadata": {
        "id": "P-JOPTZNal_i"
      },
      "execution_count": null,
      "outputs": []
    },
    {
      "cell_type": "code",
      "source": [
        "# train and test directory locations\n",
        "\n",
        "train_dir = \"/content/drive/MyDrive/inaturalist_12K/train\"\n",
        "val_dir = \"/content/drive/MyDrive/inaturalist_12K/val\"\n",
        "\n",
        "isSweep = False "
      ],
      "metadata": {
        "id": "_DWCO-6KarmZ"
      },
      "execution_count": null,
      "outputs": []
    },
    {
      "cell_type": "code",
      "source": [
        "wandb.login()"
      ],
      "metadata": {
        "colab": {
          "base_uri": "https://localhost:8080/",
          "height": 109
        },
        "id": "D8QJQ_evwDWt",
        "outputId": "9bf42566-c7a6-46a5-fd14-4e39d6e7b22e"
      },
      "execution_count": null,
      "outputs": [
        {
          "output_type": "display_data",
          "data": {
            "text/plain": [
              "<IPython.core.display.Javascript object>"
            ],
            "application/javascript": [
              "\n",
              "        window._wandbApiKey = new Promise((resolve, reject) => {\n",
              "            function loadScript(url) {\n",
              "            return new Promise(function(resolve, reject) {\n",
              "                let newScript = document.createElement(\"script\");\n",
              "                newScript.onerror = reject;\n",
              "                newScript.onload = resolve;\n",
              "                document.body.appendChild(newScript);\n",
              "                newScript.src = url;\n",
              "            });\n",
              "            }\n",
              "            loadScript(\"https://cdn.jsdelivr.net/npm/postmate/build/postmate.min.js\").then(() => {\n",
              "            const iframe = document.createElement('iframe')\n",
              "            iframe.style.cssText = \"width:0;height:0;border:none\"\n",
              "            document.body.appendChild(iframe)\n",
              "            const handshake = new Postmate({\n",
              "                container: iframe,\n",
              "                url: 'https://wandb.ai/authorize'\n",
              "            });\n",
              "            const timeout = setTimeout(() => reject(\"Couldn't auto authenticate\"), 5000)\n",
              "            handshake.then(function(child) {\n",
              "                child.on('authorize', data => {\n",
              "                    clearTimeout(timeout)\n",
              "                    resolve(data)\n",
              "                });\n",
              "            });\n",
              "            })\n",
              "        });\n",
              "    "
            ]
          },
          "metadata": {}
        },
        {
          "output_type": "stream",
          "name": "stderr",
          "text": [
            "\u001b[34m\u001b[1mwandb\u001b[0m: You can find your API key in your browser here: https://wandb.ai/authorize\n"
          ]
        },
        {
          "name": "stdout",
          "output_type": "stream",
          "text": [
            "wandb: Paste an API key from your profile and hit enter, or press ctrl+c to quit: ··········\n"
          ]
        },
        {
          "output_type": "stream",
          "name": "stderr",
          "text": [
            "\u001b[34m\u001b[1mwandb\u001b[0m: Appending key for api.wandb.ai to your netrc file: /root/.netrc\n"
          ]
        },
        {
          "output_type": "execute_result",
          "data": {
            "text/plain": [
              "True"
            ]
          },
          "metadata": {},
          "execution_count": 6
        }
      ]
    },
    {
      "cell_type": "code",
      "source": [
        "isSweep = True \n",
        "\n",
        "sweepMethod ='bayes' #['grid','bayes','random']\n",
        "\n",
        "if isSweep:\n",
        "\n",
        "  sweepConfig = {'name': sweepMethod + '-PartB-fine-tuning-sweep',\n",
        "                'method': sweepMethod,\n",
        "                'metric' : {'name': 'val_acc', \n",
        "                            'goal': 'maximize'}\n",
        "                }\n",
        "\n",
        "  parameters = {\n",
        "      \n",
        "      'modelName'  : {'values': ['ResNet50','InceptionV3','Xception','InceptionResNetV2']},\n",
        "      'denseSize'  : {'values': [64,128]},\n",
        "      'num_epochs' : {'values': [4,8]},\n",
        "      'dropOut'    : {'values': [0.2,0.4]},\n",
        "      'batchNorm'  : {'values': [0,1]},\n",
        "      'isDataAug'  : {'values': [0,1]},\n",
        "      'optimizer'  : {'values': ['adam']},\n",
        "  }\n",
        "\n",
        "  sweepConfig['parameters'] = parameters\n",
        "  sweepID = wandb.sweep(sweepConfig, project=\"cs6910_assignment2\", entity=\"cs6910_assignment\")\n"
      ],
      "metadata": {
        "id": "0Hn_O5Divu3x",
        "colab": {
          "base_uri": "https://localhost:8080/"
        },
        "outputId": "789f99ba-828b-4e71-8a39-32fb7b12b1a3"
      },
      "execution_count": null,
      "outputs": [
        {
          "output_type": "stream",
          "name": "stdout",
          "text": [
            "Create sweep with ID: 9sx5rb3i\n",
            "Sweep URL: https://wandb.ai/cs6910_assignment/cs6910_assignment2/sweeps/9sx5rb3i\n"
          ]
        }
      ]
    },
    {
      "cell_type": "code",
      "source": [
        "def createDataset(imgHeight,imgWidth,isDataAug):\n",
        "\n",
        "  imgSize = (imgHeight, imgWidth) \n",
        "  batchSize = 32\n",
        "  if isDataAug:\n",
        "    train_datagen = tf.keras.preprocessing.image.ImageDataGenerator(\n",
        "                    rescale=1./255,\n",
        "                    validation_split = 0.2,\n",
        "                    shear_range=0.2,\n",
        "                    zoom_range=0.2,\n",
        "                    featurewise_center=False,  # set input mean to 0 over the dataset\n",
        "                    samplewise_center=False,  # set each sample mean to 0\n",
        "                    featurewise_std_normalization=False,  # divide inputs by std of the dataset\n",
        "                    samplewise_std_normalization=False,  # divide each input by its std\n",
        "                    zca_whitening=False,  # apply ZCA whitening\n",
        "                    rotation_range=15,  # randomly rotate images in the range (degrees, 0 to 180)\n",
        "                    width_shift_range=0.1,  # randomly shift images horizontally (fraction of total width)\n",
        "                    height_shift_range=0.1,  # randomly shift images vertically (fraction of total height)\n",
        "                    horizontal_flip=True,  # randomly flip images\n",
        "                    vertical_flip=False\n",
        "                    )\n",
        "\n",
        "    train_data = train_datagen.flow_from_directory(\n",
        "            train_dir,\n",
        "            subset='training',\n",
        "            target_size=imgSize,\n",
        "            batch_size=batchSize,\n",
        "            class_mode='categorical',\n",
        "            shuffle = True,\n",
        "            seed = 123)\n",
        "\n",
        "    val_data  = train_datagen.flow_from_directory(\n",
        "            train_dir,\n",
        "            subset='validation',\n",
        "            target_size=imgSize,\n",
        "            batch_size=batchSize,\n",
        "            class_mode='categorical',\n",
        "            shuffle = True,\n",
        "            seed = 123)\n",
        "    \n",
        "  else:\n",
        "    train_data = tf.keras.utils.image_dataset_from_directory(\n",
        "                          directory = train_dir,\n",
        "                          labels = 'inferred',  \n",
        "                          label_mode = 'categorical',\n",
        "                          color_mode = 'rgb',\n",
        "                          batch_size = batchSize,\n",
        "                          image_size = imgSize,\n",
        "                          shuffle = True,\n",
        "                          seed = 5,\n",
        "                          validation_split = 0.2,\n",
        "                          subset = 'training')\n",
        "\n",
        "    val_data = tf.keras.utils.image_dataset_from_directory(\n",
        "                          directory = train_dir,\n",
        "                          labels = 'inferred',  \n",
        "                          label_mode = 'categorical',\n",
        "                          color_mode = 'rgb',\n",
        "                          batch_size = batchSize,\n",
        "                          image_size = imgSize,\n",
        "                          shuffle = True,\n",
        "                          seed = 5,\n",
        "                          validation_split = 0.2,\n",
        "                          subset = 'validation')\n",
        "\n",
        "\n",
        "    # Retaining 25 percent of train and validation data and discarding the rest\n",
        "    len_train, len_val = len(train_data), len(val_data)\n",
        "    train_data = train_data.take(int(0.25*len_train))\n",
        "    val_data = val_data.take(int(0.25*len_val))\n",
        "\n",
        "  return train_data , val_data"
      ],
      "metadata": {
        "id": "-Mb5hOYEaEsl"
      },
      "execution_count": null,
      "outputs": []
    },
    {
      "cell_type": "code",
      "source": [
        "def train(config=False):\n",
        "  # with wandb.init(config=config):\n",
        "  with tf.device('/device:GPU:0'):\n",
        "\n",
        "    #Dynamic values for sweeping\n",
        "    #Hardcoded for testing \n",
        "    denseSize = 64\n",
        "    optimizer = 'adam'\n",
        "    num_epochs = 50\n",
        "    isDataAug = 1\n",
        "    batchNorm=1 \n",
        "    dropOut =0.4\n",
        "    modelName = 'Xception'\n",
        "\n",
        "    if isSweep:\n",
        "      config = sweepConfig\n",
        "      if config:\n",
        "        print(\"Running the Model with the dynamic parameters \")\n",
        "        print(config)\n",
        "        wandb.init(config=config)\n",
        "        config = wandb.init().config\n",
        "        wandb.run.name = 'model_{}_epochs_{}_denseSize_{}_dropOut_{}_batchNorm_{}_isDataAug_{}_Optimizer_{}'\\\n",
        "                          .format(config.modelName, config.num_epochs, config.denseSize, config.dropOut, config.batchNorm, config.isDataAug, config.optimizer)\n",
        "        modelName  = config.modelName\n",
        "        denseSize  = config.denseSize\n",
        "        num_epochs = config.num_epochs\n",
        "        dropOut    = config.dropOut\n",
        "        batchNorm  = config.batchNorm\n",
        "        isDataAug  = config.isDataAug\n",
        "        optimizer  = config.optimizer\n",
        "\n",
        "\n",
        "    if(modelName == \"ResNet50\"):\n",
        "      imgHeight = 224\n",
        "      imgWidth  = 224\n",
        "\n",
        "      base_model = ResNet50(\n",
        "        weights = 'imagenet', # loading the weights, pre trained on ImageNet\n",
        "        input_shape = (imgHeight,imgWidth,3),\n",
        "        include_top = False # Dense layers of the model are not included at the top\n",
        "        )\n",
        "\n",
        "    elif(modelName == \"InceptionV3\"):\n",
        "      imgHeight = 299\n",
        "      imgWidth  = 299\n",
        "\n",
        "      base_model = InceptionV3(\n",
        "        weights = 'imagenet', # loading the weights, pre trained on ImageNet\n",
        "        input_shape = (imgHeight,imgWidth,3),\n",
        "        include_top = False # Dense layers of the model are not included at the top\n",
        "        )\n",
        "\n",
        "    elif(modelName == \"Xception\"):\n",
        "      imgHeight = 299\n",
        "      imgWidth  = 299\n",
        "\n",
        "      base_model = Xception(\n",
        "        weights = 'imagenet', # loading the weights, pre trained on ImageNet\n",
        "        input_shape = (imgHeight,imgWidth,3),\n",
        "        include_top = False # Dense layers of the model are not included at the top\n",
        "        )\n",
        "\n",
        "    elif(modelName == \"InceptionResNetV2\"):\n",
        "      imgHeight = 299\n",
        "      imgWidth  = 299\n",
        "\n",
        "      base_model = InceptionResNetV2(\n",
        "        weights = 'imagenet', # loading the weights, pre trained on ImageNet\n",
        "        input_shape = (imgHeight,imgWidth,3),\n",
        "        include_top = False # Dense layers of the model are not included at the top\n",
        "        )\n",
        "\n",
        "      \n",
        "    train_data , val_data = createDataset(imgHeight,imgWidth,isDataAug) \n",
        "\n",
        "    for layers in base_model.layers:\n",
        "      layers.trainable = False\n",
        "\n",
        "    model = tf.keras.Sequential([\n",
        "      tf.keras.Input(shape=(imgHeight,imgWidth,3,)),\n",
        "      base_model,\n",
        "      Flatten(),\n",
        "      Dense(denseSize,activation='relu'),\n",
        "      ])\n",
        "      \n",
        "    if batchNorm == 1:\n",
        "      model.add(BatchNormalization())\n",
        "\n",
        "    model.add(Dropout(dropOut))\n",
        "    model.add(Dense(denseSize, activation='relu'))\n",
        "    model.add(Dropout(dropOut))\n",
        "    model.add(Dense(10 ,activation='softmax'))\n",
        "\n",
        "    model.compile(\n",
        "        optimizer = optimizer,  \n",
        "        # Loss function to minimize\n",
        "        loss=tf.keras.losses.CategoricalCrossentropy(from_logits=True),#'categorical_crossentropy',\n",
        "        # List of metrics to monitor\n",
        "        metrics=['accuracy'],\n",
        "        )\n",
        "\n",
        "    hist = model.fit(\n",
        "        train_data,\n",
        "        epochs=num_epochs,\n",
        "        validation_data=val_data,\n",
        "        callbacks = [wandb.keras.WandbCallback()]\n",
        "        )\n",
        "  \n",
        "    "
      ],
      "metadata": {
        "id": "FHERoWK0cf7u"
      },
      "execution_count": null,
      "outputs": []
    },
    {
      "cell_type": "code",
      "source": [
        "# isSweep=False\n",
        "if isSweep:\n",
        "  wandb.agent(sweepID, function=train)\n",
        "else:\n",
        "  train()"
      ],
      "metadata": {
        "colab": {
          "base_uri": "https://localhost:8080/",
          "height": 1000,
          "referenced_widgets": [
            "5bc903189ccc4e4a826f363c0ae63b80",
            "198ccc0d475c4a1caa15dcd9035d73cf",
            "f797d527f299422cb719db7ad4f2cfb6",
            "cc21a585bf294971b4954fd45a28222f",
            "fdda100fba7544ffbee1862c50628d56",
            "3ad443682fac41769dd9f6933fdde449",
            "328a3788882946ae8558273865c067c8",
            "35f6e5f0f6f94bc682cc4e4c85a4c667",
            "946aec84c5414b5d9e3b3b3172aade0b",
            "526a47aaee8d48b4b6c706b6f9f9658b",
            "7e72237563ab4beea2288b2c142154a6",
            "75ee17223ba247f09ef511363120dbf8",
            "f1fc4d6e1dba4a55ae494f449fcccc83",
            "c3d59d4e9e104b5c92a1aa62e98a4111",
            "86a425bbe96a467e87dc118c542c3fe7",
            "850838775762470d94a5d03057d8361d",
            "d8752aa6d72d4509af195be747e40983",
            "fc90b2e879f041f6a5f2b2a52a3b4ef1",
            "15fb91ee10be4a3b931635f5c3362433",
            "c878ae48926e4f41a591e6d584ae4f6e",
            "7e729c4daedd4361a3c0191e80ada370",
            "12ac2d0bda1b4ab0a1a5de53c8c98b2d",
            "013825c11da34b91b17e7241ce4bbf06",
            "5388718693294179ac965b5fbc9ccc5f",
            "54a68deab117462eb287c7a350ec0a73",
            "571b43a0749548d783bc34e30ed9f29f",
            "2b153e9609de4f7bb0e412b7f4488841",
            "d131527c01db410c8095fdc6bb5560e9",
            "5970feeb1b7c4e15afc85151abadedbf",
            "88a29d8671ca4379b19338347a07b88d",
            "52a1856c4b3141c389677bd74bc15a60",
            "b4c7b5244b0647ca86bfaf531c6b7e3a",
            "4e56eb09aaec4d31a0752b9edcc50aa3",
            "a4d8c2ba5ec04383adee1660726f0326",
            "c807f260609a4edcb4b1e8dd644f0ff1",
            "b6c65120b80249df849609738fde6ebd",
            "bdec56a1a45247f385b66a7d0f9ac471",
            "919f5bad844d4db6ac73dcfc2487c3d6",
            "f8f81cb030234d888122b1288be389cd",
            "56e7633a16174e039fa1c44d786ac47c",
            "41fc1abfc8a543578bf037f6fd4ed090",
            "ddd3f2203cfd443ba866aff9d6a25f8a",
            "73f2f8304d4a4a96b05e8872ef2e8dc6",
            "163cd2fc5b5342a8b04d24b92d422d84",
            "72de40a3002448638cf0e65cfe4ebe8d",
            "fa3d0845704d47b8bccaecd87d4c34b8",
            "4c2a82f5e3fb42c39110813fb2384fb1",
            "046d4c646b9141f6af073523f605c704",
            "0161ed02ac554673a807b4715a4ac091",
            "4c998f33fc5940abaf420616dbfe7519",
            "d22a37e631b6465aa5373d35d6a79966",
            "cbd18cd112084690beab04612012b295",
            "3b166ba4554c40bc8a9543b3d2a12e68",
            "c2aafd537af549e6ab81ea40ad576d31",
            "f80acc9ca3fc4db7ad18b3128125a889",
            "cca5bcef5d7e4f18968872324de6fd10"
          ]
        },
        "id": "WS-LvtMXnj57",
        "outputId": "1fbafd74-4931-47ec-d250-f6eef82dd9ce"
      },
      "execution_count": null,
      "outputs": [
        {
          "output_type": "stream",
          "name": "stderr",
          "text": [
            "\u001b[34m\u001b[1mwandb\u001b[0m: Agent Starting Run: 8609vy9d with config:\n",
            "\u001b[34m\u001b[1mwandb\u001b[0m: \tbatchNorm: 1\n",
            "\u001b[34m\u001b[1mwandb\u001b[0m: \tdenseSize: 64\n",
            "\u001b[34m\u001b[1mwandb\u001b[0m: \tdropOut: 0.4\n",
            "\u001b[34m\u001b[1mwandb\u001b[0m: \tisDataAug: 0\n",
            "\u001b[34m\u001b[1mwandb\u001b[0m: \tmodelName: Xception\n",
            "\u001b[34m\u001b[1mwandb\u001b[0m: \tnum_epochs: 4\n",
            "\u001b[34m\u001b[1mwandb\u001b[0m: \toptimizer: adam\n"
          ]
        },
        {
          "output_type": "stream",
          "name": "stdout",
          "text": [
            "Running the Model with the dynamic parameters \n",
            "{'name': 'bayes-PartB-fine-tuning-sweep', 'method': 'bayes', 'metric': {'name': 'val_acc', 'goal': 'maximize'}, 'parameters': {'modelName': {'values': ['ResNet50', 'InceptionV3', 'Xception', 'InceptionResNetV2']}, 'denseSize': {'values': [64, 128]}, 'num_epochs': {'values': [4, 8]}, 'dropOut': {'values': [0.2, 0.4]}, 'batchNorm': {'values': [0, 1]}, 'isDataAug': {'values': [0, 1]}, 'optimizer': {'values': ['adam']}}}\n"
          ]
        },
        {
          "output_type": "display_data",
          "data": {
            "text/plain": [
              "<IPython.core.display.HTML object>"
            ],
            "text/html": [
              "Tracking run with wandb version 0.12.11"
            ]
          },
          "metadata": {}
        },
        {
          "output_type": "display_data",
          "data": {
            "text/plain": [
              "<IPython.core.display.HTML object>"
            ],
            "text/html": [
              "Run data is saved locally in <code>/content/wandb/run-20220403_113114-8609vy9d</code>"
            ]
          },
          "metadata": {}
        },
        {
          "output_type": "display_data",
          "data": {
            "text/plain": [
              "<IPython.core.display.HTML object>"
            ],
            "text/html": [
              "Syncing run <strong><a href=\"https://wandb.ai/cs6910_assignment/cs6910_assignment2/runs/8609vy9d\" target=\"_blank\">likely-sweep-1</a></strong> to <a href=\"https://wandb.ai/cs6910_assignment/cs6910_assignment2\" target=\"_blank\">Weights & Biases</a> (<a href=\"https://wandb.me/run\" target=\"_blank\">docs</a>)<br/>Sweep page:  <a href=\"https://wandb.ai/cs6910_assignment/cs6910_assignment2/sweeps/9sx5rb3i\" target=\"_blank\">https://wandb.ai/cs6910_assignment/cs6910_assignment2/sweeps/9sx5rb3i</a>"
            ]
          },
          "metadata": {}
        },
        {
          "output_type": "display_data",
          "data": {
            "text/plain": [
              "<IPython.core.display.HTML object>"
            ],
            "text/html": [
              "Finishing last run (ID:8609vy9d) before initializing another..."
            ]
          },
          "metadata": {}
        },
        {
          "output_type": "stream",
          "name": "stdout",
          "text": [
            "\n"
          ]
        },
        {
          "output_type": "display_data",
          "data": {
            "text/plain": [
              "<IPython.core.display.HTML object>"
            ],
            "text/html": [
              "Waiting for W&B process to finish... <strong style=\"color:green\">(success).</strong>"
            ]
          },
          "metadata": {}
        },
        {
          "output_type": "display_data",
          "data": {
            "text/plain": [
              "VBox(children=(Label(value='0.000 MB of 0.001 MB uploaded (0.000 MB deduped)\\r'), FloatProgress(value=0.0, max…"
            ],
            "application/vnd.jupyter.widget-view+json": {
              "version_major": 2,
              "version_minor": 0,
              "model_id": "5bc903189ccc4e4a826f363c0ae63b80"
            }
          },
          "metadata": {}
        },
        {
          "output_type": "display_data",
          "data": {
            "text/plain": [
              "<IPython.core.display.HTML object>"
            ],
            "text/html": [
              "Synced <strong style=\"color:#cdcd00\">likely-sweep-1</strong>: <a href=\"https://wandb.ai/cs6910_assignment/cs6910_assignment2/runs/8609vy9d\" target=\"_blank\">https://wandb.ai/cs6910_assignment/cs6910_assignment2/runs/8609vy9d</a><br/>Synced 4 W&B file(s), 0 media file(s), 0 artifact file(s) and 0 other file(s)"
            ]
          },
          "metadata": {}
        },
        {
          "output_type": "display_data",
          "data": {
            "text/plain": [
              "<IPython.core.display.HTML object>"
            ],
            "text/html": [
              "Find logs at: <code>./wandb/run-20220403_113114-8609vy9d/logs</code>"
            ]
          },
          "metadata": {}
        },
        {
          "output_type": "display_data",
          "data": {
            "text/plain": [
              "<IPython.core.display.HTML object>"
            ],
            "text/html": [
              "Successfully finished last run (ID:8609vy9d). Initializing new run:<br/>"
            ]
          },
          "metadata": {}
        },
        {
          "output_type": "display_data",
          "data": {
            "text/plain": [
              "<IPython.core.display.HTML object>"
            ],
            "text/html": [
              "Tracking run with wandb version 0.12.11"
            ]
          },
          "metadata": {}
        },
        {
          "output_type": "display_data",
          "data": {
            "text/plain": [
              "<IPython.core.display.HTML object>"
            ],
            "text/html": [
              "Run data is saved locally in <code>/content/wandb/run-20220403_113121-8609vy9d</code>"
            ]
          },
          "metadata": {}
        },
        {
          "output_type": "display_data",
          "data": {
            "text/plain": [
              "<IPython.core.display.HTML object>"
            ],
            "text/html": [
              "Syncing run <strong><a href=\"https://wandb.ai/cs6910_assignment/cs6910_assignment2/runs/8609vy9d\" target=\"_blank\">likely-sweep-1</a></strong> to <a href=\"https://wandb.ai/cs6910_assignment/cs6910_assignment2\" target=\"_blank\">Weights & Biases</a> (<a href=\"https://wandb.me/run\" target=\"_blank\">docs</a>)<br/>Sweep page:  <a href=\"https://wandb.ai/cs6910_assignment/cs6910_assignment2/sweeps/9sx5rb3i\" target=\"_blank\">https://wandb.ai/cs6910_assignment/cs6910_assignment2/sweeps/9sx5rb3i</a>"
            ]
          },
          "metadata": {}
        },
        {
          "output_type": "stream",
          "name": "stdout",
          "text": [
            "Found 9999 files belonging to 10 classes.\n",
            "Using 8000 files for training.\n",
            "Found 9999 files belonging to 10 classes.\n",
            "Using 1999 files for validation.\n",
            "Epoch 1/4\n"
          ]
        },
        {
          "output_type": "stream",
          "name": "stderr",
          "text": [
            "/usr/local/lib/python3.7/dist-packages/tensorflow/python/util/dispatch.py:1082: UserWarning: \"`categorical_crossentropy` received `from_logits=True`, but the `output` argument was produced by a sigmoid or softmax activation and thus does not represent logits. Was this intended?\"\n",
            "  return dispatch_target(*args, **kwargs)\n"
          ]
        },
        {
          "output_type": "stream",
          "name": "stdout",
          "text": [
            "62/62 [==============================] - 28s 372ms/step - loss: 2.6777 - accuracy: 0.1250 - val_loss: 2.3686 - val_accuracy: 0.1667 - _timestamp: 1648985518.0000 - _runtime: 33.0000\n",
            "Epoch 2/4\n",
            "62/62 [==============================] - 24s 358ms/step - loss: 2.3786 - accuracy: 0.1512 - val_loss: 2.2480 - val_accuracy: 0.1813 - _timestamp: 1648985543.0000 - _runtime: 58.0000\n",
            "Epoch 3/4\n",
            "62/62 [==============================] - 25s 376ms/step - loss: 2.3168 - accuracy: 0.1744 - val_loss: 2.1817 - val_accuracy: 0.2354 - _timestamp: 1648985568.0000 - _runtime: 83.0000\n",
            "Epoch 4/4\n",
            "62/62 [==============================] - 23s 350ms/step - loss: 2.2554 - accuracy: 0.1900 - val_loss: 2.1922 - val_accuracy: 0.1979 - _timestamp: 1648985608.0000 - _runtime: 123.0000\n",
            "\n"
          ]
        },
        {
          "output_type": "display_data",
          "data": {
            "text/plain": [
              "<IPython.core.display.HTML object>"
            ],
            "text/html": [
              "Waiting for W&B process to finish... <strong style=\"color:green\">(success).</strong>"
            ]
          },
          "metadata": {}
        },
        {
          "output_type": "display_data",
          "data": {
            "text/plain": [
              "VBox(children=(Label(value='229.924 MB of 229.924 MB uploaded (0.000 MB deduped)\\r'), FloatProgress(value=1.0,…"
            ],
            "application/vnd.jupyter.widget-view+json": {
              "version_major": 2,
              "version_minor": 0,
              "model_id": "946aec84c5414b5d9e3b3b3172aade0b"
            }
          },
          "metadata": {}
        },
        {
          "output_type": "display_data",
          "data": {
            "text/plain": [
              "<IPython.core.display.HTML object>"
            ],
            "text/html": [
              "<style>\n",
              "    table.wandb td:nth-child(1) { padding: 0 10px; text-align: right }\n",
              "    .wandb-row { display: flex; flex-direction: row; flex-wrap: wrap; width: 100% }\n",
              "    .wandb-col { display: flex; flex-direction: column; flex-basis: 100%; flex: 1; padding: 10px; }\n",
              "    </style>\n",
              "<div class=\"wandb-row\"><div class=\"wandb-col\"><h3>Run history:</h3><br/><table class=\"wandb\"><tr><td>accuracy</td><td>▁▄▆█</td></tr><tr><td>epoch</td><td>▁▃▆█</td></tr><tr><td>loss</td><td>█▃▂▁</td></tr><tr><td>val_accuracy</td><td>▁▂█▄</td></tr><tr><td>val_loss</td><td>█▃▁▁</td></tr></table><br/></div><div class=\"wandb-col\"><h3>Run summary:</h3><br/><table class=\"wandb\"><tr><td>accuracy</td><td>0.19002</td></tr><tr><td>best_epoch</td><td>2</td></tr><tr><td>best_val_loss</td><td>2.18172</td></tr><tr><td>epoch</td><td>3</td></tr><tr><td>loss</td><td>2.25538</td></tr><tr><td>val_accuracy</td><td>0.19792</td></tr><tr><td>val_loss</td><td>2.19216</td></tr></table><br/></div></div>"
            ]
          },
          "metadata": {}
        },
        {
          "output_type": "display_data",
          "data": {
            "text/plain": [
              "<IPython.core.display.HTML object>"
            ],
            "text/html": [
              "Synced <strong style=\"color:#cdcd00\">likely-sweep-1</strong>: <a href=\"https://wandb.ai/cs6910_assignment/cs6910_assignment2/runs/8609vy9d\" target=\"_blank\">https://wandb.ai/cs6910_assignment/cs6910_assignment2/runs/8609vy9d</a><br/>Synced 5 W&B file(s), 1 media file(s), 0 artifact file(s) and 1 other file(s)"
            ]
          },
          "metadata": {}
        },
        {
          "output_type": "display_data",
          "data": {
            "text/plain": [
              "<IPython.core.display.HTML object>"
            ],
            "text/html": [
              "Find logs at: <code>./wandb/run-20220403_113121-8609vy9d/logs</code>"
            ]
          },
          "metadata": {}
        },
        {
          "output_type": "stream",
          "name": "stderr",
          "text": [
            "\u001b[34m\u001b[1mwandb\u001b[0m: Agent Starting Run: n8mtjkp5 with config:\n",
            "\u001b[34m\u001b[1mwandb\u001b[0m: \tbatchNorm: 1\n",
            "\u001b[34m\u001b[1mwandb\u001b[0m: \tdenseSize: 64\n",
            "\u001b[34m\u001b[1mwandb\u001b[0m: \tdropOut: 0.4\n",
            "\u001b[34m\u001b[1mwandb\u001b[0m: \tisDataAug: 0\n",
            "\u001b[34m\u001b[1mwandb\u001b[0m: \tmodelName: InceptionResNetV2\n",
            "\u001b[34m\u001b[1mwandb\u001b[0m: \tnum_epochs: 8\n",
            "\u001b[34m\u001b[1mwandb\u001b[0m: \toptimizer: adam\n"
          ]
        },
        {
          "output_type": "stream",
          "name": "stdout",
          "text": [
            "Running the Model with the dynamic parameters \n",
            "{'name': 'bayes-PartB-fine-tuning-sweep', 'method': 'bayes', 'metric': {'name': 'val_acc', 'goal': 'maximize'}, 'parameters': {'modelName': {'values': ['ResNet50', 'InceptionV3', 'Xception', 'InceptionResNetV2']}, 'denseSize': {'values': [64, 128]}, 'num_epochs': {'values': [4, 8]}, 'dropOut': {'values': [0.2, 0.4]}, 'batchNorm': {'values': [0, 1]}, 'isDataAug': {'values': [0, 1]}, 'optimizer': {'values': ['adam']}}}\n"
          ]
        },
        {
          "output_type": "display_data",
          "data": {
            "text/plain": [
              "<IPython.core.display.HTML object>"
            ],
            "text/html": [
              "Tracking run with wandb version 0.12.11"
            ]
          },
          "metadata": {}
        },
        {
          "output_type": "display_data",
          "data": {
            "text/plain": [
              "<IPython.core.display.HTML object>"
            ],
            "text/html": [
              "Run data is saved locally in <code>/content/wandb/run-20220403_113359-n8mtjkp5</code>"
            ]
          },
          "metadata": {}
        },
        {
          "output_type": "display_data",
          "data": {
            "text/plain": [
              "<IPython.core.display.HTML object>"
            ],
            "text/html": [
              "Syncing run <strong><a href=\"https://wandb.ai/cs6910_assignment/cs6910_assignment2/runs/n8mtjkp5\" target=\"_blank\">different-sweep-2</a></strong> to <a href=\"https://wandb.ai/cs6910_assignment/cs6910_assignment2\" target=\"_blank\">Weights & Biases</a> (<a href=\"https://wandb.me/run\" target=\"_blank\">docs</a>)<br/>Sweep page:  <a href=\"https://wandb.ai/cs6910_assignment/cs6910_assignment2/sweeps/9sx5rb3i\" target=\"_blank\">https://wandb.ai/cs6910_assignment/cs6910_assignment2/sweeps/9sx5rb3i</a>"
            ]
          },
          "metadata": {}
        },
        {
          "output_type": "display_data",
          "data": {
            "text/plain": [
              "<IPython.core.display.HTML object>"
            ],
            "text/html": [
              "Finishing last run (ID:n8mtjkp5) before initializing another..."
            ]
          },
          "metadata": {}
        },
        {
          "output_type": "stream",
          "name": "stdout",
          "text": [
            "\n"
          ]
        },
        {
          "output_type": "display_data",
          "data": {
            "text/plain": [
              "<IPython.core.display.HTML object>"
            ],
            "text/html": [
              "Waiting for W&B process to finish... <strong style=\"color:green\">(success).</strong>"
            ]
          },
          "metadata": {}
        },
        {
          "output_type": "display_data",
          "data": {
            "text/plain": [
              "VBox(children=(Label(value='0.001 MB of 0.001 MB uploaded (0.000 MB deduped)\\r'), FloatProgress(value=1.0, max…"
            ],
            "application/vnd.jupyter.widget-view+json": {
              "version_major": 2,
              "version_minor": 0,
              "model_id": "d8752aa6d72d4509af195be747e40983"
            }
          },
          "metadata": {}
        },
        {
          "output_type": "display_data",
          "data": {
            "text/plain": [
              "<IPython.core.display.HTML object>"
            ],
            "text/html": [
              "Synced <strong style=\"color:#cdcd00\">different-sweep-2</strong>: <a href=\"https://wandb.ai/cs6910_assignment/cs6910_assignment2/runs/n8mtjkp5\" target=\"_blank\">https://wandb.ai/cs6910_assignment/cs6910_assignment2/runs/n8mtjkp5</a><br/>Synced 4 W&B file(s), 0 media file(s), 0 artifact file(s) and 0 other file(s)"
            ]
          },
          "metadata": {}
        },
        {
          "output_type": "display_data",
          "data": {
            "text/plain": [
              "<IPython.core.display.HTML object>"
            ],
            "text/html": [
              "Find logs at: <code>./wandb/run-20220403_113359-n8mtjkp5/logs</code>"
            ]
          },
          "metadata": {}
        },
        {
          "output_type": "display_data",
          "data": {
            "text/plain": [
              "<IPython.core.display.HTML object>"
            ],
            "text/html": [
              "Successfully finished last run (ID:n8mtjkp5). Initializing new run:<br/>"
            ]
          },
          "metadata": {}
        },
        {
          "output_type": "display_data",
          "data": {
            "text/plain": [
              "<IPython.core.display.HTML object>"
            ],
            "text/html": [
              "Tracking run with wandb version 0.12.11"
            ]
          },
          "metadata": {}
        },
        {
          "output_type": "display_data",
          "data": {
            "text/plain": [
              "<IPython.core.display.HTML object>"
            ],
            "text/html": [
              "Run data is saved locally in <code>/content/wandb/run-20220403_113402-n8mtjkp5</code>"
            ]
          },
          "metadata": {}
        },
        {
          "output_type": "display_data",
          "data": {
            "text/plain": [
              "<IPython.core.display.HTML object>"
            ],
            "text/html": [
              "Syncing run <strong><a href=\"https://wandb.ai/cs6910_assignment/cs6910_assignment2/runs/n8mtjkp5\" target=\"_blank\">different-sweep-2</a></strong> to <a href=\"https://wandb.ai/cs6910_assignment/cs6910_assignment2\" target=\"_blank\">Weights & Biases</a> (<a href=\"https://wandb.me/run\" target=\"_blank\">docs</a>)<br/>Sweep page:  <a href=\"https://wandb.ai/cs6910_assignment/cs6910_assignment2/sweeps/9sx5rb3i\" target=\"_blank\">https://wandb.ai/cs6910_assignment/cs6910_assignment2/sweeps/9sx5rb3i</a>"
            ]
          },
          "metadata": {}
        },
        {
          "output_type": "stream",
          "name": "stdout",
          "text": [
            "Downloading data from https://storage.googleapis.com/tensorflow/keras-applications/inception_resnet_v2/inception_resnet_v2_weights_tf_dim_ordering_tf_kernels_notop.h5\n",
            "219062272/219055592 [==============================] - 2s 0us/step\n",
            "219070464/219055592 [==============================] - 2s 0us/step\n",
            "Found 9999 files belonging to 10 classes.\n",
            "Using 8000 files for training.\n",
            "Found 9999 files belonging to 10 classes.\n",
            "Using 1999 files for validation.\n",
            "Epoch 1/8\n",
            "62/62 [==============================] - 45s 529ms/step - loss: 2.5545 - accuracy: 0.1134 - val_loss: 2.4716 - val_accuracy: 0.1187 - _timestamp: 1648985703.0000 - _runtime: 56.0000\n",
            "Epoch 2/8\n",
            "62/62 [==============================] - 32s 485ms/step - loss: 2.4351 - accuracy: 0.1169 - val_loss: 2.2718 - val_accuracy: 0.1562 - _timestamp: 1648985739.0000 - _runtime: 92.0000\n",
            "Epoch 3/8\n",
            "62/62 [==============================] - 30s 463ms/step - loss: 2.3749 - accuracy: 0.1210 - val_loss: 2.2788 - val_accuracy: 0.1417 - _timestamp: 1648985780.0000 - _runtime: 133.0000\n",
            "Epoch 4/8\n",
            "62/62 [==============================] - 32s 490ms/step - loss: 2.3521 - accuracy: 0.1260 - val_loss: 2.2678 - val_accuracy: 0.1708 - _timestamp: 1648985811.0000 - _runtime: 164.0000\n",
            "Epoch 5/8\n",
            "62/62 [==============================] - 32s 499ms/step - loss: 2.3070 - accuracy: 0.1255 - val_loss: 2.2543 - val_accuracy: 0.1667 - _timestamp: 1648985843.0000 - _runtime: 196.0000\n",
            "Epoch 6/8\n",
            "62/62 [==============================] - 31s 471ms/step - loss: 2.2989 - accuracy: 0.1275 - val_loss: 2.2548 - val_accuracy: 0.1771 - _timestamp: 1648985884.0000 - _runtime: 237.0000\n",
            "Epoch 7/8\n",
            "62/62 [==============================] - 31s 470ms/step - loss: 2.3181 - accuracy: 0.1396 - val_loss: 2.2649 - val_accuracy: 0.1667 - _timestamp: 1648985925.0000 - _runtime: 278.0000\n",
            "Epoch 8/8\n",
            "62/62 [==============================] - 32s 497ms/step - loss: 2.2781 - accuracy: 0.1366 - val_loss: 2.2506 - val_accuracy: 0.1625 - _timestamp: 1648985955.0000 - _runtime: 308.0000\n",
            "\n"
          ]
        },
        {
          "output_type": "display_data",
          "data": {
            "text/plain": [
              "<IPython.core.display.HTML object>"
            ],
            "text/html": [
              "Waiting for W&B process to finish... <strong style=\"color:green\">(success).</strong>"
            ]
          },
          "metadata": {}
        },
        {
          "output_type": "display_data",
          "data": {
            "text/plain": [
              "VBox(children=(Label(value='0.002 MB of 0.002 MB uploaded (0.000 MB deduped)\\r'), FloatProgress(value=1.0, max…"
            ],
            "application/vnd.jupyter.widget-view+json": {
              "version_major": 2,
              "version_minor": 0,
              "model_id": "54a68deab117462eb287c7a350ec0a73"
            }
          },
          "metadata": {}
        },
        {
          "output_type": "display_data",
          "data": {
            "text/plain": [
              "<IPython.core.display.HTML object>"
            ],
            "text/html": [
              "<style>\n",
              "    table.wandb td:nth-child(1) { padding: 0 10px; text-align: right }\n",
              "    .wandb-row { display: flex; flex-direction: row; flex-wrap: wrap; width: 100% }\n",
              "    .wandb-col { display: flex; flex-direction: column; flex-basis: 100%; flex: 1; padding: 10px; }\n",
              "    </style>\n",
              "<div class=\"wandb-row\"><div class=\"wandb-col\"><h3>Run history:</h3><br/><table class=\"wandb\"><tr><td>accuracy</td><td>▁▂▃▄▄▅█▇</td></tr><tr><td>epoch</td><td>▁▂▃▄▅▆▇█</td></tr><tr><td>loss</td><td>█▅▃▃▂▂▂▁</td></tr><tr><td>val_accuracy</td><td>▁▆▄▇▇█▇▆</td></tr><tr><td>val_loss</td><td>█▂▂▂▁▁▁▁</td></tr></table><br/></div><div class=\"wandb-col\"><h3>Run summary:</h3><br/><table class=\"wandb\"><tr><td>accuracy</td><td>0.13659</td></tr><tr><td>best_epoch</td><td>7</td></tr><tr><td>best_val_loss</td><td>2.25058</td></tr><tr><td>epoch</td><td>7</td></tr><tr><td>loss</td><td>2.27808</td></tr><tr><td>val_accuracy</td><td>0.1625</td></tr><tr><td>val_loss</td><td>2.25058</td></tr></table><br/></div></div>"
            ]
          },
          "metadata": {}
        },
        {
          "output_type": "display_data",
          "data": {
            "text/plain": [
              "<IPython.core.display.HTML object>"
            ],
            "text/html": [
              "Synced <strong style=\"color:#cdcd00\">different-sweep-2</strong>: <a href=\"https://wandb.ai/cs6910_assignment/cs6910_assignment2/runs/n8mtjkp5\" target=\"_blank\">https://wandb.ai/cs6910_assignment/cs6910_assignment2/runs/n8mtjkp5</a><br/>Synced 5 W&B file(s), 1 media file(s), 0 artifact file(s) and 1 other file(s)"
            ]
          },
          "metadata": {}
        },
        {
          "output_type": "display_data",
          "data": {
            "text/plain": [
              "<IPython.core.display.HTML object>"
            ],
            "text/html": [
              "Find logs at: <code>./wandb/run-20220403_113402-n8mtjkp5/logs</code>"
            ]
          },
          "metadata": {}
        },
        {
          "output_type": "stream",
          "name": "stderr",
          "text": [
            "\u001b[34m\u001b[1mwandb\u001b[0m: Agent Starting Run: x5jhrsye with config:\n",
            "\u001b[34m\u001b[1mwandb\u001b[0m: \tbatchNorm: 0\n",
            "\u001b[34m\u001b[1mwandb\u001b[0m: \tdenseSize: 64\n",
            "\u001b[34m\u001b[1mwandb\u001b[0m: \tdropOut: 0.2\n",
            "\u001b[34m\u001b[1mwandb\u001b[0m: \tisDataAug: 0\n",
            "\u001b[34m\u001b[1mwandb\u001b[0m: \tmodelName: ResNet50\n",
            "\u001b[34m\u001b[1mwandb\u001b[0m: \tnum_epochs: 8\n",
            "\u001b[34m\u001b[1mwandb\u001b[0m: \toptimizer: adam\n"
          ]
        },
        {
          "output_type": "stream",
          "name": "stdout",
          "text": [
            "Running the Model with the dynamic parameters \n",
            "{'name': 'bayes-PartB-fine-tuning-sweep', 'method': 'bayes', 'metric': {'name': 'val_acc', 'goal': 'maximize'}, 'parameters': {'modelName': {'values': ['ResNet50', 'InceptionV3', 'Xception', 'InceptionResNetV2']}, 'denseSize': {'values': [64, 128]}, 'num_epochs': {'values': [4, 8]}, 'dropOut': {'values': [0.2, 0.4]}, 'batchNorm': {'values': [0, 1]}, 'isDataAug': {'values': [0, 1]}, 'optimizer': {'values': ['adam']}}}\n"
          ]
        },
        {
          "output_type": "display_data",
          "data": {
            "text/plain": [
              "<IPython.core.display.HTML object>"
            ],
            "text/html": [
              "Tracking run with wandb version 0.12.11"
            ]
          },
          "metadata": {}
        },
        {
          "output_type": "display_data",
          "data": {
            "text/plain": [
              "<IPython.core.display.HTML object>"
            ],
            "text/html": [
              "Run data is saved locally in <code>/content/wandb/run-20220403_113929-x5jhrsye</code>"
            ]
          },
          "metadata": {}
        },
        {
          "output_type": "display_data",
          "data": {
            "text/plain": [
              "<IPython.core.display.HTML object>"
            ],
            "text/html": [
              "Syncing run <strong><a href=\"https://wandb.ai/cs6910_assignment/cs6910_assignment2/runs/x5jhrsye\" target=\"_blank\">jolly-sweep-3</a></strong> to <a href=\"https://wandb.ai/cs6910_assignment/cs6910_assignment2\" target=\"_blank\">Weights & Biases</a> (<a href=\"https://wandb.me/run\" target=\"_blank\">docs</a>)<br/>Sweep page:  <a href=\"https://wandb.ai/cs6910_assignment/cs6910_assignment2/sweeps/9sx5rb3i\" target=\"_blank\">https://wandb.ai/cs6910_assignment/cs6910_assignment2/sweeps/9sx5rb3i</a>"
            ]
          },
          "metadata": {}
        },
        {
          "output_type": "display_data",
          "data": {
            "text/plain": [
              "<IPython.core.display.HTML object>"
            ],
            "text/html": [
              "Finishing last run (ID:x5jhrsye) before initializing another..."
            ]
          },
          "metadata": {}
        },
        {
          "output_type": "stream",
          "name": "stdout",
          "text": [
            "\n"
          ]
        },
        {
          "output_type": "display_data",
          "data": {
            "text/plain": [
              "<IPython.core.display.HTML object>"
            ],
            "text/html": [
              "Waiting for W&B process to finish... <strong style=\"color:green\">(success).</strong>"
            ]
          },
          "metadata": {}
        },
        {
          "output_type": "display_data",
          "data": {
            "text/plain": [
              "VBox(children=(Label(value='0.001 MB of 0.001 MB uploaded (0.000 MB deduped)\\r'), FloatProgress(value=1.0, max…"
            ],
            "application/vnd.jupyter.widget-view+json": {
              "version_major": 2,
              "version_minor": 0,
              "model_id": "4e56eb09aaec4d31a0752b9edcc50aa3"
            }
          },
          "metadata": {}
        },
        {
          "output_type": "display_data",
          "data": {
            "text/plain": [
              "<IPython.core.display.HTML object>"
            ],
            "text/html": [
              "Synced <strong style=\"color:#cdcd00\">jolly-sweep-3</strong>: <a href=\"https://wandb.ai/cs6910_assignment/cs6910_assignment2/runs/x5jhrsye\" target=\"_blank\">https://wandb.ai/cs6910_assignment/cs6910_assignment2/runs/x5jhrsye</a><br/>Synced 4 W&B file(s), 0 media file(s), 0 artifact file(s) and 0 other file(s)"
            ]
          },
          "metadata": {}
        },
        {
          "output_type": "display_data",
          "data": {
            "text/plain": [
              "<IPython.core.display.HTML object>"
            ],
            "text/html": [
              "Find logs at: <code>./wandb/run-20220403_113929-x5jhrsye/logs</code>"
            ]
          },
          "metadata": {}
        },
        {
          "output_type": "display_data",
          "data": {
            "text/plain": [
              "<IPython.core.display.HTML object>"
            ],
            "text/html": [
              "Successfully finished last run (ID:x5jhrsye). Initializing new run:<br/>"
            ]
          },
          "metadata": {}
        },
        {
          "output_type": "display_data",
          "data": {
            "text/plain": [
              "<IPython.core.display.HTML object>"
            ],
            "text/html": [
              "Tracking run with wandb version 0.12.11"
            ]
          },
          "metadata": {}
        },
        {
          "output_type": "display_data",
          "data": {
            "text/plain": [
              "<IPython.core.display.HTML object>"
            ],
            "text/html": [
              "Run data is saved locally in <code>/content/wandb/run-20220403_113934-x5jhrsye</code>"
            ]
          },
          "metadata": {}
        },
        {
          "output_type": "display_data",
          "data": {
            "text/plain": [
              "<IPython.core.display.HTML object>"
            ],
            "text/html": [
              "Syncing run <strong><a href=\"https://wandb.ai/cs6910_assignment/cs6910_assignment2/runs/x5jhrsye\" target=\"_blank\">jolly-sweep-3</a></strong> to <a href=\"https://wandb.ai/cs6910_assignment/cs6910_assignment2\" target=\"_blank\">Weights & Biases</a> (<a href=\"https://wandb.me/run\" target=\"_blank\">docs</a>)<br/>Sweep page:  <a href=\"https://wandb.ai/cs6910_assignment/cs6910_assignment2/sweeps/9sx5rb3i\" target=\"_blank\">https://wandb.ai/cs6910_assignment/cs6910_assignment2/sweeps/9sx5rb3i</a>"
            ]
          },
          "metadata": {}
        },
        {
          "output_type": "stream",
          "name": "stdout",
          "text": [
            "Downloading data from https://storage.googleapis.com/tensorflow/keras-applications/resnet/resnet50_weights_tf_dim_ordering_tf_kernels_notop.h5\n",
            "94773248/94765736 [==============================] - 1s 0us/step\n",
            "94781440/94765736 [==============================] - 1s 0us/step\n",
            "Found 9999 files belonging to 10 classes.\n",
            "Using 8000 files for training.\n",
            "Found 9999 files belonging to 10 classes.\n",
            "Using 1999 files for validation.\n",
            "Epoch 1/8\n",
            "62/62 [==============================] - 23s 296ms/step - loss: 2.9734 - accuracy: 0.1119 - val_loss: 2.2991 - val_accuracy: 0.1146 - _timestamp: 1648986007.0000 - _runtime: 30.0000\n",
            "Epoch 2/8\n",
            "62/62 [==============================] - 18s 276ms/step - loss: 2.4434 - accuracy: 0.1225 - val_loss: 2.2392 - val_accuracy: 0.1375 - _timestamp: 1648986046.0000 - _runtime: 69.0000\n",
            "Epoch 3/8\n",
            "62/62 [==============================] - 19s 277ms/step - loss: 2.5096 - accuracy: 0.1280 - val_loss: 2.2307 - val_accuracy: 0.1458 - _timestamp: 1648986064.0000 - _runtime: 87.0000\n",
            "Epoch 4/8\n",
            "62/62 [==============================] - 18s 268ms/step - loss: 2.3294 - accuracy: 0.1361 - val_loss: 2.2726 - val_accuracy: 0.1208 - _timestamp: 1648986085.0000 - _runtime: 108.0000\n",
            "Epoch 5/8\n",
            "62/62 [==============================] - 19s 278ms/step - loss: 2.2565 - accuracy: 0.1588 - val_loss: 2.1677 - val_accuracy: 0.1792 - _timestamp: 1648986103.0000 - _runtime: 126.0000\n",
            "Epoch 6/8\n",
            "62/62 [==============================] - 18s 269ms/step - loss: 2.2146 - accuracy: 0.1951 - val_loss: 2.1934 - val_accuracy: 0.2000 - _timestamp: 1648986123.0000 - _runtime: 146.0000\n",
            "Epoch 7/8\n",
            "62/62 [==============================] - 18s 276ms/step - loss: 2.2102 - accuracy: 0.1804 - val_loss: 2.1408 - val_accuracy: 0.1771 - _timestamp: 1648986141.0000 - _runtime: 164.0000\n",
            "Epoch 8/8\n",
            "62/62 [==============================] - 19s 279ms/step - loss: 2.1187 - accuracy: 0.2026 - val_loss: 2.1128 - val_accuracy: 0.2042 - _timestamp: 1648986162.0000 - _runtime: 185.0000\n",
            "\n"
          ]
        },
        {
          "output_type": "display_data",
          "data": {
            "text/plain": [
              "<IPython.core.display.HTML object>"
            ],
            "text/html": [
              "Waiting for W&B process to finish... <strong style=\"color:green\">(success).</strong>"
            ]
          },
          "metadata": {}
        },
        {
          "output_type": "display_data",
          "data": {
            "text/plain": [
              "VBox(children=(Label(value='163.874 MB of 163.874 MB uploaded (0.000 MB deduped)\\r'), FloatProgress(value=1.0,…"
            ],
            "application/vnd.jupyter.widget-view+json": {
              "version_major": 2,
              "version_minor": 0,
              "model_id": "41fc1abfc8a543578bf037f6fd4ed090"
            }
          },
          "metadata": {}
        },
        {
          "output_type": "display_data",
          "data": {
            "text/plain": [
              "<IPython.core.display.HTML object>"
            ],
            "text/html": [
              "<style>\n",
              "    table.wandb td:nth-child(1) { padding: 0 10px; text-align: right }\n",
              "    .wandb-row { display: flex; flex-direction: row; flex-wrap: wrap; width: 100% }\n",
              "    .wandb-col { display: flex; flex-direction: column; flex-basis: 100%; flex: 1; padding: 10px; }\n",
              "    </style>\n",
              "<div class=\"wandb-row\"><div class=\"wandb-col\"><h3>Run history:</h3><br/><table class=\"wandb\"><tr><td>accuracy</td><td>▁▂▂▃▅▇▆█</td></tr><tr><td>epoch</td><td>▁▂▃▄▅▆▇█</td></tr><tr><td>loss</td><td>█▄▄▃▂▂▂▁</td></tr><tr><td>val_accuracy</td><td>▁▃▃▁▆█▆█</td></tr><tr><td>val_loss</td><td>█▆▅▇▃▄▂▁</td></tr></table><br/></div><div class=\"wandb-col\"><h3>Run summary:</h3><br/><table class=\"wandb\"><tr><td>accuracy</td><td>0.20262</td></tr><tr><td>best_epoch</td><td>7</td></tr><tr><td>best_val_loss</td><td>2.11285</td></tr><tr><td>epoch</td><td>7</td></tr><tr><td>loss</td><td>2.11869</td></tr><tr><td>val_accuracy</td><td>0.20417</td></tr><tr><td>val_loss</td><td>2.11285</td></tr></table><br/></div></div>"
            ]
          },
          "metadata": {}
        },
        {
          "output_type": "display_data",
          "data": {
            "text/plain": [
              "<IPython.core.display.HTML object>"
            ],
            "text/html": [
              "Synced <strong style=\"color:#cdcd00\">jolly-sweep-3</strong>: <a href=\"https://wandb.ai/cs6910_assignment/cs6910_assignment2/runs/x5jhrsye\" target=\"_blank\">https://wandb.ai/cs6910_assignment/cs6910_assignment2/runs/x5jhrsye</a><br/>Synced 5 W&B file(s), 1 media file(s), 0 artifact file(s) and 1 other file(s)"
            ]
          },
          "metadata": {}
        },
        {
          "output_type": "display_data",
          "data": {
            "text/plain": [
              "<IPython.core.display.HTML object>"
            ],
            "text/html": [
              "Find logs at: <code>./wandb/run-20220403_113934-x5jhrsye/logs</code>"
            ]
          },
          "metadata": {}
        },
        {
          "output_type": "stream",
          "name": "stderr",
          "text": [
            "\u001b[34m\u001b[1mwandb\u001b[0m: Agent Starting Run: 567u4s16 with config:\n",
            "\u001b[34m\u001b[1mwandb\u001b[0m: \tbatchNorm: 0\n",
            "\u001b[34m\u001b[1mwandb\u001b[0m: \tdenseSize: 128\n",
            "\u001b[34m\u001b[1mwandb\u001b[0m: \tdropOut: 0.4\n",
            "\u001b[34m\u001b[1mwandb\u001b[0m: \tisDataAug: 1\n",
            "\u001b[34m\u001b[1mwandb\u001b[0m: \tmodelName: InceptionResNetV2\n",
            "\u001b[34m\u001b[1mwandb\u001b[0m: \tnum_epochs: 4\n",
            "\u001b[34m\u001b[1mwandb\u001b[0m: \toptimizer: adam\n"
          ]
        },
        {
          "output_type": "stream",
          "name": "stdout",
          "text": [
            "Running the Model with the dynamic parameters \n",
            "{'name': 'bayes-PartB-fine-tuning-sweep', 'method': 'bayes', 'metric': {'name': 'val_acc', 'goal': 'maximize'}, 'parameters': {'modelName': {'values': ['ResNet50', 'InceptionV3', 'Xception', 'InceptionResNetV2']}, 'denseSize': {'values': [64, 128]}, 'num_epochs': {'values': [4, 8]}, 'dropOut': {'values': [0.2, 0.4]}, 'batchNorm': {'values': [0, 1]}, 'isDataAug': {'values': [0, 1]}, 'optimizer': {'values': ['adam']}}}\n"
          ]
        },
        {
          "output_type": "display_data",
          "data": {
            "text/plain": [
              "<IPython.core.display.HTML object>"
            ],
            "text/html": [
              "Tracking run with wandb version 0.12.11"
            ]
          },
          "metadata": {}
        },
        {
          "output_type": "display_data",
          "data": {
            "text/plain": [
              "<IPython.core.display.HTML object>"
            ],
            "text/html": [
              "Run data is saved locally in <code>/content/wandb/run-20220403_114254-567u4s16</code>"
            ]
          },
          "metadata": {}
        },
        {
          "output_type": "display_data",
          "data": {
            "text/plain": [
              "<IPython.core.display.HTML object>"
            ],
            "text/html": [
              "Syncing run <strong><a href=\"https://wandb.ai/cs6910_assignment/cs6910_assignment2/runs/567u4s16\" target=\"_blank\">firm-sweep-4</a></strong> to <a href=\"https://wandb.ai/cs6910_assignment/cs6910_assignment2\" target=\"_blank\">Weights & Biases</a> (<a href=\"https://wandb.me/run\" target=\"_blank\">docs</a>)<br/>Sweep page:  <a href=\"https://wandb.ai/cs6910_assignment/cs6910_assignment2/sweeps/9sx5rb3i\" target=\"_blank\">https://wandb.ai/cs6910_assignment/cs6910_assignment2/sweeps/9sx5rb3i</a>"
            ]
          },
          "metadata": {}
        },
        {
          "output_type": "display_data",
          "data": {
            "text/plain": [
              "<IPython.core.display.HTML object>"
            ],
            "text/html": [
              "Finishing last run (ID:567u4s16) before initializing another..."
            ]
          },
          "metadata": {}
        },
        {
          "output_type": "stream",
          "name": "stdout",
          "text": [
            "\n"
          ]
        },
        {
          "output_type": "display_data",
          "data": {
            "text/plain": [
              "<IPython.core.display.HTML object>"
            ],
            "text/html": [
              "Waiting for W&B process to finish... <strong style=\"color:green\">(success).</strong>"
            ]
          },
          "metadata": {}
        },
        {
          "output_type": "display_data",
          "data": {
            "text/plain": [
              "VBox(children=(Label(value='0.001 MB of 0.001 MB uploaded (0.000 MB deduped)\\r'), FloatProgress(value=1.0, max…"
            ],
            "application/vnd.jupyter.widget-view+json": {
              "version_major": 2,
              "version_minor": 0,
              "model_id": "0161ed02ac554673a807b4715a4ac091"
            }
          },
          "metadata": {}
        },
        {
          "output_type": "display_data",
          "data": {
            "text/plain": [
              "<IPython.core.display.HTML object>"
            ],
            "text/html": [
              "Synced <strong style=\"color:#cdcd00\">firm-sweep-4</strong>: <a href=\"https://wandb.ai/cs6910_assignment/cs6910_assignment2/runs/567u4s16\" target=\"_blank\">https://wandb.ai/cs6910_assignment/cs6910_assignment2/runs/567u4s16</a><br/>Synced 4 W&B file(s), 0 media file(s), 0 artifact file(s) and 0 other file(s)"
            ]
          },
          "metadata": {}
        },
        {
          "output_type": "display_data",
          "data": {
            "text/plain": [
              "<IPython.core.display.HTML object>"
            ],
            "text/html": [
              "Find logs at: <code>./wandb/run-20220403_114254-567u4s16/logs</code>"
            ]
          },
          "metadata": {}
        },
        {
          "output_type": "display_data",
          "data": {
            "text/plain": [
              "<IPython.core.display.HTML object>"
            ],
            "text/html": [
              "Successfully finished last run (ID:567u4s16). Initializing new run:<br/>"
            ]
          },
          "metadata": {}
        },
        {
          "output_type": "display_data",
          "data": {
            "text/plain": [
              "<IPython.core.display.HTML object>"
            ],
            "text/html": [
              "Tracking run with wandb version 0.12.11"
            ]
          },
          "metadata": {}
        },
        {
          "output_type": "display_data",
          "data": {
            "text/plain": [
              "<IPython.core.display.HTML object>"
            ],
            "text/html": [
              "Run data is saved locally in <code>/content/wandb/run-20220403_114258-567u4s16</code>"
            ]
          },
          "metadata": {}
        },
        {
          "output_type": "display_data",
          "data": {
            "text/plain": [
              "<IPython.core.display.HTML object>"
            ],
            "text/html": [
              "Syncing run <strong><a href=\"https://wandb.ai/cs6910_assignment/cs6910_assignment2/runs/567u4s16\" target=\"_blank\">firm-sweep-4</a></strong> to <a href=\"https://wandb.ai/cs6910_assignment/cs6910_assignment2\" target=\"_blank\">Weights & Biases</a> (<a href=\"https://wandb.me/run\" target=\"_blank\">docs</a>)<br/>Sweep page:  <a href=\"https://wandb.ai/cs6910_assignment/cs6910_assignment2/sweeps/9sx5rb3i\" target=\"_blank\">https://wandb.ai/cs6910_assignment/cs6910_assignment2/sweeps/9sx5rb3i</a>"
            ]
          },
          "metadata": {}
        },
        {
          "output_type": "stream",
          "name": "stdout",
          "text": [
            "Found 8000 images belonging to 10 classes.\n",
            "Found 1999 images belonging to 10 classes.\n",
            "Epoch 1/4\n",
            "250/250 [==============================] - 349s 1s/step - loss: 2.4256 - accuracy: 0.2301 - val_loss: 1.7758 - val_accuracy: 0.3747 - _timestamp: 1648986542.0000 - _runtime: 360.0000\n",
            "Epoch 2/4\n",
            "163/250 [==================>...........] - ETA: 1:31 - loss: 1.9844 - accuracy: 0.2730"
          ]
        }
      ]
    },
    {
      "cell_type": "code",
      "source": [
        ""
      ],
      "metadata": {
        "id": "6ClFOKvuSvsN"
      },
      "execution_count": null,
      "outputs": []
    },
    {
      "cell_type": "code",
      "source": [
        ""
      ],
      "metadata": {
        "id": "z2hh7WUuqXr7"
      },
      "execution_count": null,
      "outputs": []
    }
  ]
}